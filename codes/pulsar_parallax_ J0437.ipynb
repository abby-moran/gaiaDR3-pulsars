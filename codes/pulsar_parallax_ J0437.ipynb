{
 "cells": [
  {
   "cell_type": "markdown",
   "metadata": {},
   "source": [
    "# Here we look find the distance to pulsar J0437"
   ]
  },
  {
   "cell_type": "code",
   "execution_count": 1,
   "metadata": {},
   "outputs": [],
   "source": [
    "from __future__ import division\n",
    "from IPython.display import display, Math, Latex\n",
    "from math import sin, cos\n",
    "import numpy as np\n",
    "import matplotlib.pyplot as plt\n",
    "from matplotlib.ticker import FormatStrFormatter, LinearLocator, NullFormatter, NullLocator, MultipleLocator\n",
    "import matplotlib.ticker\n",
    "import matplotlib.colors\n",
    "from matplotlib.font_manager import FontProperties\n",
    "from matplotlib import rc, text\n",
    "from scipy.stats import norm\n",
    "import scipy as sp\n",
    "from scipy.integrate import simps\n",
    "from numpy import trapz\n",
    "from scipy.optimize import curve_fit\n",
    "from scipy.special import gamma, factorial\n",
    "\n",
    "%matplotlib inline\n",
    "%config InlineBackend.figure_format = \"retina\""
   ]
  },
  {
   "cell_type": "code",
   "execution_count": 2,
   "metadata": {},
   "outputs": [],
   "source": [
    "c=2.99792458*(10**8)\n",
    "G=6.67428*(10**(-11))\n",
    "s_mass=G*(1.98892*10**(30))/(c**3)\n",
    "\n",
    "# common function shortcuts\n",
    "log10 = np.log10\n",
    "pi = np.pi\n",
    "sqrt = np.sqrt"
   ]
  },
  {
   "cell_type": "code",
   "execution_count": 3,
   "metadata": {},
   "outputs": [],
   "source": [
    "wzp = -0.029 # Quasar Correction; defined in Bailor-Jones but computed in Lindegren et al. 2018"
   ]
  },
  {
   "cell_type": "code",
   "execution_count": 4,
   "metadata": {},
   "outputs": [],
   "source": [
    "# Posterior PDF from Bailor-Jones et al. 2012\n",
    "\n",
    "def pOfR(r, px, dpx, Lsph):\n",
    "    \"\"\"\n",
    "    This is Equation 2 in Bailer-Jones et al. 2018.\n",
    "    NB, r > 0\n",
    "    Here, input r in pc's.\n",
    "    \"\"\"\n",
    "    r = r/1000. #convert pc to kpc\n",
    "    #px = px + 0.029 #Quasar correction already accounted for \n",
    "    exponent = -r/Lsph - (px-wzp-1/r)**2/(2*dpx**2)\n",
    "    ans = r**2*np.exp(exponent)\n",
    "    return ans\n",
    "\n",
    "def gaussian(x, mu, sig):\n",
    "    \"\"\"\n",
    "    a gaussian function\n",
    "    \"\"\"\n",
    "    #x = x/1000\n",
    "    ans = np.exp(-np.power(x - mu, 2.) / (2 * np.power(sig, 2.)))\n",
    "    return ans"
   ]
  },
  {
   "cell_type": "code",
   "execution_count": 5,
   "metadata": {},
   "outputs": [],
   "source": [
    "def pOfR3(r, px, dpx, alpha, beta, L):\n",
    "    #r = r/1000\n",
    "    #distance prior\n",
    "    exponent2= -(r/L)**alpha\n",
    "    prior= (1/(gamma((beta+1)/alpha)))*(alpha/(L**(beta+1)))*((r/1000)**beta)*np.exp(exponent2)\n",
    "    #likelihood (equation 2) \n",
    "    exponent = (-1/(2*(dpx**2)))*(px--0.017-(1/(r/1000)))**2\n",
    "    P = (1/(dpx*sqrt(2*pi)))*np.exp(exponent)\n",
    "    ans=P*prior\n",
    "    return ans"
   ]
  },
  {
   "cell_type": "code",
   "execution_count": 7,
   "metadata": {},
   "outputs": [],
   "source": [
    "# plotting preamble\n",
    "\n",
    "fig_width_pt = 245.27 #513.17           # Get this from LaTeX using \\showthe\\columnwidth\n",
    "inches_per_pt = 1.0/72.27               # Convert pt to inches\n",
    "golden_mean = (np.sqrt(5)-1.0)/2.0      # Aesthetic ratio\n",
    "fig_width = fig_width_pt*inches_per_pt  # width in inches\n",
    "fig_height =fig_width*golden_mean       # height in inches\n",
    "fig_size = [fig_width,fig_height]\n",
    "\n",
    "params = {'backend': 'pdf',\n",
    "        'axes.labelsize': 7,\n",
    "        'lines.markersize': 2,\n",
    "        'font.size': 7,\n",
    "        'xtick.major.size':6,\n",
    "        'xtick.minor.size':3,  \n",
    "        'ytick.major.size':6,\n",
    "        'ytick.minor.size':3, \n",
    "        'xtick.major.width':0.5,\n",
    "        'ytick.major.width':0.5,\n",
    "        'xtick.minor.width':0.5,\n",
    "        'ytick.minor.width':0.5,\n",
    "        'lines.markeredgewidth':1,\n",
    "        'axes.linewidth':1.0,\n",
    "        'legend.fontsize': 7,\n",
    "        'xtick.labelsize': 7,\n",
    "        'ytick.labelsize': 7,\n",
    "        'savefig.dpi':200,\n",
    "        'path.simplify':True,\n",
    "        #'font.family': 'serif',\n",
    "        'font.serif':'Times',\n",
    "        'text.latex.preamble': [r'\\usepackage{amsmath}'],\n",
    "        'text.usetex':True,\n",
    "        #'axes.color_cycle': ['b', 'lime', 'r', 'purple', 'g', 'c', 'm', 'orange', 'darkblue', \\\n",
    "        #                        'darkcyan', 'y','orangered','chartreuse','brown','deeppink','lightgreen', 'k'],\n",
    "        #'font.serif':cm,\n",
    "        'figure.figsize': fig_size}\n",
    "plt.rcParams.update(params)"
   ]
  },
  {
   "cell_type": "markdown",
   "metadata": {},
   "source": [
    "# J0437-4715 parallax measurements"
   ]
  },
  {
   "cell_type": "code",
   "execution_count": 8,
   "metadata": {},
   "outputs": [
    {
     "data": {
      "text/plain": [
       "13.537479111187732"
      ]
     },
     "execution_count": 8,
     "metadata": {},
     "output_type": "execute_result"
    }
   ],
   "source": [
    "#SNR\n",
    "7.100758956026110/0.52452594"
   ]
  },
  {
   "cell_type": "code",
   "execution_count": 9,
   "metadata": {},
   "outputs": [],
   "source": [
    "# Deller et al. 2008\n",
    "pxD08 = 6.396 \n",
    "pxD08err = 0.054"
   ]
  },
  {
   "cell_type": "code",
   "execution_count": 10,
   "metadata": {},
   "outputs": [],
   "source": [
    "# Reardon px\n",
    "pxR = 6.37 \n",
    "pxRerr = 0.09"
   ]
  },
  {
   "cell_type": "code",
   "execution_count": 11,
   "metadata": {},
   "outputs": [],
   "source": [
    "# Dk (pc) from PPTA, Reardon et al. 2016\n",
    "R16 = 156.79\n",
    "R16err = 0.25"
   ]
  },
  {
   "cell_type": "code",
   "execution_count": 12,
   "metadata": {},
   "outputs": [],
   "source": [
    "# Gaia parallax DR2\n",
    "pxGDR2 = 8.325 - wzp\n",
    "pxGDR2err = 0.6777\n",
    "Lsph=0.432138759729853"
   ]
  },
  {
   "cell_type": "code",
   "execution_count": 13,
   "metadata": {},
   "outputs": [],
   "source": [
    "# parallax distance measurement from VLBI observations\n",
    "#d_pi_PTA_0437 = 156.3 \n",
    "#eplus_pi_PTA_0437 = 1.3   # error on this\n",
    "#eminus_pi_PTA_0437 = 1.3   # error on this"
   ]
  },
  {
   "cell_type": "code",
   "execution_count": 14,
   "metadata": {},
   "outputs": [],
   "source": [
    "#Gaia parallax EDR3\n",
    "#Gaia3_px=[]\n",
    "pxGEDR3 = 7.100758956026110 \n",
    "pxGEDR3err = 0.52452594\n",
    "alpha=0.204913351029741\n",
    "beta=4.82473712409893\n",
    "L=7.80639184771093E-05\n",
    "# BJ 2020 reports the median distance to be 142.08081100 pc"
   ]
  },
  {
   "cell_type": "code",
   "execution_count": 15,
   "metadata": {},
   "outputs": [],
   "source": [
    "pxmax = 1\n",
    "pxmin = 20\n",
    "gx = np.linspace(pxmax,pxmin, 10000)"
   ]
  },
  {
   "cell_type": "code",
   "execution_count": 16,
   "metadata": {},
   "outputs": [],
   "source": [
    "dx = np.linspace(50, 1000, 100000)"
   ]
  },
  {
   "cell_type": "code",
   "execution_count": 17,
   "metadata": {},
   "outputs": [],
   "source": [
    "mx= np.linspace(50, 2000, 100000)"
   ]
  },
  {
   "cell_type": "code",
   "execution_count": 18,
   "metadata": {},
   "outputs": [],
   "source": [
    "px=np.linspace(4, 10, 10000)"
   ]
  },
  {
   "cell_type": "code",
   "execution_count": 19,
   "metadata": {},
   "outputs": [],
   "source": [
    "Gaia3_p=sp.stats.norm.pdf(px, pxGEDR3, pxGEDR3err)\n",
    "Gaia2_p=sp.stats.norm.pdf(px, pxGDR2, pxGDR2err)\n",
    "Rearp=sp.stats.norm.pdf(px, pxR, pxRerr)\n",
    "Dep=sp.stats.norm.pdf(px, pxD08, pxD08err)\n",
    "combo3px=Gaia3_p*Rearp*Dep\n",
    "combo2px=Gaia2_p*Rearp*Dep\n",
    "#for x in px:\n",
    " #   Gaia3_px.append(np.norm(x, pxGEDR3, pxGEDR3err))"
   ]
  },
  {
   "cell_type": "code",
   "execution_count": 20,
   "metadata": {},
   "outputs": [],
   "source": [
    "#areaGaia3px = simps(Gaia3_px, px)\n",
    "#Gaia3_px=Gaia3_px/areaGaia3px\n",
    "#Gaia3_px="
   ]
  },
  {
   "cell_type": "code",
   "execution_count": 21,
   "metadata": {},
   "outputs": [],
   "source": [
    "Gaia3_px=Gaia3_p/simps(Gaia3_p, px)\n",
    "Gaia2_px=Gaia2_p/simps(Gaia2_p, px)\n",
    "Rearpx=Rearp/simps(Rearp, px)\n",
    "Depx=Dep/simps(Dep, px)\n",
    "c3px_norm=combo3px/simps(combo3px, px)\n",
    "c2px_norm=combo2px/simps(combo2px, px)"
   ]
  },
  {
   "cell_type": "code",
   "execution_count": 22,
   "metadata": {},
   "outputs": [
    {
     "data": {
      "text/plain": [
       "<matplotlib.legend.Legend at 0x7f8b9012cee0>"
      ]
     },
     "execution_count": 22,
     "metadata": {},
     "output_type": "execute_result"
    },
    {
     "data": {
      "image/png": "[encoded data removed]",
      "text/plain": [
       "<Figure size 244.354x151.019 with 1 Axes>"
      ]
     },
     "metadata": {
      "image/png": {
       "height": 144,
       "width": 220
      },
      "needs_background": "light"
     },
     "output_type": "display_data"
    }
   ],
   "source": [
    "fig, ax1 = plt.subplots()\n",
    "#dx, np.array(dist_px1024.pdf(px1024)\n",
    "plt.plot(px, c3px_norm, label='Gaia 3', color = \"C4\", linestyle='-.')\n",
    "plt.plot(px, c2px_norm, label='Gaia 2', color = \"C5\")#, linestyle='-.')\n",
    "plt.plot(px, Rearpx, label = 'Reardon', color = \"C2\")#, linestyle='-.')\n",
    "plt.plot(px, combo2px, label='combo2', color = \"C3\")\n",
    "plt.plot(px, combo3px, label='combo3', color = \"C1\")\n",
    "plt.legend()\n",
    "#plt.plot(Gaia3_px)"
   ]
  },
  {
   "cell_type": "code",
   "execution_count": 23,
   "metadata": {},
   "outputs": [
    {
     "data": {
      "text/plain": [
       "6.394239423942395"
      ]
     },
     "execution_count": 23,
     "metadata": {},
     "output_type": "execute_result"
    }
   ],
   "source": [
    "for k in range(0, 10000):\n",
    "    if k == 0:\n",
    "        xx50 = px\n",
    "        yy50 = c3px_norm\n",
    "    else:\n",
    "        xx50 = px[0:-k]\n",
    "        yy50 =  c3px_norm[0:-k]\n",
    "    v = np.trapz(yy50, xx50)\n",
    "    if v <= 0.50:\n",
    "        break\n",
    "per_50 = xx50[-1]\n",
    "per_50\n"
   ]
  },
  {
   "cell_type": "code",
   "execution_count": 24,
   "metadata": {},
   "outputs": [
    {
     "data": {
      "text/plain": [
       "6.348634863486349"
      ]
     },
     "execution_count": 24,
     "metadata": {},
     "output_type": "execute_result"
    }
   ],
   "source": [
    "for k in range(0, 10000):\n",
    "    if k == 0:\n",
    "        xx16 = px\n",
    "        yy16 = c3px_norm\n",
    "    else:\n",
    "        xx16 = px[0:-k]\n",
    "        yy16 =  c3px_norm[0:-k]\n",
    "    v = np.trapz(yy16, xx16)\n",
    "    if v <= 0.16:\n",
    "        break\n",
    "per_16 = xx16[-1]\n",
    "per_16"
   ]
  },
  {
   "cell_type": "code",
   "execution_count": 25,
   "metadata": {},
   "outputs": [],
   "source": [
    "c3px=per_50\n",
    "c3pxerr=per_50-per_16"
   ]
  },
  {
   "cell_type": "code",
   "execution_count": 26,
   "metadata": {},
   "outputs": [
    {
     "data": {
      "text/plain": [
       "6.397839783978398"
      ]
     },
     "execution_count": 26,
     "metadata": {},
     "output_type": "execute_result"
    }
   ],
   "source": [
    "for k in range(0, 10000):\n",
    "    if k == 0:\n",
    "        xx50 = px\n",
    "        yy50 = c2px_norm\n",
    "    else:\n",
    "        xx50 = px[0:-k]\n",
    "        yy50 =  c2px_norm[0:-k]\n",
    "    v = np.trapz(yy50, xx50)\n",
    "    if v <= 0.50:\n",
    "        break\n",
    "per_50 = xx50[-1]\n",
    "per_50\n"
   ]
  },
  {
   "cell_type": "code",
   "execution_count": 27,
   "metadata": {},
   "outputs": [
    {
     "data": {
      "text/plain": [
       "6.352235223522353"
      ]
     },
     "execution_count": 27,
     "metadata": {},
     "output_type": "execute_result"
    }
   ],
   "source": [
    "for k in range(0, 10000):\n",
    "    if k == 0:\n",
    "        xx16 = px\n",
    "        yy16 = c2px_norm\n",
    "    else:\n",
    "        xx16 = px[0:-k]\n",
    "        yy16 =  c2px_norm[0:-k]\n",
    "    v = np.trapz(yy16, xx16)\n",
    "    if v <= 0.16:\n",
    "        break\n",
    "per_16 = xx16[-1]\n",
    "per_16"
   ]
  },
  {
   "cell_type": "code",
   "execution_count": 28,
   "metadata": {},
   "outputs": [],
   "source": [
    "c2px=per_50\n",
    "c2pxerr=per_50-per_16"
   ]
  },
  {
   "cell_type": "code",
   "execution_count": 29,
   "metadata": {},
   "outputs": [],
   "source": [
    "valGDR2 = []\n",
    "valD08 = []\n",
    "valR16 = []\n",
    "valGEDR3 = []\n",
    "valc3 =[]\n",
    "valc2 =[]\n",
    "\n",
    "# Gaia EDR3\n",
    "for ww in dx:\n",
    "    valGEDR3.append(pOfR3(ww, pxGEDR3, pxGEDR3err, alpha, beta, L))\n",
    "\n",
    "# Gaia DR2\n",
    "for xx in dx:\n",
    "    valGDR2.append(pOfR(xx, pxGDR2, pxGDR2err, Lsph))\n",
    "\n",
    "# D08\n",
    "for yy in dx:\n",
    "    valD08.append(sp.stats.norm.pdf(yy, 156.3, 1.3))\n",
    "\n",
    "# R16, Pb_dot binary orbital period distance estimator\n",
    "for zz in dx:\n",
    "    valR16.append(sp.stats.norm.pdf(zz, R16, R16err))\n",
    "\n",
    "for ww in dx:\n",
    "    valc3.append(pOfR3(ww, c3px, c3pxerr, alpha, beta, L))\n",
    "                 \n",
    "for ll in dx:\n",
    "    valc2.append(pOfR(ll, c2px, c2pxerr, Lsph))"
   ]
  },
  {
   "cell_type": "code",
   "execution_count": 30,
   "metadata": {},
   "outputs": [],
   "source": [
    "valc3=np.array(valc3)*np.array(valR16)\n",
    "valc2=np.array(valc2)*np.array(valR16)"
   ]
  },
  {
   "cell_type": "code",
   "execution_count": 31,
   "metadata": {},
   "outputs": [],
   "source": [
    "areaT = trapz(valD08, dx) # are curves really normalized to 1?\n",
    "areabj=simps(valGDR2, dx)\n",
    "areaS = simps(valGEDR3, dx) # do this two ways to make sure it's done correctly\n",
    "areac3=simps(valc3, dx)\n",
    "areac2=simps(valc2, dx)"
   ]
  },
  {
   "cell_type": "code",
   "execution_count": 32,
   "metadata": {},
   "outputs": [],
   "source": [
    "# dispersion measure distance from NE 2001\n",
    "d_DM_NE = 138.89317\n",
    "\n",
    "# YMW 16 DM model\n",
    "d_DM_YMW = 156.10378 \n"
   ]
  },
  {
   "cell_type": "code",
   "execution_count": 35,
   "metadata": {},
   "outputs": [
    {
     "data": {
      "image/png": "[encoded data removed]",
      "text/plain": [
       "<Figure size 244.354x151.019 with 1 Axes>"
      ]
     },
     "metadata": {
      "image/png": {
       "height": 150,
       "width": 243
      },
      "needs_background": "light"
     },
     "output_type": "display_data"
    }
   ],
   "source": [
    "fig, ax1 = plt.subplots()\n",
    "#plt.plot(dx, np.array(valR16), label = r\"$D_K$\", color = \"C4\", linestyle='-.')\n",
    "plt.axvline(156.79, label = r\"$D_K$\", color = \"C4\", linestyle='-.') \n",
    "ax1.axvspan(156.79-.25, 156.79+.25, alpha=0.3, color = \"C4\")\n",
    "\n",
    "\n",
    "\n",
    "plt.plot(dx, np.array(valD08)/areaT, label = \"VLBI\", color = \"C3\", linestyle ='-.', alpha=.3)\n",
    "plt.plot(dx, np.array(valGDR2)/areabj, label = \"Gaia DR2\", color = \"C2\", linestyle='dashed')\n",
    "\n",
    "# DM NE 2001 model\n",
    "ax1.axvspan(d_DM_NE*.8, d_DM_NE*1.2, alpha=0.2, color = \"C0\", label = \"NE 2001\")\n",
    "plt.axvline(d_DM_NE, ymin=0, ymax=1, color = \"C0\", linestyle =':')\n",
    "\n",
    "# DM YMW16 model\n",
    "ax1.axvspan(d_DM_YMW*.8, d_DM_YMW*1.2, alpha=0.2, color = \"C1\", label = \"YMW 16\")\n",
    "plt.axvline(d_DM_YMW, ymin=0, ymax=1, color = \"C1\", linestyle =':')\n",
    "\n",
    "#EDR3\n",
    "plt.plot(dx, np.array(valGEDR3)/areaS, label = \"Gaia EDR3\", color = \"C5\", linestyle='dashed')\n",
    "\n",
    "\n",
    "plt.xlim(100, 200)\n",
    "plt.yticks([])\n",
    "plt.xlabel(\"Distance (pc)\")\n",
    "plt.tight_layout()\n",
    "plt.legend()\n",
    "plt.savefig(\"normedDist_J0437.pdf\")"
   ]
  },
  {
   "cell_type": "code",
   "execution_count": 37,
   "metadata": {},
   "outputs": [],
   "source": [
    "#normPI = simps(testingPI, dx) #normalize new combined distance PDF\n",
    "combo2norm = valc2/areac2"
   ]
  },
  {
   "cell_type": "code",
   "execution_count": 38,
   "metadata": {},
   "outputs": [],
   "source": [
    "#normedPInew = np.array(testingPI)/normPI\n",
    "truecombo=valc3/areac3"
   ]
  },
  {
   "cell_type": "code",
   "execution_count": 39,
   "metadata": {},
   "outputs": [
    {
     "name": "stdout",
     "output_type": "stream",
     "text": [
      "The 16th and 84th percentiles:156.50556505565055 and 156.99006990069898\n",
      "The 5th and 95th percentiles:156.3440634406344 and 157.15157151571515\n",
      "156.7430674306743\n"
     ]
    }
   ],
   "source": [
    "#calculating percentiles\n",
    "for k in range(0, 100000):\n",
    "    if k == 0:\n",
    "        xx95 = dx\n",
    "        yy95 = truecombo\n",
    "    else:\n",
    "        xx95 = dx[0:-k]\n",
    "        yy95 = truecombo[0:-k]\n",
    "    v = np.trapz(yy95, xx95)\n",
    "    if v <= 0.95:\n",
    "        break\n",
    "per_95 = xx95[-1]\n",
    "int_95= yy95[-1]\n",
    "\n",
    "for k in range(0, 100000):\n",
    "    if k == 0:\n",
    "        xx5 = dx\n",
    "        yy5 = truecombo\n",
    "    else:\n",
    "        xx5 = dx[0:-k]\n",
    "        yy5 = truecombo[0:-k]\n",
    "    v = np.trapz(yy5, xx5)\n",
    "    if v <= 0.05:\n",
    "        break\n",
    "per_5 = xx5[-1]\n",
    "int_5= yy5[-1]\n",
    "\n",
    "for k in range(0, 100000):\n",
    "    if k == 0:\n",
    "        xx16 = dx\n",
    "        yy16 = truecombo\n",
    "    else:\n",
    "        xx16 = dx[0:-k]\n",
    "        yy16 = truecombo[0:-k]\n",
    "    v = np.trapz(yy16, xx16)\n",
    "    if v <= 0.16:\n",
    "        break\n",
    "per_16 = xx16[-1]\n",
    "int_16= yy16[-1]\n",
    "\n",
    "for k in range(0, 100000):\n",
    "    if k == 0:\n",
    "        xx84 = dx\n",
    "        yy84 = truecombo\n",
    "    else:\n",
    "        xx84 = dx[0:-k]\n",
    "        yy84 = truecombo[0:-k]\n",
    "    v = np.trapz(yy84, xx84)\n",
    "    if v <= 0.84:\n",
    "        break\n",
    "per_84 = xx84[-1]\n",
    "int_84= yy84[-1]\n",
    "\n",
    "for k in range(0, 100000):\n",
    "    if k == 0:\n",
    "        xx50 = dx\n",
    "        yy50 = truecombo\n",
    "    else:\n",
    "        xx50 = dx[0:-k]\n",
    "        yy50 = truecombo[0:-k]\n",
    "    v = np.trapz(yy50, xx50)\n",
    "    if v <= 0.50:\n",
    "        break\n",
    "per_50 = xx50[-1]\n",
    "\n",
    "print (\"The 16th and 84th percentiles:\" + str(per_16) + \" and \" + str(per_84))\n",
    "print (\"The 5th and 95th percentiles:\" + str(per_5) + \" and \" + str(per_95))\n",
    "print (per_50)"
   ]
  },
  {
   "cell_type": "code",
   "execution_count": 40,
   "metadata": {},
   "outputs": [
    {
     "data": {
      "text/plain": [
       "1.6336371334117654"
      ]
     },
     "execution_count": 40,
     "metadata": {},
     "output_type": "execute_result"
    }
   ],
   "source": [
    "#gaussian, so median=peak\n",
    "int_50= yy50[-1]\n",
    "int_50"
   ]
  },
  {
   "cell_type": "code",
   "execution_count": 41,
   "metadata": {},
   "outputs": [
    {
     "data": {
      "text/plain": [
       "array([156.75256753])"
      ]
     },
     "execution_count": 41,
     "metadata": {},
     "output_type": "execute_result"
    }
   ],
   "source": [
    "#find peak of distribution\n",
    "truecombo.max()\n",
    "peak=np.where(truecombo==truecombo.max())\n",
    "dx[peak]"
   ]
  },
  {
   "cell_type": "code",
   "execution_count": 42,
   "metadata": {},
   "outputs": [
    {
     "data": {
      "text/plain": [
       "[<matplotlib.lines.Line2D at 0x7f8b50a857c0>]"
      ]
     },
     "execution_count": 42,
     "metadata": {},
     "output_type": "execute_result"
    },
    {
     "data": {
      "image/png": "[encoded data removed]",
      "text/plain": [
       "<Figure size 244.354x151.019 with 1 Axes>"
      ]
     },
     "metadata": {
      "image/png": {
       "height": 152,
       "width": 222
      },
      "needs_background": "light"
     },
     "output_type": "display_data"
    }
   ],
   "source": [
    "fig, ax1 = plt.subplots()\n",
    "plt.plot(dx, np.array(valGEDR3), label = \"Combined\", color = \"C4\", linestyle='solid')"
   ]
  },
  {
   "cell_type": "code",
   "execution_count": 43,
   "metadata": {},
   "outputs": [
    {
     "data": {
      "image/png": "[encoded data removed]",
      "text/plain": [
       "<Figure size 244.354x151.019 with 1 Axes>"
      ]
     },
     "metadata": {
      "image/png": {
       "height": 150,
       "width": 240
      },
      "needs_background": "light"
     },
     "output_type": "display_data"
    }
   ],
   "source": [
    "fig, ax1 = plt.subplots()\n",
    "\n",
    "# percentile\n",
    "plt.axvline(per_5, ymin=0, ymax=int_5/1.65, color = \"b\", label = \"5, 95 \\%\", linestyle=\":\")\n",
    "plt.axvline(per_84, ymin=0, ymax=int_84/1.65, color = \"k\", label= \"84, 16 \\%\", linestyle=\":\")\n",
    "plt.axvline(per_16, ymin=0, ymax=int_16/1.65, color = \"k\", linestyle=\":\")\n",
    "plt.axvline(per_95, ymin=0, ymax=int_95/1.65, color = \"b\", linestyle=\":\")\n",
    "plt.axvline(dx[peak], ymin=0, ymax=.94, color = \"k\", label = \"Peak\", linestyle=\"-\", alpha =.7)\n",
    "\n",
    "#plt.axvline(156.79, label = r\"$D_K$\", color = \"C5\", linestyle='-.') \n",
    "#ax1.axvspan(156.79-.25, 156.79+.25, alpha=0.3, color = \"C5\")\n",
    "\n",
    "plt.plot(dx, np.array(valD08), label = \"VLBI\", color = \"C3\", linestyle ='-.', alpha=.8)\n",
    "\n",
    "# DM NE 2001 model\n",
    "#ax1.axvspan(d_DM_NE*.8, d_DM_NE*1.2, alpha=0.2, color = \"C0\", label = \"NE 2001\")\n",
    "#plt.axvline(d_DM_NE, ymin=0, ymax=1, color = \"C0\", linestyle =':')\n",
    "\n",
    "# DM YMW16 model\n",
    "#ax1.axvspan(d_DM_YMW*.8, d_DM_YMW*1.2, alpha=0.2, color = \"C1\", label = \"YMW 16\")\n",
    "#plt.axvline(d_DM_YMW, ymin=0, ymax=1, color = \"C1\", linestyle =':')\n",
    "\n",
    "plt.plot(dx, np.array(truecombo), label = \"Combined\", color = \"C4\", linestyle='solid')\n",
    "plt.plot(dx, np.array(valGEDR3)/areaS, label = \"Gaia EDR3\", color = \"C2\", linestyle='--')\n",
    "\n",
    "\n",
    "plt.xlim(153, 160)\n",
    "#plt.yticks([])\n",
    "plt.xlabel(\"Distance (pc)\")\n",
    "plt.tight_layout()\n",
    "plt.legend()\n",
    "plt.savefig(\"normedDist_J0437_final.pdf\")"
   ]
  },
  {
   "cell_type": "code",
   "execution_count": 44,
   "metadata": {},
   "outputs": [
    {
     "data": {
      "text/plain": [
       "<matplotlib.legend.Legend at 0x7f8b50aaa460>"
      ]
     },
     "execution_count": 44,
     "metadata": {},
     "output_type": "execute_result"
    },
    {
     "data": {
      "image/png": "[encoded data removed]",
      "text/plain": [
       "<Figure size 244.354x151.019 with 1 Axes>"
      ]
     },
     "metadata": {
      "image/png": {
       "height": 150,
       "width": 240
      },
      "needs_background": "light"
     },
     "output_type": "display_data"
    }
   ],
   "source": [
    "fig, ax1 = plt.subplots()\n",
    "plt.plot(dx, truecombo, label = \"combined\", color = \"C4\", linestyle='solid')\n",
    "\n",
    "\n",
    "plt.plot(dx, np.array(valD08),label = \"VLBI\", color = \"C3\", linestyle ='-.')\n",
    "#plt.plot(dx, np.array(valR16), label = r\"$D_K$\", color = \"C1\", linestyle='-.')\n",
    "\n",
    "#plt.yticks([])\n",
    "plt.xlim(150,160)\n",
    "plt.xlabel(\"Distance (pc)\")\n",
    "plt.tight_layout()\n",
    "plt.legend()"
   ]
  },
  {
   "cell_type": "code",
   "execution_count": 45,
   "metadata": {},
   "outputs": [
    {
     "data": {
      "image/png": "[encoded data removed]",
      "text/plain": [
       "<Figure size 244.354x151.019 with 1 Axes>"
      ]
     },
     "metadata": {
      "image/png": {
       "height": 150,
       "width": 243
      },
      "needs_background": "light"
     },
     "output_type": "display_data"
    }
   ],
   "source": [
    "fig, ax1 = plt.subplots()\n",
    "\n",
    "plt.plot(dx, np.array(truecombo), label = \"Combo Gaia EDR3\", color = \"C4\", linestyle='solid')\n",
    "plt.plot(dx, np.array(combo2norm), label = \"Combo Gaia DR2\", color = \"C8\", linestyle='solid')\n",
    "#plt.plot(dx, np.array(valD08), label = \"VLBI\", color = \"C3\", linestyle ='-.')\n",
    "plt.axvline(dx[peak], ymin=0, ymax=int_50/1.72, color = \"k\", label = \"Peak\", linestyle=\"-\", alpha =.7)\n",
    "\n",
    "plt.axvline(per_5, ymin=0, ymax=int_5/1.65, color = \"b\", label = \"5, 95 \\%\", linestyle=\":\")\n",
    "plt.axvline(per_84, ymin=0, ymax=(int_84/1.65), color = \"k\", label= \"84, 16 \\%\", linestyle=\":\")\n",
    "plt.axvline(per_16, ymin=0, ymax=int_16/1.65, color = \"k\", linestyle=\":\")\n",
    "plt.axvline(per_95, ymin=0, ymax=int_95/1.65, color = \"b\", linestyle=\":\")\n",
    "\n",
    "# DM NE 2001 model\n",
    "#ax1.axvspan(d_DM_NE*.8, d_DM_NE*1.2, alpha=0.2, color = \"C0\", label = \"NE 2001\")\n",
    "#plt.axvline(d_DM_NE, ymin=0, ymax=1, color = \"C0\", linestyle =':')\n",
    "\n",
    "# DM YMW16 model\n",
    "#ax1.axvspan(d_DM_YMW*.8, d_DM_YMW*1.2, alpha=0.2, color = \"C1\", label = \"YMW 16\")\n",
    "#plt.axvline(d_DM_YMW, ymin=0, ymax=1, color = \"C1\", linestyle =':')\n",
    "\n",
    "#plt.axvline(156.79, label = r\"$D_K$\", color = \"C4\", linestyle='-.') \n",
    "#ax1.axvspan(156.79-.25, 156.79+.25, alpha=0.3, color = \"C4\")\n",
    "\n",
    "#plt.plot(dx, np.array(valD08), label = \"VLBI\", color = \"C3\", linestyle ='-.', alpha=.3)\n",
    "plt.plot(dx, np.array(valGDR2)/areabj, label = \"Gaia DR2\", color = \"C2\", linestyle='dashed')\n",
    "\n",
    "#EDR3\n",
    "plt.plot(dx, np.array(valGEDR3)/areaS, label = \"Gaia EDR3\", color = \"C5\", linestyle='dashed')\n",
    "\n",
    "plt.yticks([])\n",
    "plt.xlim(155.8,158.2)\n",
    "plt.xlabel(\"Distance (pc)\")\n",
    "#plt.ylabel(\"Probability\")\n",
    "plt.tight_layout()\n",
    "plt.legend()\n",
    "plt.savefig(\"combo_comp_0437.pdf\")"
   ]
  },
  {
   "cell_type": "code",
   "execution_count": null,
   "metadata": {},
   "outputs": [],
   "source": []
  }
 ],
 "metadata": {
  "kernelspec": {
   "display_name": "Python 3 (ipykernel)",
   "language": "python",
   "name": "python3"
  },
  "language_info": {
   "codemirror_mode": {
    "name": "ipython",
    "version": 3
   },
   "file_extension": ".py",
   "mimetype": "text/x-python",
   "name": "python",
   "nbconvert_exporter": "python",
   "pygments_lexer": "ipython3",
   "version": "3.8.8"
  }
 },
 "nbformat": 4,
 "nbformat_minor": 2
}
