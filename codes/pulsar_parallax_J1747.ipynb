{
 "cells": [
  {
   "cell_type": "code",
   "execution_count": 1,
   "metadata": {},
   "outputs": [],
   "source": [
    "from __future__ import division\n",
    "from IPython.display import display, Math, Latex\n",
    "from math import sin, cos\n",
    "import numpy as np\n",
    "import matplotlib.pyplot as plt\n",
    "from matplotlib.ticker import FormatStrFormatter, LinearLocator, NullFormatter, NullLocator, MultipleLocator\n",
    "import matplotlib.ticker\n",
    "import matplotlib.colors\n",
    "from matplotlib.font_manager import FontProperties\n",
    "from matplotlib import rc, text\n",
    "from scipy.stats import norm\n",
    "import scipy as sp\n",
    "from scipy.integrate import simps\n",
    "from numpy import trapz\n",
    "from scipy.optimize import curve_fit\n",
    "from scipy.special import gamma, factorial\n",
    "\n",
    "%matplotlib inline\n",
    "%config InlineBackend.figure_format = \"retina\""
   ]
  },
  {
   "cell_type": "code",
   "execution_count": 2,
   "metadata": {},
   "outputs": [],
   "source": [
    "c=2.99792458*(10**8)\n",
    "G=6.67428*(10**(-11))\n",
    "s_mass=G*(1.98892*10**(30))/(c**3)\n",
    "\n",
    "# common function shortcuts\n",
    "log10 = np.log10\n",
    "pi = np.pi\n",
    "sqrt = np.sqrt"
   ]
  },
  {
   "cell_type": "code",
   "execution_count": 3,
   "metadata": {},
   "outputs": [],
   "source": [
    "def pOfR3(r, px, dpx, alpha, beta, L):\n",
    "    \"\"\"\n",
    "    Bailer-Jones et al. 2020 geometric prior\n",
    "    \"\"\"\n",
    "    #r = r/1000\n",
    "    #distance prior\n",
    "    exponent2= -(r/L)**alpha\n",
    "    prior= (1/(gamma((beta+1)/alpha)))*(alpha/(L**(beta+1)))*((r/1000)**beta)*np.exp(exponent2)\n",
    "    #likelihood (equation 2) \n",
    "    exponent = (-1/(2*(dpx**2)))*((px)--.017-(1/(r/1000)))**2\n",
    "    P = (1/(dpx*sqrt(2*pi)))*np.exp(exponent)\n",
    "    ans=P*prior\n",
    "    return ans"
   ]
  },
  {
   "cell_type": "code",
   "execution_count": 4,
   "metadata": {},
   "outputs": [],
   "source": [
    "# Posterior PDF from Bailor-Jones et al. (for DR2)\n",
    "\n",
    "def pOfR(r, px, dpx, Lsph):\n",
    "    \"\"\"\n",
    "    This is Equation 2 in Bailer-Jones et al. 2018.\n",
    "    Here, input r in pc's.\n",
    "    \"\"\"\n",
    "    r = r/1000. #convert pc to kpc\n",
    "   # px = px + 0.029 #Quasar correction\n",
    "    exponent = -r/Lsph - (px-wzp-1/r)**2/(2*dpx**2)\n",
    "    ans = r**2*np.exp(exponent)\n",
    "    return ans"
   ]
  },
  {
   "cell_type": "code",
   "execution_count": 5,
   "metadata": {},
   "outputs": [],
   "source": [
    "wzp = -0.029"
   ]
  },
  {
   "cell_type": "code",
   "execution_count": 6,
   "metadata": {},
   "outputs": [],
   "source": [
    "def p3(r, px, dpx, prior):#alpha, beta, L):\n",
    "    \"\"\"\n",
    "    Bailer-Jones et al. 2020 geometric prior\n",
    "    \"\"\"\n",
    "    r = r/1000\n",
    "    prior=prior/1000\n",
    "    #distance prior\n",
    "    #exponent2= -(r/L)**alpha\n",
    "    #prior= (1/(gamma((beta+1)/alpha)))*(alpha/(L**(beta+1)))*(r**beta)*np.exp(exponent2)\n",
    "    #likelihood (equation 2) \n",
    "    exponent = (-1/(2*(dpx**2)))*((px)--.017-(1/r))**2\n",
    "    P = (1/(dpx*sqrt(2*pi)))*np.exp(exponent)\n",
    "    ans=P*prior\n",
    "    return ans"
   ]
  },
  {
   "cell_type": "code",
   "execution_count": 7,
   "metadata": {},
   "outputs": [],
   "source": [
    "# plotting preamble\n",
    "\n",
    "fig_width_pt = 245.27 #513.17           # Get this from LaTeX using \\showthe\\columnwidth\n",
    "inches_per_pt = 1.0/72.27               # Convert pt to inches\n",
    "golden_mean = (np.sqrt(5)-1.0)/2.0      # Aesthetic ratio\n",
    "fig_width = fig_width_pt*inches_per_pt  # width in inches\n",
    "fig_height =fig_width*golden_mean       # height in inches\n",
    "fig_size = [fig_width,fig_height]\n",
    "\n",
    "params = {'backend': 'pdf',\n",
    "        'axes.labelsize': 7,\n",
    "        'lines.markersize': 2,\n",
    "        'font.size': 7,\n",
    "        'xtick.major.size':6,\n",
    "        'xtick.minor.size':3,  \n",
    "        'ytick.major.size':6,\n",
    "        'ytick.minor.size':3, \n",
    "        'xtick.major.width':0.5,\n",
    "        'ytick.major.width':0.5,\n",
    "        'xtick.minor.width':0.5,\n",
    "        'ytick.minor.width':0.5,\n",
    "        'lines.markeredgewidth':1,\n",
    "        'axes.linewidth':1.0,\n",
    "        'legend.fontsize': 7,\n",
    "        'xtick.labelsize': 7,\n",
    "        'ytick.labelsize': 7,\n",
    "        'savefig.dpi':200,\n",
    "        'path.simplify':True,\n",
    "        #'font.family': 'serif',\n",
    "        'font.serif':'Times',\n",
    "        'text.latex.preamble': [r'\\usepackage{amsmath}'],\n",
    "        'text.usetex':True,\n",
    "        #'axes.color_cycle': ['b', 'lime', 'r', 'purple', 'g', 'c', 'm', 'orange', 'darkblue', \\\n",
    "        #                        'darkcyan', 'y','orangered','chartreuse','brown','deeppink','lightgreen', 'k'],\n",
    "        #'font.serif':cm,\n",
    "        'figure.figsize': fig_size}\n",
    "plt.rcParams.update(params)"
   ]
  },
  {
   "cell_type": "markdown",
   "metadata": {},
   "source": [
    "# Distances to J1747"
   ]
  },
  {
   "cell_type": "code",
   "execution_count": 8,
   "metadata": {},
   "outputs": [
    {
     "data": {
      "text/plain": [
       "-1.9112265318491761"
      ]
     },
     "execution_count": 8,
     "metadata": {},
     "output_type": "execute_result"
    }
   ],
   "source": [
    "#SNR of 080\n",
    "-0.8826751277896280/0.461837"
   ]
  },
  {
   "cell_type": "code",
   "execution_count": 9,
   "metadata": {},
   "outputs": [],
   "source": [
    "# dispersion measure distance from NE 2001\n",
    "d_DM_NE_1747 = 3391.485\n",
    "\n",
    "# YMW 16 DM model\n",
    "d_DM_YMW_1747 = 7151.7505"
   ]
  },
  {
   "cell_type": "code",
   "execution_count": 10,
   "metadata": {},
   "outputs": [],
   "source": [
    "pxmax = 1\n",
    "pxmin = 15003\n",
    "gx = np.linspace(pxmax, pxmin, 12001)"
   ]
  },
  {
   "cell_type": "code",
   "execution_count": 11,
   "metadata": {},
   "outputs": [],
   "source": [
    "#IPTA parallax measurement\n",
    "pxPTA = .40#*1000\n",
    "pxPTAerr = 0.70#*1000"
   ]
  },
  {
   "cell_type": "code",
   "execution_count": 12,
   "metadata": {},
   "outputs": [],
   "source": [
    "px080 = -0.8826751277896280\n",
    "px080err = 0.461837\n",
    "alpha080=2.13152278823761\n",
    "beta080=1.42339630769202\n",
    "L080=6026.29035091048\n",
    "prior080=7797.021\n",
    "# Gaia EDR3 estimate\n",
    "Gaia080 = []\n",
    "for xx in gx:\n",
    "    Gaia080.append(pOfR3(xx, px080, px080err, alpha080, beta080, L080))"
   ]
  },
  {
   "cell_type": "code",
   "execution_count": 13,
   "metadata": {},
   "outputs": [
    {
     "data": {
      "text/plain": [
       "[<matplotlib.lines.Line2D at 0x7fed2b0febe0>]"
      ]
     },
     "execution_count": 13,
     "metadata": {},
     "output_type": "execute_result"
    },
    {
     "data": {
      "image/png": "[encoded data removed]",
      "text/plain": [
       "<Figure size 244.354x151.019 with 1 Axes>"
      ]
     },
     "metadata": {
      "image/png": {
       "height": 152,
       "width": 216
      },
      "needs_background": "light"
     },
     "output_type": "display_data"
    }
   ],
   "source": [
    "plt.plot(gx, Gaia080)"
   ]
  },
  {
   "cell_type": "code",
   "execution_count": 14,
   "metadata": {},
   "outputs": [],
   "source": [
    "px544 = 1.8298053540223800\n",
    "px544err = 0.96622145\n",
    "alpha544=2.13152278823761\n",
    "beta544=1.42339630769202\n",
    "L544=6026.29035091048\n",
    "Gaia544 = []\n",
    "for xx in gx:\n",
    "    Gaia544.append(pOfR3(xx, px544, px544err, alpha544, beta544, L544))"
   ]
  },
  {
   "cell_type": "code",
   "execution_count": 15,
   "metadata": {},
   "outputs": [],
   "source": [
    "px=np.linspace(-2, 2, 1000)"
   ]
  },
  {
   "cell_type": "code",
   "execution_count": 16,
   "metadata": {},
   "outputs": [],
   "source": [
    "Gaia544_p=sp.stats.norm.pdf(px, px544, px544err)\n",
    "Gaia080_p=sp.stats.norm.pdf(px, px080, px080err)\n",
    "PTAp=sp.stats.norm.pdf(px, pxPTA, pxPTAerr)\n",
    "combo544px=Gaia544_p*PTAp\n",
    "combo080px=Gaia080_p*PTAp"
   ]
  },
  {
   "cell_type": "code",
   "execution_count": 17,
   "metadata": {},
   "outputs": [],
   "source": [
    "Gaia544_px=Gaia544_p/simps(Gaia544_p, px)\n",
    "Gaia080_px=Gaia080_p/simps(Gaia080_p, px)\n",
    "PTApx=PTAp/simps(PTAp, px)\n",
    "c544px_norm=combo544px/simps(combo544px, px)\n",
    "c080px_norm=combo080px/simps(combo080px, px)"
   ]
  },
  {
   "cell_type": "code",
   "execution_count": 18,
   "metadata": {},
   "outputs": [
    {
     "data": {
      "text/plain": [
       "<matplotlib.legend.Legend at 0x7fed2b1dabb0>"
      ]
     },
     "execution_count": 18,
     "metadata": {},
     "output_type": "execute_result"
    },
    {
     "data": {
      "image/png": "[encoded data removed]",
      "text/plain": [
       "<Figure size 244.354x151.019 with 1 Axes>"
      ]
     },
     "metadata": {
      "image/png": {
       "height": 144,
       "width": 222
      },
      "needs_background": "light"
     },
     "output_type": "display_data"
    }
   ],
   "source": [
    "fig, ax1 = plt.subplots()\n",
    "#dx, np.array(dist_px1024.pdf(px1024)\n",
    "plt.plot(px, c544px_norm, label='combo 544', color = \"C4\", linestyle='-.')\n",
    "plt.plot(px, c080px_norm, label='combo 080', color = \"C5\")#, linestyle='-.')\n",
    "plt.plot(px, PTApx, label = 'PTA', color = \"C2\")#, linestyle='-.')\n",
    "plt.plot(px, Gaia544_px, label='Gaia 544', color = \"C3\")\n",
    "plt.plot(px, Gaia080_px, label='Gaia 080', color = \"C1\")\n",
    "plt.legend()\n",
    "#plt.plot(Gaia3_px)"
   ]
  },
  {
   "cell_type": "code",
   "execution_count": 19,
   "metadata": {},
   "outputs": [
    {
     "data": {
      "text/plain": [
       "0.870870870870871"
      ]
     },
     "execution_count": 19,
     "metadata": {},
     "output_type": "execute_result"
    }
   ],
   "source": [
    "for k in range(0, 10000):\n",
    "    if k == 0:\n",
    "        xx50 = px\n",
    "        yy50 = c544px_norm\n",
    "    else:\n",
    "        xx50 = px[0:-k]\n",
    "        yy50 =  c544px_norm[0:-k]\n",
    "    v = np.trapz(yy50, xx50)\n",
    "    if v <= 0.50:\n",
    "        break\n",
    "per_50 = xx50[-1]\n",
    "per_50\n"
   ]
  },
  {
   "cell_type": "code",
   "execution_count": 20,
   "metadata": {},
   "outputs": [
    {
     "data": {
      "text/plain": [
       "0.31831831831831847"
      ]
     },
     "execution_count": 20,
     "metadata": {},
     "output_type": "execute_result"
    }
   ],
   "source": [
    "for k in range(0, 10000):\n",
    "    if k == 0:\n",
    "        xx16 = px\n",
    "        yy16 = c544px_norm\n",
    "    else:\n",
    "        xx16 = px[0:-k]\n",
    "        yy16 =  c544px_norm[0:-k]\n",
    "    v = np.trapz(yy16, xx16)\n",
    "    if v <= 0.16:\n",
    "        break\n",
    "per_16 = xx16[-1]\n",
    "per_16"
   ]
  },
  {
   "cell_type": "code",
   "execution_count": 21,
   "metadata": {},
   "outputs": [],
   "source": [
    "c544px=per_50\n",
    "c544pxerr=per_50-per_16"
   ]
  },
  {
   "cell_type": "code",
   "execution_count": 22,
   "metadata": {},
   "outputs": [
    {
     "data": {
      "text/plain": [
       "-0.49449449449449445"
      ]
     },
     "execution_count": 22,
     "metadata": {},
     "output_type": "execute_result"
    }
   ],
   "source": [
    "for k in range(0, 10000):\n",
    "    if k == 0:\n",
    "        xx50 = px\n",
    "        yy50 = c080px_norm\n",
    "    else:\n",
    "        xx50 = px[0:-k]\n",
    "        yy50 =  c080px_norm[0:-k]\n",
    "    v = np.trapz(yy50, xx50)\n",
    "    if v <= 0.50:\n",
    "        break\n",
    "per_50 = xx50[-1]\n",
    "per_50"
   ]
  },
  {
   "cell_type": "code",
   "execution_count": 23,
   "metadata": {},
   "outputs": [
    {
     "data": {
      "text/plain": [
       "-0.8788788788788788"
      ]
     },
     "execution_count": 23,
     "metadata": {},
     "output_type": "execute_result"
    }
   ],
   "source": [
    "for k in range(0, 10000):\n",
    "    if k == 0:\n",
    "        xx16 = px\n",
    "        yy16 = c080px_norm\n",
    "    else:\n",
    "        xx16 = px[0:-k]\n",
    "        yy16 =  c080px_norm[0:-k]\n",
    "    v = np.trapz(yy16, xx16)\n",
    "    if v <= 0.16:\n",
    "        break\n",
    "per_16 = xx16[-1]\n",
    "per_16"
   ]
  },
  {
   "cell_type": "code",
   "execution_count": 24,
   "metadata": {},
   "outputs": [],
   "source": [
    "c080px=per_50\n",
    "c080pxerr=per_50-per_16"
   ]
  },
  {
   "cell_type": "code",
   "execution_count": 25,
   "metadata": {},
   "outputs": [],
   "source": [
    "valc544=[]\n",
    "valc080=[]\n",
    "\n",
    "for xx in gx:\n",
    "    valc544.append(pOfR3(xx, c544px, c544pxerr, alpha544, beta544, L544))\n",
    "    \n",
    "for yy in gx:\n",
    "    valc080.append(pOfR3(yy, c080px, c080pxerr, alpha080, beta080, L080))"
   ]
  },
  {
   "cell_type": "code",
   "execution_count": 26,
   "metadata": {},
   "outputs": [],
   "source": [
    "valPTA=[]\n",
    "\n",
    "for zz in gx:\n",
    "    valPTA.append(pOfR(zz, pxPTA, pxPTAerr, 1.94743888544794))"
   ]
  },
  {
   "cell_type": "code",
   "execution_count": 27,
   "metadata": {},
   "outputs": [],
   "source": [
    "area080 = simps(Gaia080, gx)\n",
    "areaPTA = simps(valPTA, gx)\n",
    "area544 = simps (Gaia544, gx)\n",
    "areac544 = simps(valc544, gx)\n",
    "areac080=simps(valc080, gx)"
   ]
  },
  {
   "cell_type": "code",
   "execution_count": 28,
   "metadata": {},
   "outputs": [],
   "source": [
    "truecombo544=valc544/areac544\n",
    "truecombo080=valc080/areac080"
   ]
  },
  {
   "cell_type": "code",
   "execution_count": 29,
   "metadata": {},
   "outputs": [
    {
     "data": {
      "text/plain": [
       "[<matplotlib.lines.Line2D at 0x7fed087eadc0>]"
      ]
     },
     "execution_count": 29,
     "metadata": {},
     "output_type": "execute_result"
    },
    {
     "data": {
      "image/png": "[encoded data removed]",
      "text/plain": [
       "<Figure size 244.354x151.019 with 1 Axes>"
      ]
     },
     "metadata": {
      "image/png": {
       "height": 144,
       "width": 239
      },
      "needs_background": "light"
     },
     "output_type": "display_data"
    }
   ],
   "source": [
    "plt.plot(gx, truecombo544)\n",
    "plt.plot(gx, truecombo080)\n",
    "#plt.plot(gx, valPTA/areaPTA)"
   ]
  },
  {
   "cell_type": "code",
   "execution_count": 30,
   "metadata": {},
   "outputs": [
    {
     "name": "stdout",
     "output_type": "stream",
     "text": [
      "16/84:2438.825 and 7832.044\n"
     ]
    },
    {
     "data": {
      "text/plain": [
       "4827.8935"
      ]
     },
     "execution_count": 30,
     "metadata": {},
     "output_type": "execute_result"
    }
   ],
   "source": [
    "#calculating percentiles \n",
    "\n",
    "for k in range(0, 100000):\n",
    "    if k == 0:\n",
    "        xx95 = gx\n",
    "        yy95 = truecombo544\n",
    "    else:\n",
    "        xx95 = gx[0:-k]\n",
    "        yy95 = truecombo544[0:-k]\n",
    "    v = np.trapz(yy95, xx95)\n",
    "    if v <= 0.95:\n",
    "        break\n",
    "per_95_5 = xx95[-1]\n",
    "int_95_5= yy95[-1]\n",
    "\n",
    "for k in range(0, 100000):\n",
    "    if k == 0:\n",
    "        xx5 = gx\n",
    "        yy5 = truecombo544\n",
    "    else:\n",
    "        xx5 = gx[0:-k]\n",
    "        yy5 = truecombo544[0:-k]\n",
    "    v = np.trapz(yy5, xx5)\n",
    "    if v <= 0.05:\n",
    "        break\n",
    "per_5_5 = xx5[-1]\n",
    "int_5_5= yy5[-1]\n",
    "\n",
    "for k in range(0, 100000):\n",
    "    if k == 0:\n",
    "        xx16 = gx\n",
    "        yy16 = truecombo544\n",
    "    else:\n",
    "        xx16 = gx[0:-k]\n",
    "        yy16 = truecombo544[0:-k]\n",
    "    v = np.trapz(yy16, xx16)\n",
    "    if v <= 0.16:\n",
    "        break\n",
    "per_16_5 = xx16[-1]\n",
    "int_16_5= yy16[-1]\n",
    "\n",
    "for k in range(0, 100000):\n",
    "    if k == 0:\n",
    "        xx84 = gx\n",
    "        yy84 = truecombo544\n",
    "    else:\n",
    "        xx84 = gx[0:-k]\n",
    "        yy84 = truecombo544[0:-k]\n",
    "    v = np.trapz(yy84, xx84)\n",
    "    if v <= 0.84:\n",
    "        break\n",
    "per_84_5 = xx84[-1]\n",
    "int_84_5= yy84[-1]\n",
    "    \n",
    "for k in range(0, 100000):\n",
    "    if k == 0:\n",
    "        xx50 = gx\n",
    "        yy50 = truecombo544\n",
    "    else:\n",
    "        xx50 = gx[0:-k]\n",
    "        yy50 = truecombo544[0:-k]\n",
    "    v = np.trapz(yy50, xx50)\n",
    "    if v <= 0.50:\n",
    "        break\n",
    "per_50_5 = xx50[-1]\n",
    "\n",
    "print (\"16/84:\" + str(per_16_5) + \" and \"+ str(per_84_5))\n",
    "per_50_5"
   ]
  },
  {
   "cell_type": "code",
   "execution_count": 31,
   "metadata": {},
   "outputs": [
    {
     "data": {
      "text/plain": [
       "-6427.239523203088"
      ]
     },
     "execution_count": 31,
     "metadata": {},
     "output_type": "execute_result"
    }
   ],
   "source": [
    "1404.8044767969125-per_84_5"
   ]
  },
  {
   "cell_type": "code",
   "execution_count": 32,
   "metadata": {},
   "outputs": [
    {
     "data": {
      "text/plain": [
       "array([4027.78683333])"
      ]
     },
     "execution_count": 32,
     "metadata": {},
     "output_type": "execute_result"
    }
   ],
   "source": [
    "#calculating peak\n",
    "truecombo544.max()\n",
    "peak_5=np.where(truecombo544==truecombo544.max())\n",
    "gx[peak_5]"
   ]
  },
  {
   "cell_type": "code",
   "execution_count": 49,
   "metadata": {},
   "outputs": [
    {
     "data": {
      "text/plain": [
       "9938.574833333334"
      ]
     },
     "execution_count": 49,
     "metadata": {},
     "output_type": "execute_result"
    }
   ],
   "source": [
    "per_95_5"
   ]
  },
  {
   "cell_type": "code",
   "execution_count": 33,
   "metadata": {},
   "outputs": [
    {
     "name": "stdout",
     "output_type": "stream",
     "text": [
      "16/84:4331.577333333334 and 9263.484833333334\n"
     ]
    },
    {
     "data": {
      "text/plain": [
       "6566.875333333333"
      ]
     },
     "execution_count": 33,
     "metadata": {},
     "output_type": "execute_result"
    }
   ],
   "source": [
    "#calculating percentiles \n",
    "\n",
    "for k in range(0, 100000):\n",
    "    if k == 0:\n",
    "        xx95 = gx\n",
    "        yy95 = truecombo080\n",
    "    else:\n",
    "        xx95 = gx[0:-k]\n",
    "        yy95 = truecombo080[0:-k]\n",
    "    v = np.trapz(yy95, xx95)\n",
    "    if v <= 0.95:\n",
    "        break\n",
    "per_95_0 = xx95[-1]\n",
    "int_95_0= yy95[-1]\n",
    "\n",
    "for k in range(0, 100000):\n",
    "    if k == 0:\n",
    "        xx5 = gx\n",
    "        yy5 = truecombo080\n",
    "    else:\n",
    "        xx5 = gx[0:-k]\n",
    "        yy5 = truecombo080[0:-k]\n",
    "    v = np.trapz(yy5, xx5)\n",
    "    if v <= 0.05:\n",
    "        break\n",
    "per_5_0 = xx5[-1]\n",
    "int_5_0= yy5[-1]\n",
    "\n",
    "for k in range(0, 100000):\n",
    "    if k == 0:\n",
    "        xx16 = gx\n",
    "        yy16 = truecombo080\n",
    "    else:\n",
    "        xx16 = gx[0:-k]\n",
    "        yy16 = truecombo080[0:-k]\n",
    "    v = np.trapz(yy16, xx16)\n",
    "    if v <= 0.16:\n",
    "        break\n",
    "per_16_0 = xx16[-1]\n",
    "int_16_0= yy16[-1]\n",
    "\n",
    "for k in range(0, 100000):\n",
    "    if k == 0:\n",
    "        xx84 = gx\n",
    "        yy84 = truecombo080\n",
    "    else:\n",
    "        xx84 = gx[0:-k]\n",
    "        yy84 = truecombo080[0:-k]\n",
    "    v = np.trapz(yy84, xx84)\n",
    "    if v <= 0.84:\n",
    "        break\n",
    "per_84_0 = xx84[-1]\n",
    "int_84_0= yy84[-1]\n",
    "    \n",
    "for k in range(0, 100000):\n",
    "    if k == 0:\n",
    "        xx50 = gx\n",
    "        yy50 = truecombo080\n",
    "    else:\n",
    "        xx50 = gx[0:-k]\n",
    "        yy50 = truecombo080[0:-k]\n",
    "    v = np.trapz(yy50, xx50)\n",
    "    if v <= 0.50:\n",
    "        break\n",
    "per_50_0 = xx50[-1]\n",
    "\n",
    "print (\"16/84:\" + str(per_16_0) + \" and \"+ str(per_84_0))\n",
    "per_50_0"
   ]
  },
  {
   "cell_type": "code",
   "execution_count": 47,
   "metadata": {},
   "outputs": [
    {
     "data": {
      "text/plain": [
       "11168.738833333333"
      ]
     },
     "execution_count": 47,
     "metadata": {},
     "output_type": "execute_result"
    }
   ],
   "source": [
    "per_95_0"
   ]
  },
  {
   "cell_type": "code",
   "execution_count": 34,
   "metadata": {},
   "outputs": [
    {
     "data": {
      "text/plain": [
       "array([6041.80533333])"
      ]
     },
     "execution_count": 34,
     "metadata": {},
     "output_type": "execute_result"
    }
   ],
   "source": [
    "#calculating peak\n",
    "truecombo080.max()\n",
    "peak_0=np.where(truecombo080==truecombo080.max())\n",
    "gx[peak_0]"
   ]
  },
  {
   "cell_type": "code",
   "execution_count": 44,
   "metadata": {},
   "outputs": [
    {
     "data": {
      "image/png": "[encoded data removed]",
      "text/plain": [
       "<Figure size 244.354x151.019 with 1 Axes>"
      ]
     },
     "metadata": {
      "image/png": {
       "height": 150,
       "width": 243
      },
      "needs_background": "light"
     },
     "output_type": "display_data"
    }
   ],
   "source": [
    "fig, ax1 = plt.subplots()\n",
    "\n",
    "# DM NE 2001 model\n",
    "ax1.axvspan(d_DM_NE_1747 *.8, d_DM_NE_1747*1.2, alpha=0.2, color = \"C0\")#, label = \"NE 2001\")\n",
    "plt.axvline(d_DM_NE_1747, ymin=0, ymax=1, color = \"C0\", alpha=.7)\n",
    "\n",
    "# DM YMW16 model\n",
    "ax1.axvspan(d_DM_YMW_1747*.8, d_DM_YMW_1747*1.2, alpha=0.2, color = \"C1\")#, label = \"YMW 16\")\n",
    "plt.axvline(d_DM_YMW_1747, ymin=0, ymax=1, color = \"C1\", alpha=.7)\n",
    "\n",
    "# Gaia DR3 distances\n",
    "plt.plot(gx, np.array(Gaia080)/area080, label = \"Gaia EDR3, Obj A\", color = \"C2\", linestyle='-.')\n",
    "plt.plot(gx, np.array(Gaia544)/area544, label = \"Gaia EDR3, Obj B\", color = \"C3\", linestyle='-.')\n",
    "\n",
    "#PTA\n",
    "plt.plot(gx, np.array(valPTA)/areaPTA, label = \"PTA\", color = \"C4\", linestyle=':')\n",
    "plt.plot(gx, np.array(truecombo080), label = \"Combined, A\", color = \"C7\", linestyle='solid')\n",
    "\n",
    "plt.plot(gx, np.array(truecombo544), label = \"Combined, B\", color = \"C6\", linestyle='solid')\n",
    "\n",
    "# percentile\n",
    "\n",
    "plt.axvline(gx[peak_5], ymin=0, ymax=.87, color = \"k\", label = \"Peak\", linestyle=\"-\", alpha =.7)\n",
    "plt.axvline(gx[peak_0], ymin=0, ymax=.95, color = \"k\", linestyle=\"-\", alpha =.7)\n",
    "#plt.axvline(per_5_5, ymin=0, ymax=.2, color = \"b\", label = \"5, 95 \\%\", linestyle=\":\")\n",
    "#plt.axvline(per_84_5, ymin=0, ymax=.6, color = \"k\", label= \"84, 16 \\%\", linestyle=\":\")\n",
    "#plt.axvline(per_16_5, ymin=0, ymax=.4, color = \"k\", linestyle=\":\")\n",
    "#plt.axvline(per_95_5, ymin=0, ymax=.2, color = \"b\", linestyle=\":\")\n",
    "\n",
    "ax1.set_yticklabels([])\n",
    "plt.yticks([])\n",
    "plt.xlabel(\"Distance (pc)\")\n",
    "plt.legend()\n",
    "plt.tight_layout()\n",
    "plt.xlim(0,15000)\n",
    "\n",
    "plt.savefig(\"J1747_all_distances_wbj.pdf\")"
   ]
  },
  {
   "cell_type": "code",
   "execution_count": 36,
   "metadata": {},
   "outputs": [],
   "source": [
    "# log transform\n",
    "new1747 = []\n",
    "for ii in combo:\n",
    "    new1747.append(10**(ii))"
   ]
  },
  {
   "cell_type": "code",
   "execution_count": 72,
   "metadata": {},
   "outputs": [],
   "source": [
    "from scipy.optimize import curve_fit"
   ]
  }
 ],
 "metadata": {
  "kernelspec": {
   "display_name": "Python 3 (ipykernel)",
   "language": "python",
   "name": "python3"
  },
  "language_info": {
   "codemirror_mode": {
    "name": "ipython",
    "version": 3
   },
   "file_extension": ".py",
   "mimetype": "text/x-python",
   "name": "python",
   "nbconvert_exporter": "python",
   "pygments_lexer": "ipython3",
   "version": "3.8.8"
  }
 },
 "nbformat": 4,
 "nbformat_minor": 4
}
