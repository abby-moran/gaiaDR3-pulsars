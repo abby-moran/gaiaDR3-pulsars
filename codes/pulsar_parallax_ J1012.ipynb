{
 "cells": [
  {
   "cell_type": "code",
   "execution_count": 1,
   "metadata": {},
   "outputs": [],
   "source": [
    "from __future__ import division\n",
    "from IPython.display import display, Math, Latex\n",
    "from math import sin, cos\n",
    "import numpy as np\n",
    "import matplotlib.pyplot as plt\n",
    "from matplotlib.ticker import FormatStrFormatter, LinearLocator, NullFormatter, NullLocator, MultipleLocator\n",
    "import matplotlib.ticker\n",
    "import matplotlib.colors\n",
    "from matplotlib.font_manager import FontProperties\n",
    "from matplotlib import rc, text\n",
    "from scipy.stats import norm\n",
    "import scipy as sp\n",
    "from scipy.integrate import simps\n",
    "from numpy import trapz\n",
    "from scipy.optimize import curve_fit\n",
    "from scipy.special import gamma, factorial\n",
    "import statistics\n",
    "import math\n",
    "%matplotlib inline\n",
    "%config InlineBackend.figure_format = \"retina\""
   ]
  },
  {
   "cell_type": "code",
   "execution_count": 2,
   "metadata": {},
   "outputs": [],
   "source": [
    "c=2.99792458*(10**8)\n",
    "G=6.67428*(10**(-11))\n",
    "s_mass=G*(1.98892*10**(30))/(c**3)\n",
    "\n",
    "# common function shortcuts\n",
    "log10 = np.log10\n",
    "pi = np.pi\n",
    "sqrt = np.sqrt"
   ]
  },
  {
   "cell_type": "code",
   "execution_count": 3,
   "metadata": {},
   "outputs": [],
   "source": [
    "wzp = -0.029 # Quasar Correction; defined in Bailor-Jones but computed in Lindegren et al. 2018"
   ]
  },
  {
   "cell_type": "code",
   "execution_count": 4,
   "metadata": {},
   "outputs": [],
   "source": [
    "# Posterior PDF from Bailor-Jones et al.\n",
    "\n",
    "def pOfR(r, px, dpx, Lsph):\n",
    "    \"\"\"\n",
    "    This is Equation 2 in Bailer-Jones et al. 2018.\n",
    "    Here, input r in pc's.\n",
    "    \"\"\"\n",
    "    r = r/1000. #convert pc to kpc\n",
    "    #px = px + 0.029 #Quasar correction already accounted for \n",
    "    exponent = -r/Lsph - (px-wzp-1/r)**2/(2*dpx**2)\n",
    "    ans = r**2*np.exp(exponent)\n",
    "    return ans\n",
    "\n",
    "def gaussian(x, mu, sig):\n",
    "    \"\"\"\n",
    "    a gaussian function\n",
    "    \"\"\"\n",
    "    x = x/1000\n",
    "    ans = np.exp(-np.power(x - mu, 2.) / (2 * np.power(sig, 2.)))\n",
    "    return ans"
   ]
  },
  {
   "cell_type": "code",
   "execution_count": 5,
   "metadata": {},
   "outputs": [],
   "source": [
    "def pOfR3(r, px, dpx, alpha, beta, L):\n",
    "    \"\"\"\n",
    "    Bailer-Jones et al. 2020 geometric prior\n",
    "    \"\"\"\n",
    "    #r = r/1000\n",
    "    #distance prior\n",
    "    exponent2= -(r/L)**alpha\n",
    "    prior= (1/(gamma((beta+1)/alpha)))*(alpha/(L**(beta+1)))*((r/1000)**beta)*np.exp(exponent2)\n",
    "    #likelihood (equation 2) \n",
    "    exponent = (-1/(2*(dpx**2)))*(px--.017-(1/(r/1000)))**2\n",
    "    P = (1/(dpx*sqrt(2*pi)))*np.exp(exponent)\n",
    "    ans=P*prior\n",
    "    return ans"
   ]
  },
  {
   "cell_type": "code",
   "execution_count": 6,
   "metadata": {},
   "outputs": [],
   "source": [
    "# plotting preamble\n",
    "\n",
    "fig_width_pt = 245.27 #513.17           # Get this from LaTeX using \\showthe\\columnwidth\n",
    "inches_per_pt = 1.0/72.27               # Convert pt to inches\n",
    "golden_mean = (np.sqrt(5)-1.0)/2.0      # Aesthetic ratio\n",
    "fig_width = fig_width_pt*inches_per_pt  # width in inches\n",
    "fig_height =fig_width*golden_mean       # height in inches\n",
    "fig_size = [fig_width,fig_height]\n",
    "\n",
    "params = {'backend': 'pdf',\n",
    "        'axes.labelsize': 7,\n",
    "        'lines.markersize': 2,\n",
    "        'font.size': 7,\n",
    "        'xtick.major.size':6,\n",
    "        'xtick.minor.size':3,  \n",
    "        'ytick.major.size':6,\n",
    "        'ytick.minor.size':3, \n",
    "        'xtick.major.width':0.5,\n",
    "        'ytick.major.width':0.5,\n",
    "        'xtick.minor.width':0.5,\n",
    "        'ytick.minor.width':0.5,\n",
    "        'lines.markeredgewidth':1,\n",
    "        'axes.linewidth':1.0,\n",
    "        'legend.fontsize': 7,\n",
    "        'xtick.labelsize': 7,\n",
    "        'ytick.labelsize': 7,\n",
    "        'savefig.dpi':200,\n",
    "        'path.simplify':True,\n",
    "        #'font.family': 'serif',\n",
    "        'font.serif':'Times',\n",
    "        'text.latex.preamble': [r'\\usepackage{amsmath}'],\n",
    "        'text.usetex':True,\n",
    "        #'axes.color_cycle': ['b', 'lime', 'r', 'purple', 'g', 'c', 'm', 'orange', 'darkblue', \\\n",
    "        #                        'darkcyan', 'y','orangered','chartreuse','brown','deeppink','lightgreen', 'k'],\n",
    "        #'font.serif':cm,\n",
    "        'figure.figsize': fig_size}\n",
    "plt.rcParams.update(params)\n",
    "plt.show()"
   ]
  },
  {
   "cell_type": "markdown",
   "metadata": {},
   "source": [
    "# J1012 parallax measurements"
   ]
  },
  {
   "cell_type": "code",
   "execution_count": 7,
   "metadata": {},
   "outputs": [
    {
     "data": {
      "text/plain": [
       "6.004463805945481"
      ]
     },
     "execution_count": 7,
     "metadata": {},
     "output_type": "execute_result"
    }
   ],
   "source": [
    "# s/n of detection\n",
    "1.7447569177332500/0.29057664\n"
   ]
  },
  {
   "cell_type": "code",
   "execution_count": 8,
   "metadata": {},
   "outputs": [],
   "source": [
    "# parallax distance measurement from pulsar timing\n",
    "pxPTA = 0.91650432571114162888\n",
    "pxPTAerr =  0.20031527835021703532"
   ]
  },
  {
   "cell_type": "code",
   "execution_count": 9,
   "metadata": {},
   "outputs": [],
   "source": [
    "# VLBI parallax measrument from Ding et al 2020\n",
    "pxVLBI = 1.17 \n",
    "pxVLBI_err= 0.02"
   ]
  },
  {
   "cell_type": "code",
   "execution_count": 10,
   "metadata": {},
   "outputs": [],
   "source": [
    "# IPTA distance\n",
    "dist_1012_ipta = norm(700, 200)"
   ]
  },
  {
   "cell_type": "code",
   "execution_count": 11,
   "metadata": {},
   "outputs": [],
   "source": [
    "# Pb dot distance estimate\n",
    "dist_px1012_pbdot = norm(1200, 200)"
   ]
  },
  {
   "cell_type": "code",
   "execution_count": 12,
   "metadata": {},
   "outputs": [],
   "source": [
    "# IPTA distance measurement\n",
    "ptaDist = 700 #pc\n",
    "ptaDistErr = 200 #pc"
   ]
  },
  {
   "cell_type": "code",
   "execution_count": 13,
   "metadata": {},
   "outputs": [],
   "source": [
    "pxmax = .3\n",
    "pxmin = 4\n",
    "gx = np.linspace(pxmax, pxmin, 1000)"
   ]
  },
  {
   "cell_type": "code",
   "execution_count": 14,
   "metadata": {},
   "outputs": [],
   "source": [
    "pxmax=1\n",
    "pxmin=20000\n",
    "steps=10000\n",
    "dx = np.linspace(pxmax,pxmin,steps)"
   ]
  },
  {
   "cell_type": "code",
   "execution_count": 15,
   "metadata": {},
   "outputs": [],
   "source": [
    "valpbdot=[]\n",
    "for zz in dx:\n",
    "    valpbdot.append(sp.stats.norm.pdf(zz, 200, 200))"
   ]
  },
  {
   "cell_type": "code",
   "execution_count": 16,
   "metadata": {},
   "outputs": [],
   "source": [
    "V1012=dx\n",
    "dist_V1012 = norm(.83*1000, .04*1000)"
   ]
  },
  {
   "cell_type": "code",
   "execution_count": 17,
   "metadata": {},
   "outputs": [],
   "source": [
    "px=np.linspace(0, 4, 1000)"
   ]
  },
  {
   "cell_type": "code",
   "execution_count": 18,
   "metadata": {},
   "outputs": [],
   "source": [
    "VLBI = []\n",
    "for rr in dx:\n",
    "    VLBI.append(sp.stats.norm.pdf(rr, pxVLBI, pxVLBI_err ))"
   ]
  },
  {
   "cell_type": "code",
   "execution_count": 19,
   "metadata": {},
   "outputs": [],
   "source": [
    "pxGEDR3 = 1.7447569177332500\n",
    "pxGEDR3err = 0.29057664"
   ]
  },
  {
   "cell_type": "code",
   "execution_count": 20,
   "metadata": {},
   "outputs": [],
   "source": [
    "pxGDR2=1.3259\n",
    "pxGDR2err=0.4142"
   ]
  },
  {
   "cell_type": "code",
   "execution_count": 21,
   "metadata": {},
   "outputs": [],
   "source": [
    "Gaia3_p=sp.stats.norm.pdf(px, pxGEDR3, pxGEDR3err)\n",
    "Gaia2_p=sp.stats.norm.pdf(px, pxGDR2, pxGDR2err)\n",
    "PTAp=sp.stats.norm.pdf(px, pxPTA, pxPTAerr)\n",
    "VLBIp=sp.stats.norm.pdf(px, pxVLBI, pxVLBI_err)\n",
    "combo3px=Gaia3_p*VLBIp*PTAp\n",
    "combo2px=Gaia2_p*VLBIp*PTAp"
   ]
  },
  {
   "cell_type": "code",
   "execution_count": 22,
   "metadata": {},
   "outputs": [],
   "source": [
    "Gaia3_px=Gaia3_p/simps(Gaia3_p, px)\n",
    "Gaia2_px=Gaia2_p/simps(Gaia2_p, px)\n",
    "PTApx=PTAp/simps(PTAp, px)\n",
    "VLBIpx=VLBIp/simps(VLBIp, px)\n",
    "c3px_norm=combo3px/simps(combo3px, px)\n",
    "c2px_norm=combo2px/simps(combo2px, px)"
   ]
  },
  {
   "cell_type": "code",
   "execution_count": 23,
   "metadata": {},
   "outputs": [
    {
     "data": {
      "text/plain": [
       "<matplotlib.legend.Legend at 0x7fca0afabf10>"
      ]
     },
     "execution_count": 23,
     "metadata": {},
     "output_type": "execute_result"
    },
    {
     "data": {
      "image/png": "[encoded data removed]",
      "text/plain": [
       "<Figure size 244.354x151.019 with 1 Axes>"
      ]
     },
     "metadata": {
      "image/png": {
       "height": 144,
       "width": 220
      },
      "needs_background": "light"
     },
     "output_type": "display_data"
    }
   ],
   "source": [
    "fig, ax1 = plt.subplots()\n",
    "#dx, np.array(dist_px1024.pdf(px1024)\n",
    "plt.plot(px, c3px_norm, label='combo 3', color = \"C4\", linestyle='-.')\n",
    "plt.plot(px, c2px_norm, label='combo 2', color = \"C5\")#, linestyle='-.')\n",
    "plt.plot(px, PTApx, label = 'PTA', color = \"C2\")#, linestyle='-.')\n",
    "plt.plot(px, Gaia3_px, label='Gaia 3', color = \"C3\")\n",
    "plt.plot(px, Gaia2_px, label='Gaia 2', color = \"C1\")\n",
    "plt.legend()\n",
    "#plt.plot(Gaia3_px)"
   ]
  },
  {
   "cell_type": "code",
   "execution_count": 24,
   "metadata": {},
   "outputs": [
    {
     "data": {
      "text/plain": [
       "1.1691691691691692"
      ]
     },
     "execution_count": 24,
     "metadata": {},
     "output_type": "execute_result"
    }
   ],
   "source": [
    "for k in range(0, 10000):\n",
    "    if k == 0:\n",
    "        xx50 = px\n",
    "        yy50 = c3px_norm\n",
    "    else:\n",
    "        xx50 = px[0:-k]\n",
    "        yy50 =  c3px_norm[0:-k]\n",
    "    v = np.trapz(yy50, xx50)\n",
    "    if v <= 0.50:\n",
    "        break\n",
    "per_50 = xx50[-1]\n",
    "per_50\n"
   ]
  },
  {
   "cell_type": "code",
   "execution_count": 25,
   "metadata": {},
   "outputs": [
    {
     "data": {
      "text/plain": [
       "1.1491491491491492"
      ]
     },
     "execution_count": 25,
     "metadata": {},
     "output_type": "execute_result"
    }
   ],
   "source": [
    "for k in range(0, 10000):\n",
    "    if k == 0:\n",
    "        xx16 = px\n",
    "        yy16 = c3px_norm\n",
    "    else:\n",
    "        xx16 = px[0:-k]\n",
    "        yy16 =  c3px_norm[0:-k]\n",
    "    v = np.trapz(yy16, xx16)\n",
    "    if v <= 0.16:\n",
    "        break\n",
    "per_16 = xx16[-1]\n",
    "per_16"
   ]
  },
  {
   "cell_type": "code",
   "execution_count": 26,
   "metadata": {},
   "outputs": [],
   "source": [
    "c3px=per_50\n",
    "c3pxerr=per_50-per_16"
   ]
  },
  {
   "cell_type": "code",
   "execution_count": 27,
   "metadata": {},
   "outputs": [
    {
     "data": {
      "text/plain": [
       "1.165165165165165"
      ]
     },
     "execution_count": 27,
     "metadata": {},
     "output_type": "execute_result"
    }
   ],
   "source": [
    "for k in range(0, 10000):\n",
    "    if k == 0:\n",
    "        xx50 = px\n",
    "        yy50 = c2px_norm\n",
    "    else:\n",
    "        xx50 = px[0:-k]\n",
    "        yy50 =  c2px_norm[0:-k]\n",
    "    v = np.trapz(yy50, xx50)\n",
    "    if v <= 0.50:\n",
    "        break\n",
    "per_50 = xx50[-1]\n",
    "per_50"
   ]
  },
  {
   "cell_type": "code",
   "execution_count": 28,
   "metadata": {},
   "outputs": [
    {
     "data": {
      "text/plain": [
       "1.145145145145145"
      ]
     },
     "execution_count": 28,
     "metadata": {},
     "output_type": "execute_result"
    }
   ],
   "source": [
    "for k in range(0, 10000):\n",
    "    if k == 0:\n",
    "        xx16 = px\n",
    "        yy16 = c2px_norm\n",
    "    else:\n",
    "        xx16 = px[0:-k]\n",
    "        yy16 =  c2px_norm[0:-k]\n",
    "    v = np.trapz(yy16, xx16)\n",
    "    if v <= 0.16:\n",
    "        break\n",
    "per_16 = xx16[-1]\n",
    "per_16"
   ]
  },
  {
   "cell_type": "code",
   "execution_count": 29,
   "metadata": {},
   "outputs": [],
   "source": [
    "c2px=per_50\n",
    "c2pxerr=per_50-per_16"
   ]
  },
  {
   "cell_type": "code",
   "execution_count": null,
   "metadata": {},
   "outputs": [],
   "source": []
  },
  {
   "cell_type": "code",
   "execution_count": 30,
   "metadata": {},
   "outputs": [],
   "source": [
    "# Bailer-Jones distance estimate\n",
    "bj_1012 = []\n",
    "Lsph=0.3575835102\n",
    "for r in dx:\n",
    "    bj_1012.append(pOfR(r,1.3259, 0.4142,0.3575835102))"
   ]
  },
  {
   "cell_type": "code",
   "execution_count": 31,
   "metadata": {},
   "outputs": [],
   "source": [
    "pxGEDR3 = 1.7447569177332500\n",
    "pxGEDR3err = 0.29057664\n",
    "alpha=0.20484640174989\n",
    "beta=6.0636550130832\n",
    "L=2.76001118534369*(10**-5)\n",
    "EDR3 = []\n",
    "for r3 in dx:\n",
    "    EDR3.append(pOfR3(r3, pxGEDR3, pxGEDR3err, alpha, beta, L))"
   ]
  },
  {
   "cell_type": "code",
   "execution_count": 32,
   "metadata": {},
   "outputs": [],
   "source": [
    "valc3 =[]\n",
    "for ww in dx:\n",
    "    valc3.append(pOfR3(ww, c3px, c3pxerr, alpha, beta, L))"
   ]
  },
  {
   "cell_type": "code",
   "execution_count": 33,
   "metadata": {},
   "outputs": [],
   "source": [
    "#valc3 =[]\n",
    "valc2 =[]\n",
    "\n",
    "#for ww in dx:\n",
    " #   valc3.append(pOfR3(ww, c3px, c3pxerr, alpha, beta, L))#alpha, beta, L))\n",
    "                 \n",
    "for ll in dx:\n",
    "    valc2.append(pOfR(ll, c2px, c2pxerr, Lsph))"
   ]
  },
  {
   "cell_type": "code",
   "execution_count": 34,
   "metadata": {},
   "outputs": [],
   "source": [
    "areaBJ = simps(bj_1012,dx) # simpsons rule to find the area under the curve, use to normalize\n",
    "areaDR3 = simps(EDR3, dx)"
   ]
  },
  {
   "cell_type": "code",
   "execution_count": 35,
   "metadata": {},
   "outputs": [
    {
     "data": {
      "text/plain": [
       "(100.0, 1300.0)"
      ]
     },
     "execution_count": 35,
     "metadata": {},
     "output_type": "execute_result"
    },
    {
     "data": {
      "image/png": "[encoded data removed]",
      "text/plain": [
       "<Figure size 244.354x151.019 with 1 Axes>"
      ]
     },
     "metadata": {
      "image/png": {
       "height": 152,
       "width": 216
      },
      "needs_background": "light"
     },
     "output_type": "display_data"
    }
   ],
   "source": [
    "fig, ax1 = plt.subplots()\n",
    "#plt.plot(dx, valc2)\n",
    "plt.plot(dx, valc3)\n",
    "plt.xlim(100, 1300)"
   ]
  },
  {
   "cell_type": "code",
   "execution_count": 36,
   "metadata": {},
   "outputs": [],
   "source": [
    "valc3=np.array(valc3)*np.array(valpbdot)"
   ]
  },
  {
   "cell_type": "code",
   "execution_count": 37,
   "metadata": {},
   "outputs": [],
   "source": [
    "valc2=np.array(valc2)*np.array(valpbdot)"
   ]
  },
  {
   "cell_type": "code",
   "execution_count": 38,
   "metadata": {},
   "outputs": [],
   "source": [
    "#combo = dist_px1012_pbdot.pdf(dx)*np.array(EDR3)*dist_V1012.pdf(V1012)*dist_1012_ipta.pdf(dx)\n",
    "#combo2= dist_px1012_pbdot.pdf(dx)*np.array(bj_1012)*dist_V1012.pdf(V1012)*dist_1012_ipta.pdf(dx)"
   ]
  },
  {
   "cell_type": "code",
   "execution_count": 39,
   "metadata": {},
   "outputs": [],
   "source": [
    "areaCombo2 = simps(valc2, dx)\n",
    "normCombo = simps(valc3, dx)\n",
    "truecombo=valc3/normCombo\n",
    "normCombo2=valc2/areaCombo2"
   ]
  },
  {
   "cell_type": "code",
   "execution_count": 40,
   "metadata": {},
   "outputs": [],
   "source": [
    "# D_DM calculated with pygedm\n",
    "# dispersion measure distance from NE 2001\n",
    "d_DM_NE_1012 = 411.38864\n",
    "\n",
    "# YMW 16 DM model\n",
    "d_DM_YMW_1012 = 804.69373"
   ]
  },
  {
   "cell_type": "code",
   "execution_count": 41,
   "metadata": {},
   "outputs": [
    {
     "name": "stdout",
     "output_type": "stream",
     "text": [
      "16/84:825.0412041204121 and 853.0426042604261\n"
     ]
    },
    {
     "data": {
      "text/plain": [
       "839.0419041904191"
      ]
     },
     "execution_count": 41,
     "metadata": {},
     "output_type": "execute_result"
    }
   ],
   "source": [
    "#calculating percentiles\n",
    "\n",
    "for k in range(0, 10000):\n",
    "    if k == 0:\n",
    "        xx95 = dx\n",
    "        yy95 = truecombo\n",
    "    else:\n",
    "        xx95 = dx[0:-k]\n",
    "        yy95 = truecombo[0:-k]\n",
    "    v = np.trapz(yy95, xx95)\n",
    "    if v <= 0.95:\n",
    "        break\n",
    "per_95 = xx95[-1]\n",
    "int_95= yy95[-1]\n",
    "\n",
    "for k in range(0, 10000):\n",
    "    if k == 0:\n",
    "        xx5 = dx\n",
    "        yy5 = truecombo\n",
    "    else:\n",
    "        xx5 = dx[0:-k]\n",
    "        yy5 = truecombo[0:-k]\n",
    "    v = np.trapz(yy5, xx5)\n",
    "    if v <= 0.05:\n",
    "        break\n",
    "per_5 = xx5[-1]\n",
    "int_5= yy5[-1]\n",
    "\n",
    "for k in range(0, 10000):\n",
    "    if k == 0:\n",
    "        xx16 = dx\n",
    "        yy16 = truecombo\n",
    "    else:\n",
    "        xx16 = dx[0:-k]\n",
    "        yy16 = truecombo[0:-k]\n",
    "    v = np.trapz(yy16, xx16)\n",
    "    if v <= 0.16:\n",
    "        break\n",
    "per_16 = xx16[-1]\n",
    "int_16= yy16[-1]\n",
    "\n",
    "for k in range(0, 10000):\n",
    "    if k == 0:\n",
    "        xx84 = dx\n",
    "        yy84 = truecombo\n",
    "    else:\n",
    "        xx84 = dx[0:-k]\n",
    "        yy84 = truecombo[0:-k]\n",
    "    v = np.trapz(yy84, xx84)\n",
    "    if v <= 0.84:\n",
    "        break\n",
    "per_84 = xx84[-1]\n",
    "int_84= yy84[-1]\n",
    "\n",
    "for k in range(0, 10000):\n",
    "    if k == 0:\n",
    "        xx50 = dx\n",
    "        yy50 = truecombo\n",
    "    else:\n",
    "        xx50 = dx[0:-k]\n",
    "        yy50 = truecombo[0:-k]\n",
    "    v = np.trapz(yy50, xx50)\n",
    "    if v <= 0.50:\n",
    "        break\n",
    "per_50 = xx50[-1]\n",
    "\n",
    "print (\"16/84:\" + str(per_16) + \" and \"+ str(per_84))\n",
    "per_50\n"
   ]
  },
  {
   "cell_type": "code",
   "execution_count": 42,
   "metadata": {},
   "outputs": [
    {
     "name": "stdout",
     "output_type": "stream",
     "text": [
      "5/95:817.0408040804081 and 863.0431043104311\n"
     ]
    }
   ],
   "source": [
    "print (\"5/95:\" + str(per_5) + \" and \"+ str(per_95))"
   ]
  },
  {
   "cell_type": "code",
   "execution_count": 43,
   "metadata": {},
   "outputs": [
    {
     "data": {
      "text/plain": [
       "-25.822972472033257"
      ]
     },
     "execution_count": 43,
     "metadata": {},
     "output_type": "execute_result"
    }
   ],
   "source": [
    "837.2201318383978-per_95"
   ]
  },
  {
   "cell_type": "code",
   "execution_count": 44,
   "metadata": {},
   "outputs": [
    {
     "data": {
      "text/plain": [
       "array([839.04190419])"
      ]
     },
     "execution_count": 44,
     "metadata": {},
     "output_type": "execute_result"
    }
   ],
   "source": [
    "#finding peak\n",
    "truecombo.max()\n",
    "peak=np.where(truecombo==truecombo.max())\n",
    "dx[peak]"
   ]
  },
  {
   "cell_type": "code",
   "execution_count": 54,
   "metadata": {
    "scrolled": true
   },
   "outputs": [
    {
     "data": {
      "image/png": "[encoded data removed]",
      "text/plain": [
       "<Figure size 244.354x151.019 with 1 Axes>"
      ]
     },
     "metadata": {
      "image/png": {
       "height": 150,
       "width": 243
      },
      "needs_background": "light"
     },
     "output_type": "display_data"
    }
   ],
   "source": [
    "fig, ax1 = plt.subplots()\n",
    "\n",
    "# DM NE 2001 model\n",
    "ax1.axvspan(d_DM_NE_1012*.8, d_DM_NE_1012*1.2, alpha=0.2, color = \"C0\", label = \"NE 2001\")\n",
    "plt.axvline(d_DM_NE_1012, ymin=0, ymax=1, color = \"C0\", alpha = .2)\n",
    "\n",
    "\n",
    "# DM YMW16 model\n",
    "ax1.axvspan(d_DM_YMW_1012*.8, d_DM_YMW_1012*1.2, alpha=0.2, color = \"C1\", label = \"YMW 16\")\n",
    "plt.axvline(d_DM_YMW_1012, ymin=0, ymax=1, color = \"C1\", alpha=.2)\n",
    "\n",
    "#Direct distance measurements\n",
    "plt.plot(dx, np.array(bj_1012)/areaBJ, label = \"Gaia DR2\", color = \"C2\", linestyle='dashed')\n",
    "#plt.plot(dx, dist_1012_ipta.pdf(dx), label = r\"IPTA\", color = \"C3\", linestyle='dashed')\n",
    "#plt.plot(dx, dist_px1012_pbdot.pdf(dx), label = r\"$D_K$\", color = \"C5\", linestyle='-.')\n",
    "plt.plot(dx, truecombo, label = \"Combined\", color = \"C4\", linestyle='solid')\n",
    "\n",
    "plt.plot(dx, dist_V1012.pdf(V1012), label = \"VLBI\", color = \"C7\", linestyle='dashed')\n",
    "\n",
    "plt.plot(dx, np.array(EDR3)/areaDR3, label = \"Gaia EDR3\", color = \"C6\", linestyle='dashed')\n",
    "\n",
    "#percentiles\n",
    "plt.axvline(dx[peak], ymin=0, ymax=.95, color = \"k\", label = \"Peak\", linestyle=\"-\", alpha =.7)\n",
    "#plt.axvline(per_5, ymin=0, ymax=int_5/.01, color = \"b\", label = \"5, 95 \\%\", linestyle=\":\")\n",
    "#plt.axvline(per_84, ymin=0, ymax=int_84/.013, color = \"k\", label= \"84, 16 \\%\", linestyle=\":\")\n",
    "#plt.axvline(per_16, ymin=0, ymax=int_16/.01, color = \"k\", linestyle=\":\")\n",
    "#plt.axvline(per_95, ymin=0, ymax=int_95/.01, color = \"b\", linestyle=\":\")\n",
    "\n",
    "plt.yticks([])\n",
    "plt.xlim(350,1050)\n",
    "plt.xlabel(\"Distance (pc)\")\n",
    "plt.tight_layout()\n",
    "plt.legend(loc='upper left')\n",
    "plt.savefig(\"combinedPDFs_1012wDM_WNG.pdf\")"
   ]
  },
  {
   "cell_type": "code",
   "execution_count": 49,
   "metadata": {},
   "outputs": [
    {
     "data": {
      "image/png": "[encoded data removed]",
      "text/plain": [
       "<Figure size 244.354x151.019 with 1 Axes>"
      ]
     },
     "metadata": {
      "image/png": {
       "height": 150,
       "width": 243
      },
      "needs_background": "light"
     },
     "output_type": "display_data"
    }
   ],
   "source": [
    "fig, ax1 = plt.subplots()\n",
    "\n",
    "plt.plot(dx, truecombo, label = \"Combo Gaia EDR3\", color = \"C4\", linestyle='solid')\n",
    "plt.plot(dx, normCombo2, label = \"Combo Gaia DR2\", color = \"C8\", linestyle='solid', alpha = .8)\n",
    "#plt.plot(dx, dist_1012_ipta.pdf(dx), label = r\"IPTA\", color = \"C3\", linestyle='dashed')\n",
    "\n",
    "#percentiles\n",
    "plt.axvline(dx[peak], ymin=0, ymax=.94, color = \"k\", label = \"Peak\", linestyle=\"-\", alpha =.7)\n",
    "plt.axvline(per_5, ymin=0, ymax=.22, color = \"b\", label = \"5, 95 \\%\", linestyle=\":\")\n",
    "plt.axvline(per_84, ymin=0, ymax=.55, color = \"k\", label= \"84, 16 \\%\", linestyle=\":\")\n",
    "plt.axvline(per_16, ymin=0, ymax=.55, color = \"k\", linestyle=\":\")\n",
    "plt.axvline(per_95, ymin=0, ymax=.28, color = \"b\", linestyle=\":\")\n",
    "\n",
    "# DM NE 2001 model\n",
    "#ax1.axvspan(d_DM_NE_1012*.8, d_DM_NE_1012*1.2, alpha=0.2, color = \"C0\", label = \"NE 2001\")\n",
    "#plt.axvline(d_DM_NE_1012, ymin=0, ymax=1, color = \"C0\", alpha = .2)\n",
    "\n",
    "\n",
    "# DM YMW16 model\n",
    "ax1.axvspan(d_DM_YMW_1012*.8, d_DM_YMW_1012*1.2, alpha=0.2, color = \"C1\")#, label = \"YMW 16\")\n",
    "plt.axvline(d_DM_YMW_1012, ymin=0, ymax=1, color = \"C1\", alpha=.2)\n",
    "\n",
    "\n",
    "plt.yticks([])\n",
    "\n",
    "plt.xlim(755,950)\n",
    "plt.xlabel(\"Distance (pc)\")\n",
    "#plt.ylabel(\"Probability\")\n",
    "plt.tight_layout()\n",
    "plt.legend()\n",
    "plt.savefig(\"combo_comp_1012.pdf\")"
   ]
  },
  {
   "cell_type": "code",
   "execution_count": 47,
   "metadata": {},
   "outputs": [
    {
     "ename": "NameError",
     "evalue": "name 'combo' is not defined",
     "output_type": "error",
     "traceback": [
      "\u001b[0;31m---------------------------------------------------------------------------\u001b[0m",
      "\u001b[0;31mNameError\u001b[0m                                 Traceback (most recent call last)",
      "\u001b[0;32m/var/folders/bw/0h0f_0zs4z195525560spdjm0000gn/T/ipykernel_28409/779339536.py\u001b[0m in \u001b[0;36m<module>\u001b[0;34m\u001b[0m\n\u001b[1;32m      2\u001b[0m \u001b[0;31m#newy = (combo/normCombo)[50:400]\u001b[0m\u001b[0;34m\u001b[0m\u001b[0;34m\u001b[0m\u001b[0;34m\u001b[0m\u001b[0m\n\u001b[1;32m      3\u001b[0m \u001b[0mnewx\u001b[0m \u001b[0;34m=\u001b[0m \u001b[0;34m(\u001b[0m\u001b[0mdx\u001b[0m\u001b[0;34m/\u001b[0m\u001b[0;36m1000\u001b[0m\u001b[0;34m)\u001b[0m\u001b[0;34m\u001b[0m\u001b[0;34m\u001b[0m\u001b[0m\n\u001b[0;32m----> 4\u001b[0;31m \u001b[0mnewy\u001b[0m \u001b[0;34m=\u001b[0m \u001b[0;34m(\u001b[0m\u001b[0;34m(\u001b[0m\u001b[0mcombo\u001b[0m\u001b[0;34m)\u001b[0m\u001b[0;34m/\u001b[0m\u001b[0mnormCombo\u001b[0m\u001b[0;34m)\u001b[0m\u001b[0;34m\u001b[0m\u001b[0;34m\u001b[0m\u001b[0m\n\u001b[0m",
      "\u001b[0;31mNameError\u001b[0m: name 'combo' is not defined"
     ]
    }
   ],
   "source": [
    "#newx = (1/gx)[50:400]\n",
    "#newy = (combo/normCombo)[50:400]\n",
    "newx = (dx/1000)\n",
    "newy = ((combo)/normCombo)"
   ]
  },
  {
   "cell_type": "code",
   "execution_count": 48,
   "metadata": {},
   "outputs": [],
   "source": [
    "# Create a function which returns a Gaussian (normal) distribution.\n",
    "def gauss(x, *p):\n",
    "    a, b, c, d = p\n",
    "    y = a*np.exp(-np.power((x - b), 2.)/(2. * c**2.)) + d\n",
    "    return y"
   ]
  },
  {
   "cell_type": "code",
   "execution_count": null,
   "metadata": {
    "collapsed": true
   },
   "outputs": [],
   "source": []
  }
 ],
 "metadata": {
  "kernelspec": {
   "display_name": "Python 3 (ipykernel)",
   "language": "python",
   "name": "python3"
  },
  "language_info": {
   "codemirror_mode": {
    "name": "ipython",
    "version": 3
   },
   "file_extension": ".py",
   "mimetype": "text/x-python",
   "name": "python",
   "nbconvert_exporter": "python",
   "pygments_lexer": "ipython3",
   "version": "3.8.8"
  }
 },
 "nbformat": 4,
 "nbformat_minor": 2
}
