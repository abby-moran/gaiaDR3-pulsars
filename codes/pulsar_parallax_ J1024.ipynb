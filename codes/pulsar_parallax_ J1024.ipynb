{
 "cells": [
  {
   "cell_type": "code",
   "execution_count": 2,
   "metadata": {},
   "outputs": [],
   "source": [
    "from __future__ import division\n",
    "from IPython.display import display, Math, Latex\n",
    "from math import sin, cos\n",
    "import numpy as np\n",
    "import matplotlib.pyplot as plt\n",
    "from matplotlib.ticker import FormatStrFormatter, LinearLocator, NullFormatter, NullLocator, MultipleLocator\n",
    "import matplotlib.ticker\n",
    "import matplotlib.colors\n",
    "from matplotlib.font_manager import FontProperties\n",
    "from matplotlib import rc, text\n",
    "from scipy.stats import norm\n",
    "import scipy as sp\n",
    "from scipy.integrate import simps\n",
    "from numpy import trapz\n",
    "from scipy.optimize import curve_fit\n",
    "from scipy.special import gamma, factorial\n",
    "\n",
    "\n",
    "\n",
    "%matplotlib inline\n",
    "%config InlineBackend.figure_format = \"retina\""
   ]
  },
  {
   "cell_type": "code",
   "execution_count": 3,
   "metadata": {},
   "outputs": [],
   "source": [
    "c=2.99792458*(10**8)\n",
    "G=6.67428*(10**(-11))\n",
    "s_mass=G*(1.98892*10**(30))/(c**3)\n",
    "\n",
    "# common function shortcuts\n",
    "log10 = np.log10\n",
    "pi = np.pi\n",
    "sqrt = np.sqrt"
   ]
  },
  {
   "cell_type": "code",
   "execution_count": 4,
   "metadata": {},
   "outputs": [],
   "source": [
    "wzp = -0.029 # Quasar Correction; defined in Bailor-Jones but computed in Lindegren et al. 2018"
   ]
  },
  {
   "cell_type": "code",
   "execution_count": 5,
   "metadata": {},
   "outputs": [],
   "source": [
    "# Posterior PDF from Bailor-Jones et al.\n",
    "\n",
    "def pOfR(r, px, dpx, Lsph):\n",
    "    \"\"\"\n",
    "    This is Equation 2 in Bailer-Jones et al. 2018.\n",
    "    NB, r > 0\n",
    "    Here, input r in pc's.\n",
    "    \"\"\"\n",
    "    r = r/1000. #convert pc to kpc\n",
    "    #px = px + 0.029 #Quasar correction already accounted for \n",
    "    exponent = -r/Lsph - (px-wzp-1/r)**2/(2*dpx**2)\n",
    "    ans = r**2*np.exp(exponent)\n",
    "    return ans\n",
    "def gaussian(x, mu, sig):\n",
    "    \"\"\"\n",
    "    a gaussian function\n",
    "    \"\"\"\n",
    "    x = x/1000\n",
    "    ans = np.exp(-np.power(x - mu, 2.) / (2 * np.power(sig, 2.)))\n",
    "    return ans\n"
   ]
  },
  {
   "cell_type": "code",
   "execution_count": 6,
   "metadata": {},
   "outputs": [],
   "source": [
    "# geometric posterior from Bailer-jones et al. 2021 (EDR3)\n",
    "def pOfR3(r, px, dpx, alpha, beta, L):\n",
    "    \n",
    "    #r=r/1000.\n",
    "    #distance prior\n",
    "    exponent2= -(r/L)**alpha\n",
    "    prior= (1/(gamma((beta+1)/alpha)))*(alpha/(L**(beta+1)))*((r/1000)**beta)*np.exp(exponent2)\n",
    "    #likelihood (equation 2) \n",
    "    exponent = (-1/(2*(dpx**2)))*(px--.017-(1/(r/1000)))**2\n",
    "    P = (1/(dpx*sqrt(2*pi)))*np.exp(exponent)\n",
    "    ans=P*prior\n",
    "    return ans"
   ]
  },
  {
   "cell_type": "code",
   "execution_count": 8,
   "metadata": {},
   "outputs": [],
   "source": [
    "# plotting preamble\n",
    "\n",
    "fig_width_pt = 245.27 #513.17           # Get this from LaTeX using \\showthe\\columnwidth\n",
    "inches_per_pt = 1.0/72.27               # Convert pt to inches\n",
    "golden_mean = (np.sqrt(5)-1.0)/2.0      # Aesthetic ratio\n",
    "fig_width = fig_width_pt*inches_per_pt  # width in inches\n",
    "fig_height =fig_width*golden_mean       # height in inches\n",
    "fig_size = [fig_width,fig_height]\n",
    "\n",
    "params = {'backend': 'pdf',\n",
    "        'axes.labelsize': 7,\n",
    "        'lines.markersize': 2,\n",
    "        'font.size': 7,\n",
    "        'xtick.major.size':6,\n",
    "        'xtick.minor.size':3,  \n",
    "        'ytick.major.size':6,\n",
    "        'ytick.minor.size':3, \n",
    "        'xtick.major.width':0.5,\n",
    "        'ytick.major.width':0.5,\n",
    "        'xtick.minor.width':0.5,\n",
    "        'ytick.minor.width':0.5,\n",
    "        'lines.markeredgewidth':1,\n",
    "        'axes.linewidth':1.0,\n",
    "        'legend.fontsize': 7,\n",
    "        'xtick.labelsize': 7,\n",
    "        'ytick.labelsize': 7,\n",
    "        'savefig.dpi':200,\n",
    "        'path.simplify':True,\n",
    "        #'font.family': 'serif',\n",
    "        'font.serif':'Times',\n",
    "        'text.latex.preamble': [r'\\usepackage{amsmath}'],\n",
    "        'text.usetex':True,\n",
    "        #'axes.color_cycle': ['b', 'lime', 'r', 'purple', 'g', 'c', 'm', 'orange', 'darkblue', \\\n",
    "        #                        'darkcyan', 'y','orangered','chartreuse','brown','deeppink','lightgreen', 'k'],\n",
    "        #'font.serif':cm,\n",
    "        'figure.figsize': fig_size}\n",
    "plt.rcParams.update(params)"
   ]
  },
  {
   "cell_type": "markdown",
   "metadata": {},
   "source": [
    "# J1024 parallax measurements"
   ]
  },
  {
   "cell_type": "code",
   "execution_count": 9,
   "metadata": {},
   "outputs": [],
   "source": [
    "pxmax = .3\n",
    "pxmin = 1.6\n",
    "gx = np.linspace(pxmax, pxmin, 1001)"
   ]
  },
  {
   "cell_type": "code",
   "execution_count": 10,
   "metadata": {},
   "outputs": [
    {
     "data": {
      "text/plain": [
       "3.0808574741625288"
      ]
     },
     "execution_count": 10,
     "metadata": {},
     "output_type": "execute_result"
    }
   ],
   "source": [
    "# s/n of detection\n",
    "0.8571901175108640/0.27823102"
   ]
  },
  {
   "cell_type": "code",
   "execution_count": 11,
   "metadata": {},
   "outputs": [],
   "source": [
    "# parallax distance measurement from pulsar timing\n",
    "pxPTA = 0.85524949720672699275\n",
    "pxPTAerr =  0.14638523179025333953"
   ]
  },
  {
   "cell_type": "code",
   "execution_count": 12,
   "metadata": {},
   "outputs": [],
   "source": [
    "pxGEDR3 = 0.8571901175108640\n",
    "pxGEDR3err = 0.27823102"
   ]
  },
  {
   "cell_type": "code",
   "execution_count": 13,
   "metadata": {},
   "outputs": [],
   "source": [
    "dx = np.linspace(1, 3000,10001)"
   ]
  },
  {
   "cell_type": "code",
   "execution_count": 14,
   "metadata": {},
   "outputs": [],
   "source": [
    "# Gaia parallax\n",
    "pxGDR2 = 0.5288\n",
    "pxGDR2err = 0.4259\n",
    "\n",
    "#LK corrected distance from PTAs\n",
    "#px1024 = 0.86\n",
    "#px1024_err = .15\n",
    "dist_px1024 = norm(1.08*1000, .28*1000)\n"
   ]
  },
  {
   "cell_type": "code",
   "execution_count": 15,
   "metadata": {},
   "outputs": [],
   "source": [
    "px=np.linspace(0, 2, 1000)"
   ]
  },
  {
   "cell_type": "code",
   "execution_count": 16,
   "metadata": {},
   "outputs": [],
   "source": [
    "#area1024_pta = simps(dist_px1024.pdf(px1024), dx)"
   ]
  },
  {
   "cell_type": "code",
   "execution_count": 17,
   "metadata": {},
   "outputs": [],
   "source": [
    "Gaia3_p=sp.stats.norm.pdf(px, pxGEDR3, pxGEDR3err)\n",
    "Gaia2_p=sp.stats.norm.pdf(px, pxGDR2, pxGDR2err)\n",
    "PTAp=sp.stats.norm.pdf(px, pxPTA, pxPTAerr)\n",
    "combo3px=Gaia3_p*PTAp\n",
    "combo2px=Gaia2_p*PTAp"
   ]
  },
  {
   "cell_type": "code",
   "execution_count": 18,
   "metadata": {},
   "outputs": [],
   "source": [
    "Gaia3_px=Gaia3_p/simps(Gaia3_p, px)\n",
    "Gaia2_px=Gaia2_p/simps(Gaia2_p, px)\n",
    "PTApx=PTAp/simps(PTAp, px)\n",
    "c3px_norm=combo3px/simps(combo3px, px)\n",
    "c2px_norm=combo2px/simps(combo2px, px)"
   ]
  },
  {
   "cell_type": "code",
   "execution_count": 19,
   "metadata": {},
   "outputs": [
    {
     "data": {
      "text/plain": [
       "0.8548548548548548"
      ]
     },
     "execution_count": 19,
     "metadata": {},
     "output_type": "execute_result"
    }
   ],
   "source": [
    "for k in range(0, 10000):\n",
    "    if k == 0:\n",
    "        xx50 = px\n",
    "        yy50 = c3px_norm\n",
    "    else:\n",
    "        xx50 = px[0:-k]\n",
    "        yy50 =  c3px_norm[0:-k]\n",
    "    v = np.trapz(yy50, xx50)\n",
    "    if v <= 0.50:\n",
    "        break\n",
    "per_50 = xx50[-1]\n",
    "per_50\n"
   ]
  },
  {
   "cell_type": "code",
   "execution_count": 20,
   "metadata": {},
   "outputs": [
    {
     "data": {
      "text/plain": [
       "0.7267267267267267"
      ]
     },
     "execution_count": 20,
     "metadata": {},
     "output_type": "execute_result"
    }
   ],
   "source": [
    "for k in range(0, 10000):\n",
    "    if k == 0:\n",
    "        xx16 = px\n",
    "        yy16 = c3px_norm\n",
    "    else:\n",
    "        xx16 = px[0:-k]\n",
    "        yy16 =  c3px_norm[0:-k]\n",
    "    v = np.trapz(yy16, xx16)\n",
    "    if v <= 0.16:\n",
    "        break\n",
    "per_16 = xx16[-1]\n",
    "per_16"
   ]
  },
  {
   "cell_type": "code",
   "execution_count": 21,
   "metadata": {},
   "outputs": [],
   "source": [
    "c3px=per_50\n",
    "c3pxerr=per_50-per_16"
   ]
  },
  {
   "cell_type": "code",
   "execution_count": 22,
   "metadata": {},
   "outputs": [
    {
     "data": {
      "text/plain": [
       "0.8188188188188188"
      ]
     },
     "execution_count": 22,
     "metadata": {},
     "output_type": "execute_result"
    }
   ],
   "source": [
    "for k in range(0, 10000):\n",
    "    if k == 0:\n",
    "        xx50 = px\n",
    "        yy50 = c2px_norm\n",
    "    else:\n",
    "        xx50 = px[0:-k]\n",
    "        yy50 =  c2px_norm[0:-k]\n",
    "    v = np.trapz(yy50, xx50)\n",
    "    if v <= 0.50:\n",
    "        break\n",
    "per_50 = xx50[-1]\n",
    "per_50"
   ]
  },
  {
   "cell_type": "code",
   "execution_count": 23,
   "metadata": {},
   "outputs": [
    {
     "data": {
      "text/plain": [
       "0.6826826826826827"
      ]
     },
     "execution_count": 23,
     "metadata": {},
     "output_type": "execute_result"
    }
   ],
   "source": [
    "for k in range(0, 10000):\n",
    "    if k == 0:\n",
    "        xx16 = px\n",
    "        yy16 = c2px_norm\n",
    "    else:\n",
    "        xx16 = px[0:-k]\n",
    "        yy16 =  c2px_norm[0:-k]\n",
    "    v = np.trapz(yy16, xx16)\n",
    "    if v <= 0.16:\n",
    "        break\n",
    "per_16 = xx16[-1]\n",
    "per_16"
   ]
  },
  {
   "cell_type": "code",
   "execution_count": 24,
   "metadata": {},
   "outputs": [],
   "source": [
    "c2px=per_50\n",
    "c2pxerr=per_50-per_16"
   ]
  },
  {
   "cell_type": "code",
   "execution_count": 25,
   "metadata": {},
   "outputs": [],
   "source": [
    "# Corrected Bailer-Jones distance estimate\n",
    "bj_1024 = []\n",
    "Lsph=0.425767399303625\n",
    "for r in dx:\n",
    "    bj_1024.append(pOfR(r,pxGDR2, pxGDR2err,0.425767399303625))"
   ]
  },
  {
   "cell_type": "code",
   "execution_count": 26,
   "metadata": {},
   "outputs": [],
   "source": [
    "alpha = 0.218396136516621\n",
    "beta = 5.59382361435198\n",
    "L = 0.000182715923568957\n",
    "prior=1227.975\n",
    "# Gaia EDR3 estimate\n",
    "EDR3 = []\n",
    "for r in dx:\n",
    "    EDR3.append(pOfR3(r, pxGEDR3, pxGEDR3err, alpha, beta, L))"
   ]
  },
  {
   "cell_type": "code",
   "execution_count": 27,
   "metadata": {},
   "outputs": [],
   "source": [
    "valc3=[]\n",
    "valc2=[]\n",
    "valPTA=[]\n",
    "\n",
    "for ww in dx:\n",
    "    valc3.append(pOfR3(ww, c3px, c3pxerr, alpha, beta, L))\n",
    "    \n",
    "for ll in dx:\n",
    "    valc2.append(pOfR(ll, c2px, c2pxerr, Lsph))\n",
    "\n",
    "for ll in dx:\n",
    "    valPTA.append(pOfR(ll, pxPTA, pxPTAerr, Lsph))"
   ]
  },
  {
   "cell_type": "code",
   "execution_count": 28,
   "metadata": {},
   "outputs": [
    {
     "data": {
      "text/plain": [
       "array([3602])"
      ]
     },
     "execution_count": 28,
     "metadata": {},
     "output_type": "execute_result"
    }
   ],
   "source": [
    "#find most likely radius\n",
    "x=np.max(EDR3)\n",
    "m=np.where(EDR3==x)\n",
    "m[0]+100"
   ]
  },
  {
   "cell_type": "code",
   "execution_count": 29,
   "metadata": {},
   "outputs": [
    {
     "data": {
      "text/plain": [
       "[<matplotlib.lines.Line2D at 0x7fa538c90e20>]"
      ]
     },
     "execution_count": 29,
     "metadata": {},
     "output_type": "execute_result"
    },
    {
     "data": {
      "image/png": "[encoded data removed]",
      "text/plain": [
       "<Figure size 244.354x151.019 with 1 Axes>"
      ]
     },
     "metadata": {
      "image/png": {
       "height": 152,
       "width": 222
      },
      "needs_background": "light"
     },
     "output_type": "display_data"
    }
   ],
   "source": [
    "plt.plot(dx, EDR3)"
   ]
  },
  {
   "cell_type": "code",
   "execution_count": null,
   "metadata": {},
   "outputs": [],
   "source": []
  },
  {
   "cell_type": "code",
   "execution_count": 30,
   "metadata": {},
   "outputs": [],
   "source": [
    "#areaT = trapz(valR16, dx) # are curves really normalized to 1?\n",
    "areaPTA = simps(valPTA, dx)\n",
    "areaBJ = simps(bj_1024,dx)\n",
    "areaDR3= simps(EDR3, dx)\n",
    "areac3=simps(valc3,dx)\n",
    "areac2=simps(valc2,dx)"
   ]
  },
  {
   "cell_type": "code",
   "execution_count": 33,
   "metadata": {},
   "outputs": [],
   "source": [
    "#comboDR2= np.array(dist_px1024.pdf(px1024))*np.array(bj_1024)#*np.array(valPTA)\n",
    "#combo2area= simps (bj_1024, dx)\n",
    "comboDR2= valc2/areac2"
   ]
  },
  {
   "cell_type": "code",
   "execution_count": 34,
   "metadata": {},
   "outputs": [],
   "source": [
    "#normCombo = simps(combo_3, dx)\n",
    "truecombo=valc3/areac3"
   ]
  },
  {
   "cell_type": "code",
   "execution_count": 35,
   "metadata": {},
   "outputs": [
    {
     "data": {
      "text/plain": [
       "0.0003424470039712645"
      ]
     },
     "execution_count": 35,
     "metadata": {},
     "output_type": "execute_result"
    }
   ],
   "source": [
    "#calculating percentiles\n",
    "for k in range(0, 10001):\n",
    "    if k == 0:\n",
    "        xx95 = dx\n",
    "        yy95 = truecombo\n",
    "    else:\n",
    "        xx95 = dx[0:-k]\n",
    "        yy95 = truecombo[0:-k]\n",
    "    v = np.trapz(yy95, xx95)\n",
    "    if v <= 0.95:\n",
    "        break\n",
    "per_95 = xx95[-1]\n",
    "int_95= yy95[-1]\n",
    "int_95"
   ]
  },
  {
   "cell_type": "code",
   "execution_count": 36,
   "metadata": {},
   "outputs": [
    {
     "data": {
      "text/plain": [
       "0.0009144690613490366"
      ]
     },
     "execution_count": 36,
     "metadata": {},
     "output_type": "execute_result"
    }
   ],
   "source": [
    "for k in range(0, 10001):\n",
    "    if k == 0:\n",
    "        xx5 = dx\n",
    "        yy5 = truecombo\n",
    "    else:\n",
    "        xx5 = dx[0:-k]\n",
    "        yy5 = truecombo[0:-k]\n",
    "    v = np.trapz(yy5, xx5)\n",
    "    if v <= 0.05:\n",
    "        break\n",
    "per_5 = xx5[-1]\n",
    "int_5= yy5[-1]\n",
    "int_5"
   ]
  },
  {
   "cell_type": "code",
   "execution_count": 37,
   "metadata": {},
   "outputs": [
    {
     "data": {
      "text/plain": [
       "0.0018378447006995578"
      ]
     },
     "execution_count": 37,
     "metadata": {},
     "output_type": "execute_result"
    }
   ],
   "source": [
    "for k in range(0, 10001):\n",
    "    if k == 0:\n",
    "        xx16 = dx\n",
    "        yy16 = truecombo\n",
    "    else:\n",
    "        xx16 = dx[0:-k]\n",
    "        yy16 = truecombo[0:-k]\n",
    "    v = np.trapz(yy16, xx16)\n",
    "    if v <= 0.16:\n",
    "        break\n",
    "per_16 = xx16[-1]\n",
    "int_16= yy16[-1]\n",
    "int_16\n",
    "#per_16"
   ]
  },
  {
   "cell_type": "code",
   "execution_count": 38,
   "metadata": {},
   "outputs": [],
   "source": [
    "for k in range(0, 10001):\n",
    "    if k == 0:\n",
    "        xx84 = dx\n",
    "        yy84 = truecombo\n",
    "    else:\n",
    "        xx84 = dx[0:-k]\n",
    "        yy84 = truecombo[0:-k]\n",
    "    v = np.trapz(yy84, xx84)\n",
    "    if v <= 0.84:\n",
    "        break\n",
    "per_84 = xx84[-1]\n",
    "int_84= yy84[-1]"
   ]
  },
  {
   "cell_type": "code",
   "execution_count": 39,
   "metadata": {},
   "outputs": [
    {
     "name": "stdout",
     "output_type": "stream",
     "text": [
      "16/84:1018.5607 and 1371.8429\n",
      "5/95:939.0872 and 1546.3847\n"
     ]
    },
    {
     "data": {
      "text/plain": [
       "1169.4104"
      ]
     },
     "execution_count": 39,
     "metadata": {},
     "output_type": "execute_result"
    }
   ],
   "source": [
    "for k in range(0, 10001):\n",
    "    if k == 0:\n",
    "        xx50 = dx\n",
    "        yy50 = truecombo\n",
    "    else:\n",
    "        xx50 = dx[0:-k]\n",
    "        yy50 = truecombo[0:-k]\n",
    "    v = np.trapz(yy50, xx50)\n",
    "    if v <= 0.50:\n",
    "        break\n",
    "per_50 = xx50[-1]\n",
    "\n",
    "print (\"16/84:\" + str(per_16) + \" and \"+ str(per_84))\n",
    "print (\"5/95:\" + str(per_5) + \" and \"+ str(per_95))\n",
    "\n",
    "per_50"
   ]
  },
  {
   "cell_type": "code",
   "execution_count": 40,
   "metadata": {},
   "outputs": [
    {
     "data": {
      "text/plain": [
       "1213.4957"
      ]
     },
     "execution_count": 40,
     "metadata": {},
     "output_type": "execute_result"
    }
   ],
   "source": [
    "for k in range(0, 10001):\n",
    "    if k == 0:\n",
    "        xx50_2 = dx\n",
    "        yy50_2 = comboDR2\n",
    "    else:\n",
    "        xx50_2 = dx[0:-k]\n",
    "        yy50_2 = comboDR2[0:-k]\n",
    "    v = np.trapz(yy50_2, xx50_2)\n",
    "    if v <= 0.50:\n",
    "        break\n",
    "per_50_2 = xx50_2[-1]\n",
    "\n",
    "#print (\"16/84:\" + str(per_16) + \" and \"+ str(per_84))\n",
    "per_50_2"
   ]
  },
  {
   "cell_type": "code",
   "execution_count": 41,
   "metadata": {},
   "outputs": [
    {
     "name": "stdout",
     "output_type": "stream",
     "text": [
      "1442.0195\n"
     ]
    }
   ],
   "source": [
    "for k in range(0, 10001):\n",
    "    if k == 0:\n",
    "        xx84_2 = dx\n",
    "        yy84_2 = comboDR2\n",
    "    else:\n",
    "        xx84_2 = dx[0:-k]\n",
    "        yy84_2 = comboDR2[0:-k]\n",
    "    v = np.trapz(yy84_2, xx84_2)\n",
    "    if v <= 0.84:\n",
    "        break\n",
    "per_84_2 = xx84_2[-1]\n",
    "int_84_2= yy84_2[-1]\n",
    "print(per_84_2)"
   ]
  },
  {
   "cell_type": "code",
   "execution_count": 42,
   "metadata": {},
   "outputs": [
    {
     "data": {
      "text/plain": [
       "6.673441455534826e-07"
      ]
     },
     "execution_count": 42,
     "metadata": {},
     "output_type": "execute_result"
    }
   ],
   "source": [
    "for k in range(0, 1001):\n",
    "    if k == 0:\n",
    "        xx16_2 = dx\n",
    "        yy16_2 = comboDR2\n",
    "    else:\n",
    "        xx16_2 = dx[0:-k]\n",
    "        yy16_2 = comboDR2[0:-k]\n",
    "    v = np.trapz(yy16_2, xx16_2)\n",
    "    if v <= 0.16:\n",
    "        break\n",
    "per_16_2 = xx16_2[-1]\n",
    "int_16_2= yy16_2[-1]\n",
    "int_16_2"
   ]
  },
  {
   "cell_type": "code",
   "execution_count": 43,
   "metadata": {},
   "outputs": [
    {
     "name": "stdout",
     "output_type": "stream",
     "text": [
      "16/84 DR2:2700.1 and 1442.0195\n"
     ]
    }
   ],
   "source": [
    "print (\"16/84 DR2:\" + str(per_16_2) + \" and \"+ str(per_84_2))"
   ]
  },
  {
   "cell_type": "code",
   "execution_count": 44,
   "metadata": {},
   "outputs": [],
   "source": [
    "# dispersion measure distance from NE 2001\n",
    "d_DM_NE_1024 = 382.85869\n",
    "\n",
    "# YMW 16 DM model\n",
    "d_DM_YMW_1024 = 376.15793"
   ]
  },
  {
   "cell_type": "code",
   "execution_count": 45,
   "metadata": {},
   "outputs": [
    {
     "data": {
      "text/plain": [
       "array([1122.3261])"
      ]
     },
     "execution_count": 45,
     "metadata": {},
     "output_type": "execute_result"
    }
   ],
   "source": [
    "#find peak of distribution\n",
    "truecombo.max()\n",
    "peak=np.where(truecombo==truecombo.max())\n",
    "dx[peak]"
   ]
  },
  {
   "cell_type": "code",
   "execution_count": 46,
   "metadata": {
    "scrolled": true
   },
   "outputs": [
    {
     "data": {
      "image/png": "[encoded data removed]",
      "text/plain": [
       "<Figure size 244.354x151.019 with 1 Axes>"
      ]
     },
     "metadata": {
      "image/png": {
       "height": 150,
       "width": 243
      },
      "needs_background": "light"
     },
     "output_type": "display_data"
    }
   ],
   "source": [
    "fig, ax1 = plt.subplots()\n",
    "\n",
    "# DM NE 2001 model\n",
    "ax1.axvspan(d_DM_NE_1024*.8, d_DM_NE_1024*1.2, alpha=0.3, color = \"C0\")#, label = \"NE 2001\")\n",
    "plt.axvline(d_DM_NE_1024, ymin=0, ymax=1, color = \"C0\")\n",
    "\n",
    "# DM YMW16 model\n",
    "ax1.axvspan(d_DM_YMW_1024*.8, d_DM_YMW_1024*1.2, alpha=0.35, color = \"C1\")#, label = \"YMW 16\")\n",
    "plt.axvline(d_DM_YMW_1024, ymin=0, ymax=1, color = \"C1\")\n",
    "\n",
    "plt.plot(dx, np.array(bj_1024)/areaBJ , label = \"Gaia DR2\", color = \"C2\", linestyle='dashed')\n",
    "plt.plot(dx, np.array(EDR3)/areaDR3, label = \"Gaia EDR3\", color = \"C6\", linestyle='dashed')\n",
    "plt.plot(dx, np.array(valPTA)/areaPTA, label = \"PTA\", color = \"C3\", linestyle='-.')\n",
    "plt.plot(dx, truecombo, label = \"Combined\", color = \"C4\", linestyle='solid')\n",
    "\n",
    "plt.axvline(dx[peak], ymin=0, ymax=.95, color = \"k\", label = \"Peak\", linestyle=\"-\", alpha =.7)\n",
    "#plt.axvline(per_5, ymin=0, ymax=.33, color = \"b\", label = \"5, 95 \\%\", linestyle=\":\")\n",
    "#plt.axvline(per_84, ymin=0, ymax=.4, color = \"k\", label= \"84, 16 \\%\", linestyle=\":\")\n",
    "#plt.axvline(per_16, ymin=0, ymax=.8, color = \"k\", linestyle=\":\")\n",
    "#plt.axvline(per_95, ymin=0, ymax=.17, color = \"b\", linestyle=\":\")\n",
    "\n",
    "\n",
    "plt.yticks([])\n",
    "plt.xlim(200,2800)\n",
    "plt.xlabel(\"Distance (pc)\")\n",
    "#plt.ylabel(\"Probability\")\n",
    "plt.tight_layout()\n",
    "plt.legend(frameon=False)\n",
    "plt.savefig(\"combinedPDFs_1024wDM.pdf\")"
   ]
  },
  {
   "cell_type": "code",
   "execution_count": 48,
   "metadata": {},
   "outputs": [
    {
     "data": {
      "image/png": "[encoded data removed]",
      "text/plain": [
       "<Figure size 244.354x151.019 with 1 Axes>"
      ]
     },
     "metadata": {
      "image/png": {
       "height": 150,
       "width": 243
      },
      "needs_background": "light"
     },
     "output_type": "display_data"
    }
   ],
   "source": [
    "fig, ax1 = plt.subplots()\n",
    "\n",
    "plt.plot(dx, truecombo, label = \"Combo Gaia EDR3\", color = \"C4\", linestyle='solid')\n",
    "plt.plot(dx, comboDR2, label = \"Combo Gaia DR2\", color = \"C8\", linestyle='solid')\n",
    "#plt.plot(dx, np.array(valPTA)/areaPTA, label = \"PTA\", color = \"C3\", linestyle='-.')\n",
    "\n",
    "\n",
    "plt.axvline(dx[peak], ymin=0, ymax=.95, color = \"k\", label = \"Peak\", linestyle=\"-\", alpha =.7)\n",
    "plt.axvline(per_5, ymin=0, ymax=.365, color = \"b\", label = \"5, 95 \\%\", linestyle=\":\")\n",
    "plt.axvline(per_84, ymin=0, ymax=.42, color = \"k\", label= \"84, 16 \\%\", linestyle=\":\")\n",
    "plt.axvline(per_16, ymin=0, ymax=.7, color = \"k\", linestyle=\":\")\n",
    "plt.axvline(per_95, ymin=0, ymax=.18, color = \"b\", linestyle=\":\")\n",
    "\n",
    "# DM NE 2001 model\n",
    "ax1.axvspan(d_DM_NE_1024*.8, d_DM_NE_1024*1.2, alpha=0.3, color = \"C0\")#, label = \"NE 2001\")\n",
    "plt.axvline(d_DM_NE_1024, ymin=0, ymax=1, color = \"C0\")\n",
    "\n",
    "# DM YMW16 model\n",
    "ax1.axvspan(d_DM_YMW_1024*.8, d_DM_YMW_1024*1.2, alpha=0.35, color = \"C1\")#, label = \"YMW 16\")\n",
    "plt.axvline(d_DM_YMW_1024, ymin=0, ymax=1, color = \"C1\")\n",
    "\n",
    "plt.yticks([])\n",
    "plt.xlim(200,2000)\n",
    "plt.xlabel(\"Distance (pc)\")\n",
    "#plt.ylabel(\"Probability\")\n",
    "plt.tight_layout()\n",
    "plt.legend()\n",
    "plt.savefig(\"combo_comp_1024.pdf\")"
   ]
  },
  {
   "cell_type": "code",
   "execution_count": 141,
   "metadata": {},
   "outputs": [],
   "source": [
    "# log transform\n",
    "new1024 = []\n",
    "for ii in np.array(EDR3)/areaDR3:\n",
    "    new1024.append(10**(ii))"
   ]
  }
 ],
 "metadata": {
  "kernelspec": {
   "display_name": "Python 3 (ipykernel)",
   "language": "python",
   "name": "python3"
  },
  "language_info": {
   "codemirror_mode": {
    "name": "ipython",
    "version": 3
   },
   "file_extension": ".py",
   "mimetype": "text/x-python",
   "name": "python",
   "nbconvert_exporter": "python",
   "pygments_lexer": "ipython3",
   "version": "3.8.8"
  }
 },
 "nbformat": 4,
 "nbformat_minor": 2
}
