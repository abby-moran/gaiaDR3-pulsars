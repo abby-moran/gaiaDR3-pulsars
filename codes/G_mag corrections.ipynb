{
 "cells": [
  {
   "cell_type": "code",
   "execution_count": 1,
   "id": "f85a6710",
   "metadata": {},
   "outputs": [],
   "source": [
    "import numpy as np\n",
    "import matplotlib.pyplot as plt\n",
    "import pandas\n",
    "\n",
    "from astropy.table import Table"
   ]
  },
  {
   "cell_type": "code",
   "execution_count": 30,
   "id": "6fa707c4",
   "metadata": {},
   "outputs": [],
   "source": [
    "def correct_gband(bp_rp, astrometric_params_solved, phot_g_mean_mag, phot_g_mean_flux):\n",
    "    \"\"\"\n",
    "    code from https://github.com/agabrown/gaiaedr3-6p-gband-correction\n",
    "    Correct the G-band fluxes and magnitudes for the input list of Gaia EDR3 data.\n",
    "    \n",
    "    Parameters\n",
    "    ----------\n",
    "    \n",
    "    bp_rp: float, numpy.ndarray\n",
    "        The (BP-RP) colour listed in the Gaia EDR3 archive.\n",
    "    astrometric_params_solved: int, numpy.ndarray\n",
    "        The astrometric solution type listed in the Gaia EDR3 archive.\n",
    "    phot_g_mean_mag: float, numpy.ndarray\n",
    "        The G-band magnitude as listed in the Gaia EDR3 archive.\n",
    "    phot_g_mean_flux: float, numpy.ndarray\n",
    "        The G-band flux as listed in the Gaia EDR3 archive.\n",
    "        \n",
    "    Returns\n",
    "    -------\n",
    "    \n",
    "    The corrected G-band magnitudes and fluxes. The corrections are only applied to\n",
    "    sources with a 2-paramater or 6-parameter astrometric solution fainter than G=13, \n",
    "    for which a (BP-RP) colour is available.\n",
    "    \n",
    "    Example\n",
    "    -------\n",
    "    \n",
    "    gmag_corr, gflux_corr = correct_gband(bp_rp, astrometric_params_solved, phot_g_mean_mag, phot_g_mean_flux)\n",
    "    \"\"\"\n",
    "\n",
    "    if np.isscalar(bp_rp) or np.isscalar(astrometric_params_solved) or np.isscalar(phot_g_mean_mag) or np.isscalar(phot_g_mean_flux):\n",
    "        bp_rp = np.float64(bp_rp)\n",
    "        astrometric_params_solved = np.int64(astrometric_params_solved)\n",
    "        phot_g_mean_mag = np.float64(phot_g_mean_mag)\n",
    "        phot_g_mean_flux = np.float64(phot_g_mean_flux)\n",
    "    \n",
    "    if not (bp_rp.shape == astrometric_params_solved.shape == phot_g_mean_mag.shape == phot_g_mean_flux.shape):\n",
    "        raise ValueError('Function parameters must be of the same shape!')\n",
    "        \n",
    "    do_not_correct = np.isnan(bp_rp) | (phot_g_mean_mag<13) | (astrometric_params_solved == 31)\n",
    "    bright_correct = np.logical_not(do_not_correct) & (phot_g_mean_mag>=13) & (phot_g_mean_mag<=16)\n",
    "    faint_correct = np.logical_not(do_not_correct) & (phot_g_mean_mag>16)\n",
    "    bp_rp_c = np.clip(bp_rp, 0.25, 3.0)\n",
    "    \n",
    "    correction_factor = np.ones_like(phot_g_mean_mag)\n",
    "    correction_factor[faint_correct] = 1.00525 - 0.02323*bp_rp_c[faint_correct] + \\\n",
    "        0.01740*np.power(bp_rp_c[faint_correct],2) - 0.00253*np.power(bp_rp_c[faint_correct],3)\n",
    "    correction_factor[bright_correct] = 1.00876 - 0.02540*bp_rp_c[bright_correct] + \\\n",
    "        0.01747*np.power(bp_rp_c[bright_correct],2) - 0.00277*np.power(bp_rp_c[bright_correct],3)\n",
    "    \n",
    "    gmag_corrected = phot_g_mean_mag - 2.5*np.log10(correction_factor)\n",
    "    gflux_corrected = phot_g_mean_flux * correction_factor\n",
    "    \n",
    "    return gmag_corrected, gflux_corrected"
   ]
  },
  {
   "cell_type": "code",
   "execution_count": 3,
   "id": "7b49e2ca",
   "metadata": {},
   "outputs": [
    {
     "name": "stderr",
     "output_type": "stream",
     "text": [
      "<ipython-input-3-ee42e60aa3b8>:1: VisibleDeprecationWarning: Reading unicode strings without specifying the encoding argument is deprecated. Set the encoding, use None for the system default.\n",
      "  pulsar_data = np.genfromtxt('ipta_3arcsec_wpm-result.csv', delimiter=',', names=True, dtype=None)\n"
     ]
    }
   ],
   "source": [
    "pulsar_data = np.genfromtxt('ipta_3arcsec_wpm-result.csv', delimiter=',', names=True, dtype=None)"
   ]
  },
  {
   "cell_type": "code",
   "execution_count": 4,
   "id": "4698a58b",
   "metadata": {},
   "outputs": [],
   "source": [
    "pulsar_data = Table(pulsar_data)\n",
    "pulsar_data.sort(['names', 'angdist'])"
   ]
  },
  {
   "cell_type": "code",
   "execution_count": null,
   "id": "8932ae05",
   "metadata": {},
   "outputs": [],
   "source": []
  },
  {
   "cell_type": "code",
   "execution_count": 5,
   "id": "dd5d4470",
   "metadata": {},
   "outputs": [],
   "source": [
    "df = pandas.DataFrame(data=pulsar_data['names'])\n",
    "names_keep = ['J0437-4715', 'J1012+5307', 'J1024-0719', 'J1732-5049', 'J1747-4036', 'J1843-1113']#, 'J1955+2908']\n",
    "pulsar_data = pulsar_data[np.isin((df['names'].str.decode(\"utf-8\")), names_keep)] # keep only the sources we wrote about"
   ]
  },
  {
   "cell_type": "code",
   "execution_count": 6,
   "id": "36f2d228",
   "metadata": {},
   "outputs": [],
   "source": [
    "df = pandas.DataFrame(data=pulsar_data['designation'])\n",
    "\n",
    "objects_keep = ['Gaia EDR3 4789864076732331648', 'Gaia EDR3 851610861391010944', 'Gaia EDR3 3775277872387310208', 'Gaia EDR3 5946288492263176704', 'Gaia EDR3 5957827763757710080', 'Gaia EDR3 5957827763757708544', 'Gaia EDR3 4106823440438736384']\n",
    "pulsar_data = pulsar_data[np.isin((df['designation'].str.decode(\"utf-8\")), objects_keep)] # keep only the sources we wrote ab\n"
   ]
  },
  {
   "cell_type": "code",
   "execution_count": 16,
   "id": "c17c31d4",
   "metadata": {},
   "outputs": [],
   "source": [
    "gmag=pulsar_data['phot_g_mean_mag']"
   ]
  },
  {
   "cell_type": "code",
   "execution_count": 21,
   "id": "9953e4a3",
   "metadata": {},
   "outputs": [],
   "source": [
    "bprp=pulsar_data['bp_rp']"
   ]
  },
  {
   "cell_type": "code",
   "execution_count": 23,
   "id": "956a5e95",
   "metadata": {},
   "outputs": [],
   "source": [
    "astro_sol=pulsar_data['astrometric_params_solved']"
   ]
  },
  {
   "cell_type": "code",
   "execution_count": 27,
   "id": "52ba0f55",
   "metadata": {},
   "outputs": [],
   "source": [
    "gflux=pulsar_data['phot_g_mean_flux']"
   ]
  },
  {
   "cell_type": "code",
   "execution_count": 29,
   "id": "49765fa2",
   "metadata": {},
   "outputs": [
    {
     "name": "stdout",
     "output_type": "stream",
     "text": [
      "(20.351167849142037, 136.29483003795514)\n",
      "(19.586607, 275.6159095)\n",
      "(19.148087245234883, 412.77377492091694)\n",
      "(20.809143278403006, 89.3901086979164)\n",
      "(20.147984, 164.3438848)\n",
      "(19.77844122429924, 230.97791344801956)\n",
      "(19.754900037840212, 236.04038533078784)\n"
     ]
    }
   ],
   "source": [
    "corr=[]\n",
    "nums=[0,1,2,3,4,5,6]\n",
    "for ii in nums:\n",
    "    print(correct_gband(bprp[ii], astro_sol[ii], gmag[ii], gflux[ii]))"
   ]
  },
  {
   "cell_type": "code",
   "execution_count": null,
   "id": "184e5a4d",
   "metadata": {},
   "outputs": [],
   "source": [
    "#all so dim there is no change!"
   ]
  }
 ],
 "metadata": {
  "kernelspec": {
   "display_name": "Python 3",
   "language": "python",
   "name": "python3"
  },
  "language_info": {
   "codemirror_mode": {
    "name": "ipython",
    "version": 3
   },
   "file_extension": ".py",
   "mimetype": "text/x-python",
   "name": "python",
   "nbconvert_exporter": "python",
   "pygments_lexer": "ipython3",
   "version": "3.8.8"
  }
 },
 "nbformat": 4,
 "nbformat_minor": 5
}
