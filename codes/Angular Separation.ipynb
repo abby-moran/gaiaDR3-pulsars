{
 "cells": [
  {
   "cell_type": "code",
   "execution_count": 1,
   "id": "97d6ea5e",
   "metadata": {},
   "outputs": [],
   "source": [
    "import numpy as np\n",
    "import matplotlib.pyplot as plt\n",
    "from astropy import units as u\n",
    "from astropy.coordinates import SkyCoord, Angle\n",
    "from astropy.time import Time\n",
    "from astropy.table import Table, unique\n",
    "from tqdm import tqdm\n",
    "from astroquery.gaia import Gaia\n",
    "from scipy.special import erfinv, erfcinv, erf, erfc"
   ]
  },
  {
   "cell_type": "code",
   "execution_count": 2,
   "id": "0dc2e79f",
   "metadata": {},
   "outputs": [
    {
     "data": {
      "text/plain": [
       "2.2264186180753542"
      ]
     },
     "execution_count": 2,
     "metadata": {},
     "output_type": "execute_result"
    }
   ],
   "source": [
    "#calculating angular separation of companions to J1747\n",
    "#check if a triple system is possible\n",
    "star080 = SkyCoord(ra =266.9529233 * u.degree, dec = -40.61505598*u.degree)\n",
    "star544 = SkyCoord(ra = 266.953585*u.degree, dec = -40.61469518*u.degree)\n",
    "separation = star080.separation(star544)\n",
    "separation.arcsecond"
   ]
  },
  {
   "cell_type": "code",
   "execution_count": 3,
   "id": "eae66658",
   "metadata": {},
   "outputs": [
    {
     "data": {
      "text/plain": [
       "1.0793982059199185e-05"
      ]
     },
     "execution_count": 3,
     "metadata": {},
     "output_type": "execute_result"
    }
   ],
   "source": [
    "separation.radian"
   ]
  },
  {
   "cell_type": "code",
   "execution_count": 4,
   "id": "3c2539ca",
   "metadata": {
    "scrolled": true
   },
   "outputs": [],
   "source": [
    "radsep= separation.radian"
   ]
  },
  {
   "cell_type": "code",
   "execution_count": 5,
   "id": "c4026f73",
   "metadata": {},
   "outputs": [],
   "source": [
    "dist=3.403502e+19 #dist in meters (combo from paper)"
   ]
  },
  {
   "cell_type": "code",
   "execution_count": 6,
   "id": "1ab44eb7",
   "metadata": {},
   "outputs": [
    {
     "data": {
      "text/plain": [
       "2455.7441979849796"
      ]
     },
     "execution_count": 6,
     "metadata": {},
     "output_type": "execute_result"
    }
   ],
   "source": [
    "6.6846E-12*dist*radsep #separation in AU"
   ]
  },
  {
   "cell_type": "code",
   "execution_count": null,
   "id": "497f3ab1",
   "metadata": {},
   "outputs": [],
   "source": []
  }
 ],
 "metadata": {
  "kernelspec": {
   "display_name": "Python 3 (ipykernel)",
   "language": "python",
   "name": "python3"
  },
  "language_info": {
   "codemirror_mode": {
    "name": "ipython",
    "version": 3
   },
   "file_extension": ".py",
   "mimetype": "text/x-python",
   "name": "python",
   "nbconvert_exporter": "python",
   "pygments_lexer": "ipython3",
   "version": "3.8.8"
  }
 },
 "nbformat": 4,
 "nbformat_minor": 5
}
