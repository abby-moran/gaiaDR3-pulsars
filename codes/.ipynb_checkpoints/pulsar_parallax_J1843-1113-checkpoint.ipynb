{
 "cells": [
  {
   "cell_type": "code",
   "execution_count": 37,
   "metadata": {},
   "outputs": [],
   "source": [
    "from __future__ import division\n",
    "from IPython.display import display, Math, Latex\n",
    "from math import sin, cos\n",
    "import numpy as np\n",
    "import matplotlib.pyplot as plt\n",
    "from matplotlib.ticker import FormatStrFormatter, LinearLocator, NullFormatter, NullLocator, MultipleLocator\n",
    "import matplotlib.ticker\n",
    "import matplotlib.colors\n",
    "from matplotlib.font_manager import FontProperties\n",
    "from matplotlib import rc, text\n",
    "from scipy.stats import norm\n",
    "import scipy as sp\n",
    "from scipy.integrate import simps\n",
    "from numpy import trapz\n",
    "from scipy.optimize import curve_fit\n",
    "from scipy.special import gamma, factorial\n",
    "import statistics\n",
    "%matplotlib inline\n",
    "%config InlineBackend.figure_format = \"retina\""
   ]
  },
  {
   "cell_type": "code",
   "execution_count": 38,
   "metadata": {},
   "outputs": [],
   "source": [
    "c=2.99792458*(10**8)\n",
    "G=6.67428*(10**(-11))\n",
    "s_mass=G*(1.98892*10**(30))/(c**3)\n",
    "\n",
    "# common function shortcuts\n",
    "log10 = np.log10\n",
    "pi = np.pi\n",
    "sqrt = np.sqrt"
   ]
  },
  {
   "cell_type": "code",
   "execution_count": 39,
   "metadata": {},
   "outputs": [],
   "source": [
    "wzp = -0.029 # Quasar Correction; defined in Bailor-Jones but computed in Lindegren et al. 2018"
   ]
  },
  {
   "cell_type": "code",
   "execution_count": 4,
   "metadata": {},
   "outputs": [],
   "source": [
    "# Posterior PDF from Bailor-Jones et al.\n",
    "\n",
    "def pOfR(r, px, dpx, Lsph):\n",
    "    \"\"\"\n",
    "    This is Equation 2 in Bailer-Jones et al. 2018.\n",
    "    Here, input r in pc's.\n",
    "    \"\"\"\n",
    "    r = r/1000. #convert pc to kpc\n",
    "    #px = px + 0.029 #Quasar correction already accounted for \n",
    "    exponent = -r/Lsph - (px-wzp-1/r)**2/(2*dpx**2)\n",
    "    ans = r**2*np.exp(exponent)\n",
    "    return ans\n",
    "\n",
    "def gaussian(x, mu, sig):\n",
    "    \"\"\"\n",
    "    a gaussian function\n",
    "    \"\"\"\n",
    "    x = x/1000\n",
    "    ans = np.exp(-np.power(x - mu, 2.) / (2 * np.power(sig, 2.)))\n",
    "    return ans"
   ]
  },
  {
   "cell_type": "code",
   "execution_count": 182,
   "metadata": {},
   "outputs": [],
   "source": [
    "def pOfR3(r, px, dpx, alpha, beta, L):\n",
    "    \"\"\"\n",
    "    geometric prior from Bailer-Jones et al. 2020.\n",
    "    \"\"\"\n",
    "    #r=r/1000\n",
    "    #distance prior\n",
    "    exponent2= -(r/L)**alpha\n",
    "    prior= (1/(gamma((beta+1)/alpha)))*(alpha/(L**(beta+1)))*((r/1000)**beta)*np.exp(exponent2)\n",
    "    #likelihood (equation 2) \n",
    "    exponent = (-1/(2*(dpx**2)))*(px--.029-(1/(r/100)))**2\n",
    "    P = (1/(dpx*sqrt(2*pi)))*np.exp(exponent)\n",
    "    ans=P*prior\n",
    "    return ans"
   ]
  },
  {
   "cell_type": "code",
   "execution_count": 50,
   "metadata": {},
   "outputs": [],
   "source": [
    "# plotting preamble\n",
    "\n",
    "fig_width_pt = 245.27 #513.17           # Get this from LaTeX using \\showthe\\columnwidth\n",
    "inches_per_pt = 1.0/72.27               # Convert pt to inches\n",
    "golden_mean = (np.sqrt(5)-1.0)/2.0      # Aesthetic ratio\n",
    "fig_width = fig_width_pt*inches_per_pt  # width in inches\n",
    "fig_height =fig_width*golden_mean       # height in inches\n",
    "fig_size = [fig_width,fig_height]\n",
    "\n",
    "params = {'backend': 'pdf',\n",
    "        'axes.labelsize': 7,\n",
    "        'lines.markersize': 2,\n",
    "        'font.size': 7,\n",
    "        'xtick.major.size':6,\n",
    "        'xtick.minor.size':3,  \n",
    "        'ytick.major.size':6,\n",
    "        'ytick.minor.size':3, \n",
    "        'xtick.major.width':0.5,\n",
    "        'ytick.major.width':0.5,\n",
    "        'xtick.minor.width':0.5,\n",
    "        'ytick.minor.width':0.5,\n",
    "        'lines.markeredgewidth':1,\n",
    "        'axes.linewidth':1.0,\n",
    "        'legend.fontsize': 7,\n",
    "        'xtick.labelsize': 7,\n",
    "        'ytick.labelsize': 7,\n",
    "        'savefig.dpi':200,\n",
    "        'path.simplify':True,\n",
    "        #'font.family': 'serif',\n",
    "        'font.serif':'Times',\n",
    "        'text.latex.preamble': [r'\\usepackage{amsmath}'],\n",
    "        'text.usetex':True,\n",
    "        #'axes.color_cycle': ['b', 'lime', 'r', 'purple', 'g', 'c', 'm', 'orange', 'darkblue', \\\n",
    "        #                        'darkcyan', 'y','orangered','chartreuse','brown','deeppink','lightgreen', 'k'],\n",
    "        #'font.serif':cm,\n",
    "        'figure.figsize': fig_size}\n",
    "plt.rcParams.update(params)"
   ]
  },
  {
   "cell_type": "markdown",
   "metadata": {},
   "source": [
    "# J1843-1113 parallax measurements"
   ]
  },
  {
   "cell_type": "code",
   "execution_count": 51,
   "metadata": {},
   "outputs": [
    {
     "data": {
      "text/plain": [
       "2.0458714663977973"
      ]
     },
     "execution_count": 51,
     "metadata": {},
     "output_type": "execute_result"
    }
   ],
   "source": [
    "# s/n of detection\n",
    "1.0626947901025800/0.5194338"
   ]
  },
  {
   "cell_type": "code",
   "execution_count": 52,
   "metadata": {},
   "outputs": [],
   "source": [
    "# parallax distance measurement from pulsar timing\n",
    "pxPTA = 0.62\n",
    "pxPTAerr =  0.34"
   ]
  },
  {
   "cell_type": "code",
   "execution_count": 53,
   "metadata": {},
   "outputs": [
    {
     "data": {
      "text/plain": [
       "3.25196410885835"
      ]
     },
     "execution_count": 53,
     "metadata": {},
     "output_type": "execute_result"
    }
   ],
   "source": [
    "1/0.30750646886784517101"
   ]
  },
  {
   "cell_type": "code",
   "execution_count": 54,
   "metadata": {},
   "outputs": [],
   "source": [
    "# apparent DM distance 1.7 ± 0.3"
   ]
  },
  {
   "cell_type": "code",
   "execution_count": 55,
   "metadata": {},
   "outputs": [],
   "source": [
    "# IPTA/D16 distance\n",
    "dist_1843 = norm(1090,670)"
   ]
  },
  {
   "cell_type": "code",
   "execution_count": 56,
   "metadata": {},
   "outputs": [],
   "source": [
    "pxmin=1\n",
    "pxmax=13000\n",
    "steps=100001\n",
    "dx = np.linspace(pxmin,pxmax,steps)"
   ]
  },
  {
   "cell_type": "code",
   "execution_count": 57,
   "metadata": {},
   "outputs": [],
   "source": [
    "pxGEDR3 = 1.0626947901025800\n",
    "pxGEDR3err = 0.5194338"
   ]
  },
  {
   "cell_type": "code",
   "execution_count": 58,
   "metadata": {},
   "outputs": [],
   "source": [
    "pxGDR2=0.786932656\n",
    "pxGDR2err= 0.643053785"
   ]
  },
  {
   "cell_type": "code",
   "execution_count": 59,
   "metadata": {},
   "outputs": [],
   "source": [
    "# Bailer-Jones distance estimate\n",
    "bj_1843 = []\n",
    "for r in dx:\n",
    "    bj_1843.append(pOfR(r,0.786932656, 0.643053785,1.771456574))"
   ]
  },
  {
   "cell_type": "code",
   "execution_count": 60,
   "metadata": {},
   "outputs": [],
   "source": [
    "alpha=1.62713769434249\n",
    "beta=2.11022197644189\n",
    "L=4178.82472840117\n",
    "# Gaia EDR3 estimate\n",
    "EDR3 = []\n",
    "for xx in dx:\n",
    "    EDR3.append(pOfR3(xx, pxGEDR3, pxGEDR3err, alpha, beta, L))"
   ]
  },
  {
   "cell_type": "code",
   "execution_count": 61,
   "metadata": {},
   "outputs": [],
   "source": [
    "px=np.linspace(-3, 5, 10001)"
   ]
  },
  {
   "cell_type": "code",
   "execution_count": 62,
   "metadata": {},
   "outputs": [],
   "source": [
    "Gaia3_p=sp.stats.norm.pdf(px, pxGEDR3, pxGEDR3err)\n",
    "Gaia2_p=sp.stats.norm.pdf(px, pxGDR2, pxGDR2err)\n",
    "PTAp=sp.stats.norm.pdf(px, pxPTA, pxPTAerr)\n",
    "combo3px=Gaia3_p*PTAp\n",
    "combo2px=Gaia2_p*PTAp"
   ]
  },
  {
   "cell_type": "code",
   "execution_count": 63,
   "metadata": {},
   "outputs": [],
   "source": [
    "Gaia3_px=Gaia3_p/simps(Gaia3_p, px)\n",
    "Gaia2_px=Gaia2_p/simps(Gaia2_p, px)\n",
    "PTApx=PTAp/simps(PTAp, px)\n",
    "c3px_norm=combo3px/simps(combo3px, px)\n",
    "c2px_norm=combo2px/simps(combo2px, px)"
   ]
  },
  {
   "cell_type": "code",
   "execution_count": 69,
   "metadata": {},
   "outputs": [
    {
     "data": {
      "image/png": "[encoded data removed]",
      "text/plain": [
       "<Figure size 244.354x151.019 with 1 Axes>"
      ]
     },
     "metadata": {
      "image/png": {
       "height": 161,
       "width": 236
      },
      "needs_background": "light"
     },
     "output_type": "display_data"
    }
   ],
   "source": [
    "fig, ax1 = plt.subplots()\n",
    "#dx, np.array(dist_px1024.pdf(px1024)\n",
    "plt.plot(px, c3px_norm, label='Combo Gaia EDR3', color = \"C4\")#, linestyle='-.')\n",
    "plt.plot(px, c2px_norm, label='Combo Gaia DR2', color = \"C5\")#, linestyle='-.')\n",
    "plt.plot(px, PTApx, label = 'PTA', color = \"C2\", linestyle='-.')\n",
    "plt.plot(px, Gaia3_px, label='Gaia EDR3', color = \"C3\", linestyle='-.')\n",
    "plt.plot(px, Gaia2_px, label='Gaia DR2', color = \"C1\", linestyle='-.')\n",
    "\n",
    "plt.subplots_adjust(top=0.7)\n",
    "plt.tight_layout()\n",
    "plt.legend()\n",
    "plt.xlim(-1, 3)\n",
    "plt.yticks([])\n",
    "plt.xlabel(\"Parallax (mas)\")\n",
    "plt.savefig(\"1843_parallax.pdf\", bbox_inches=\"tight\")\n",
    "\n",
    "#plt.plot(Gaia3_px)"
   ]
  },
  {
   "cell_type": "code",
   "execution_count": 198,
   "metadata": {},
   "outputs": [
    {
     "data": {
      "text/plain": [
       "0.7520000000000002"
      ]
     },
     "execution_count": 198,
     "metadata": {},
     "output_type": "execute_result"
    }
   ],
   "source": [
    "for k in range(0, 10000):\n",
    "    if k == 0:\n",
    "        xx50 = px\n",
    "        yy50 = c3px_norm\n",
    "    else:\n",
    "        xx50 = px[0:-k]\n",
    "        yy50 =  c3px_norm[0:-k]\n",
    "    v = np.trapz(yy50, xx50)\n",
    "    if v <= 0.50:\n",
    "        break\n",
    "per_50 = xx50[-1]\n",
    "per_50\n"
   ]
  },
  {
   "cell_type": "code",
   "execution_count": 199,
   "metadata": {},
   "outputs": [
    {
     "data": {
      "text/plain": [
       "0.46960000000000024"
      ]
     },
     "execution_count": 199,
     "metadata": {},
     "output_type": "execute_result"
    }
   ],
   "source": [
    "for k in range(0, 10000):\n",
    "    if k == 0:\n",
    "        xx16 = px\n",
    "        yy16 = c3px_norm\n",
    "    else:\n",
    "        xx16 = px[0:-k]\n",
    "        yy16 =  c3px_norm[0:-k]\n",
    "    v = np.trapz(yy16, xx16)\n",
    "    if v <= 0.16:\n",
    "        break\n",
    "per_16 = xx16[-1]\n",
    "per_16"
   ]
  },
  {
   "cell_type": "code",
   "execution_count": 200,
   "metadata": {},
   "outputs": [],
   "source": [
    "c3px=per_50\n",
    "c3pxerr=per_50-per_16"
   ]
  },
  {
   "cell_type": "code",
   "execution_count": 201,
   "metadata": {},
   "outputs": [
    {
     "data": {
      "text/plain": [
       "0.6560000000000001"
      ]
     },
     "execution_count": 201,
     "metadata": {},
     "output_type": "execute_result"
    }
   ],
   "source": [
    "for k in range(0, 10000):\n",
    "    if k == 0:\n",
    "        xx50 = px\n",
    "        yy50 = c2px_norm\n",
    "    else:\n",
    "        xx50 = px[0:-k]\n",
    "        yy50 =  c2px_norm[0:-k]\n",
    "    v = np.trapz(yy50, xx50)\n",
    "    if v <= 0.50:\n",
    "        break\n",
    "per_50 = xx50[-1]\n",
    "per_50"
   ]
  },
  {
   "cell_type": "code",
   "execution_count": 202,
   "metadata": {},
   "outputs": [
    {
     "data": {
      "text/plain": [
       "0.35680000000000023"
      ]
     },
     "execution_count": 202,
     "metadata": {},
     "output_type": "execute_result"
    }
   ],
   "source": [
    "for k in range(0, 10000):\n",
    "    if k == 0:\n",
    "        xx16 = px\n",
    "        yy16 = c2px_norm\n",
    "    else:\n",
    "        xx16 = px[0:-k]\n",
    "        yy16 =  c2px_norm[0:-k]\n",
    "    v = np.trapz(yy16, xx16)\n",
    "    if v <= 0.16:\n",
    "        break\n",
    "per_16 = xx16[-1]\n",
    "per_16"
   ]
  },
  {
   "cell_type": "code",
   "execution_count": 203,
   "metadata": {},
   "outputs": [],
   "source": [
    "c2px=per_50\n",
    "c2pxerr=per_50-per_16"
   ]
  },
  {
   "cell_type": "code",
   "execution_count": 204,
   "metadata": {},
   "outputs": [],
   "source": [
    "valPTA=[]\n",
    "for zz in dx:\n",
    "    valPTA.append(pOfR(zz, pxPTA, pxPTAerr, 1.771456574 ))"
   ]
  },
  {
   "cell_type": "code",
   "execution_count": 205,
   "metadata": {},
   "outputs": [],
   "source": [
    "combo=[]\n",
    "combo2=[]\n",
    "\n",
    "for xx in dx:\n",
    "    combo.append(pOfR3(xx, c3px, c3pxerr, alpha, beta, L))\n",
    "    \n",
    "for yy in dx:\n",
    "    combo2.append(pOfR(yy, c2px, c2pxerr, 1.771456574))"
   ]
  },
  {
   "cell_type": "code",
   "execution_count": 206,
   "metadata": {},
   "outputs": [],
   "source": [
    "areaBJ = simps(bj_1843,dx)\n",
    "areaDR3= simps(EDR3, dx)\n",
    "areaPTA=simps(valPTA, dx)"
   ]
  },
  {
   "cell_type": "code",
   "execution_count": 207,
   "metadata": {},
   "outputs": [],
   "source": [
    "areac2= simps(combo2, dx)\n",
    "normCombo = simps(combo, dx)\n",
    "truecombo=combo/normCombo\n",
    "truecombo2=combo2/areac2"
   ]
  },
  {
   "cell_type": "code",
   "execution_count": 208,
   "metadata": {},
   "outputs": [],
   "source": [
    "# dispersion measure distance from NE 2001\n",
    "d_DM_NE_1012 = 1696.9392\n",
    "\n",
    "# YMW 16 DM model\n",
    "d_DM_YMW_1012 = 1704.9498"
   ]
  },
  {
   "cell_type": "code",
   "execution_count": 209,
   "metadata": {},
   "outputs": [
    {
     "data": {
      "text/plain": [
       "(1.0, 14000.0)"
      ]
     },
     "execution_count": 209,
     "metadata": {},
     "output_type": "execute_result"
    },
    {
     "data": {
      "image/png": "[encoded data removed]",
      "text/plain": [
       "<Figure size 244.354x151.019 with 1 Axes>"
      ]
     },
     "metadata": {
      "image/png": {
       "height": 144,
       "width": 248
      },
      "needs_background": "light"
     },
     "output_type": "display_data"
    }
   ],
   "source": [
    "fig, ax1 = plt.subplots()\n",
    "plt.plot(dx, np.array(EDR3)/areaDR3, label = \"Gaia DR3\", color = \"C6\", linestyle='dashed')\n",
    "plt.xlim(1,14000)"
   ]
  },
  {
   "cell_type": "code",
   "execution_count": 213,
   "metadata": {},
   "outputs": [
    {
     "name": "stdout",
     "output_type": "stream",
     "text": [
      "16/84:2822.43295 and 8102.75674\n"
     ]
    },
    {
     "data": {
      "text/plain": [
       "5198.6501499999995"
      ]
     },
     "execution_count": 213,
     "metadata": {},
     "output_type": "execute_result"
    }
   ],
   "source": [
    "#calculating percentiles \n",
    "for k in range(0, 100001):\n",
    "    if k == 0:\n",
    "        xx95 = dx\n",
    "        yy95 = truecombo\n",
    "    else:\n",
    "        xx95 = dx[0:-k]\n",
    "        yy95 = truecombo[0:-k]\n",
    "    v = np.trapz(yy95, xx95)\n",
    "    if v <= 0.95:\n",
    "        break\n",
    "per_95 = xx95[-1]\n",
    "int_95= yy95[-1]\n",
    "\n",
    "for k in range(0, 100001):\n",
    "    if k == 0:\n",
    "        xx5 = dx\n",
    "        yy5 = truecombo\n",
    "    else:\n",
    "        xx5 = dx[0:-k]\n",
    "        yy5 = truecombo[0:-k]\n",
    "    v = np.trapz(yy5, xx5)\n",
    "    if v <= 0.05:\n",
    "        break\n",
    "per_5 = xx5[-1]\n",
    "int_5= yy5[-1]\n",
    "\n",
    "for k in range(0, 100001):\n",
    "    if k == 0:\n",
    "        xx16 = dx\n",
    "        yy16 = truecombo\n",
    "    else:\n",
    "        xx16 = dx[0:-k]\n",
    "        yy16 = truecombo[0:-k]\n",
    "    v = np.trapz(yy16, xx16)\n",
    "    if v <= 0.16:\n",
    "        break\n",
    "per_16 = xx16[-1]\n",
    "int_16= yy16[-1]\n",
    "\n",
    "for k in range(0, 100001):\n",
    "    if k == 0:\n",
    "        xx84 = dx\n",
    "        yy84 = truecombo\n",
    "    else:\n",
    "        xx84 = dx[0:-k]\n",
    "        yy84 = truecombo[0:-k]\n",
    "    v = np.trapz(yy84, xx84)\n",
    "    if v <= 0.84:\n",
    "        break\n",
    "per_84 = xx84[-1]\n",
    "int_84= yy84[-1]\n",
    "\n",
    "for k in range(0, 1000001):\n",
    "    if k == 0:\n",
    "        xx50 = dx\n",
    "        yy50 = truecombo\n",
    "    else:\n",
    "        xx50 = dx[0:-k]\n",
    "        yy50 = truecombo[0:-k]\n",
    "    v = np.trapz(yy50, xx50)\n",
    "    if v <= 0.50:\n",
    "        break\n",
    "per_50 = xx50[-1]\n",
    "\n",
    "print (\"16/84:\" + str(per_16) + \" and \"+ str(per_84))\n",
    "per_50\n"
   ]
  },
  {
   "cell_type": "code",
   "execution_count": 225,
   "metadata": {},
   "outputs": [
    {
     "data": {
      "text/plain": [
       "1614.3058899999999"
      ]
     },
     "execution_count": 225,
     "metadata": {},
     "output_type": "execute_result"
    }
   ],
   "source": [
    "per_5"
   ]
  },
  {
   "cell_type": "code",
   "execution_count": 214,
   "metadata": {},
   "outputs": [
    {
     "name": "stdout",
     "output_type": "stream",
     "text": [
      "16/84:1750.14544 and 5940.5030799999995\n"
     ]
    },
    {
     "data": {
      "text/plain": [
       "3167.9463699999997"
      ]
     },
     "execution_count": 214,
     "metadata": {},
     "output_type": "execute_result"
    }
   ],
   "source": [
    "#calculating percentiles \n",
    "for k in range(0, 100001):\n",
    "    if k == 0:\n",
    "        xx95 = dx\n",
    "        yy95 = truecombo2\n",
    "    else:\n",
    "        xx95 = dx[0:-k]\n",
    "        yy95 = truecombo2[0:-k]\n",
    "    v = np.trapz(yy95, xx95)\n",
    "    if v <= 0.95:\n",
    "        break\n",
    "per_95_2 = xx95[-1]\n",
    "int_95_2= yy95[-1]\n",
    "\n",
    "for k in range(0, 100001):\n",
    "    if k == 0:\n",
    "        xx5 = dx\n",
    "        yy5 = truecombo2\n",
    "    else:\n",
    "        xx5 = dx[0:-k]\n",
    "        yy5 = truecombo2[0:-k]\n",
    "    v = np.trapz(yy5, xx5)\n",
    "    if v <= 0.05:\n",
    "        break\n",
    "per_5_2 = xx5[-1]\n",
    "int_5_2= yy5[-1]\n",
    "\n",
    "for k in range(0, 100001):\n",
    "    if k == 0:\n",
    "        xx16 = dx\n",
    "        yy16 = truecombo2\n",
    "    else:\n",
    "        xx16 = dx[0:-k]\n",
    "        yy16 = truecombo2[0:-k]\n",
    "    v = np.trapz(yy16, xx16)\n",
    "    if v <= 0.16:\n",
    "        break\n",
    "per_16_2 = xx16[-1]\n",
    "int_16_2= yy16[-1]\n",
    "\n",
    "for k in range(0, 100001):\n",
    "    if k == 0:\n",
    "        xx84 = dx\n",
    "        yy84 = truecombo2\n",
    "    else:\n",
    "        xx84 = dx[0:-k]\n",
    "        yy84 = truecombo2[0:-k]\n",
    "    v = np.trapz(yy84, xx84)\n",
    "    if v <= 0.84:\n",
    "        break\n",
    "per_84_2 = xx84[-1]\n",
    "int_84_2= yy84[-1]\n",
    "\n",
    "for k in range(0, 1000001):\n",
    "    if k == 0:\n",
    "        xx50 = dx\n",
    "        yy50 = truecombo2\n",
    "    else:\n",
    "        xx50 = dx[0:-k]\n",
    "        yy50 = truecombo2[0:-k]\n",
    "    v = np.trapz(yy50, xx50)\n",
    "    if v <= 0.50:\n",
    "        break\n",
    "per_50_2 = xx50[-1]\n",
    "\n",
    "print (\"16/84:\" + str(per_16_2) + \" and \"+ str(per_84_2))\n",
    "per_50_2\n"
   ]
  },
  {
   "cell_type": "code",
   "execution_count": 215,
   "metadata": {},
   "outputs": [
    {
     "data": {
      "text/plain": [
       "-8512.499210367154"
      ]
     },
     "execution_count": 215,
     "metadata": {},
     "output_type": "execute_result"
    }
   ],
   "source": [
    "1619.2714396328458 - per_95"
   ]
  },
  {
   "cell_type": "code",
   "execution_count": null,
   "metadata": {},
   "outputs": [],
   "source": []
  },
  {
   "cell_type": "code",
   "execution_count": 216,
   "metadata": {},
   "outputs": [
    {
     "data": {
      "text/plain": [
       "array([4601.47609])"
      ]
     },
     "execution_count": 216,
     "metadata": {},
     "output_type": "execute_result"
    }
   ],
   "source": [
    "#finding peak value\n",
    "truecombo.max()\n",
    "peak=np.where(truecombo==truecombo.max())\n",
    "dx[peak]"
   ]
  },
  {
   "cell_type": "code",
   "execution_count": 217,
   "metadata": {},
   "outputs": [
    {
     "data": {
      "text/plain": [
       "array([1896.77416])"
      ]
     },
     "execution_count": 217,
     "metadata": {},
     "output_type": "execute_result"
    }
   ],
   "source": [
    "peak_2=np.where(truecombo2==truecombo2.max())\n",
    "dx[peak_2]"
   ]
  },
  {
   "cell_type": "code",
   "execution_count": 223,
   "metadata": {},
   "outputs": [
    {
     "data": {
      "image/png": "[encoded data removed]",
      "text/plain": [
       "<Figure size 244.354x151.019 with 1 Axes>"
      ]
     },
     "metadata": {
      "image/png": {
       "height": 150,
       "width": 243
      },
      "needs_background": "light"
     },
     "output_type": "display_data"
    }
   ],
   "source": [
    "fig, ax1 = plt.subplots()\n",
    "\n",
    "# DM NE 2001 model\n",
    "ax1.axvspan(d_DM_NE_1012*.8, d_DM_NE_1012*1.2, alpha=0.2, color = \"C0\")#, label = \"NE 2001\")\n",
    "plt.axvline(d_DM_NE_1012, ymin=0, ymax=1, color = \"C0\", alpha=.8)\n",
    "\n",
    "# DM YMW16 model\n",
    "ax1.axvspan(d_DM_YMW_1012 *.8, d_DM_YMW_1012 *1.2, alpha=0.2, color = \"C1\")#, label = \"YMW 16\")\n",
    "plt.axvline(d_DM_YMW_1012 , ymin=0, ymax=1, color = \"C1\", alpha=.8)\n",
    "\n",
    "#Direct distance measurements\n",
    "plt.plot(dx, np.array(bj_1843)/areaBJ, label = \"Gaia DR2\", color = \"C2\", linestyle='dashed')\n",
    "plt.plot(dx, valPTA/areaPTA, label = r\"PTA\", color = \"C3\", linestyle='-.')\n",
    "plt.plot(dx, combo/normCombo, label = \"Combined\", color = \"C4\", linestyle='solid')\n",
    "plt.plot(dx, np.array(EDR3)/areaDR3, label = \"Gaia EDR3\", color = \"C6\", linestyle='dashed')\n",
    "\n",
    "# percentile\n",
    "plt.axvline(dx[peak], ymin=0, ymax=.68, color = \"k\", label = \"Peak\", linestyle=\"-\", alpha =.7)\n",
    "#plt.axvline(per_5, ymin=0, ymax=int_5/.0007, color = \"b\", label = \"5, 95 \\%\", linestyle=\":\")\n",
    "#plt.axvline(per_84, ymin=0, ymax=int_84/.0007, color = \"k\", label= \"84, 16 \\%\", linestyle=\":\")\n",
    "#plt.axvline(per_16, ymin=0, ymax=int_16/.0007, color = \"k\", linestyle=\":\")\n",
    "#plt.axvline(per_95, ymin=0, ymax=int_95/.0007, color = \"b\", linestyle=\":\")\n",
    "\n",
    "\n",
    "plt.yticks([])\n",
    "plt.xlabel(\"Distance (pc)\")\n",
    "plt.tight_layout()\n",
    "plt.legend()\n",
    "plt.savefig(\"combinedPDFs_1843wDM_WNG.pdf\")\n",
    "#plt.xlim(0,8000)"
   ]
  },
  {
   "cell_type": "code",
   "execution_count": 231,
   "metadata": {},
   "outputs": [
    {
     "data": {
      "image/png": "[encoded data removed]",
      "text/plain": [
       "<Figure size 244.354x151.019 with 1 Axes>"
      ]
     },
     "metadata": {
      "image/png": {
       "height": 150,
       "width": 243
      },
      "needs_background": "light"
     },
     "output_type": "display_data"
    }
   ],
   "source": [
    "fig, ax1 = plt.subplots()\n",
    "\n",
    "plt.plot(dx, combo/normCombo, label = \"Combo Gaia EDR3\", color = \"C4\", linestyle='solid')\n",
    "plt.plot(dx, combo2/normCombo2, label = \"Combo Gaia DR2\", color = \"C8\", linestyle='solid')\n",
    "plt.plot(dx, valPTA/areaPTA, label = r\"PTA\", color = \"C3\", linestyle='-.')\n",
    "\n",
    "# percentile\n",
    "plt.axvline(dx[peak], ymin=0, ymax=.67, color = \"k\", label = \"Peak\", linestyle=\"-\", alpha =.7)\n",
    "plt.axvline(per_5, ymin=0, ymax=.31, color = \"b\", label = \"5, 95 \\%\", linestyle=\":\")\n",
    "plt.axvline(per_84, ymin=0, ymax=.36, color = \"k\", label= \"84, 16 \\%\", linestyle=\":\")\n",
    "plt.axvline(per_16, ymin=0, ymax=.53, color = \"k\", linestyle=\":\")\n",
    "plt.axvline(per_95, ymin=0, ymax=.2, color = \"b\", linestyle=\":\")\n",
    "\n",
    "plt.yticks([])\n",
    "plt.xlim(500,13000)\n",
    "plt.xlabel(\"Distance (pc)\")\n",
    "#plt.ylabel(\"Probability\")\n",
    "plt.tight_layout()\n",
    "plt.legend()\n",
    "plt.savefig(\"combo_comp_1843.pdf\")"
   ]
  },
  {
   "cell_type": "code",
   "execution_count": 29,
   "metadata": {},
   "outputs": [],
   "source": [
    "#newx = (1/gx)[50:400]\n",
    "newy = (combo/normCombo)\n",
    "newx = (dx/1000)\n",
    "#newy = (np.array(bj_1)/areaBJ)"
   ]
  },
  {
   "cell_type": "code",
   "execution_count": 30,
   "metadata": {},
   "outputs": [
    {
     "data": {
      "text/plain": [
       "[<matplotlib.lines.Line2D at 0x7fd604dd2d60>]"
      ]
     },
     "execution_count": 30,
     "metadata": {},
     "output_type": "execute_result"
    },
    {
     "data": {
      "image/png": "[encoded data removed]",
      "text/plain": [
       "<Figure size 244.354x151.019 with 1 Axes>"
      ]
     },
     "metadata": {
      "image/png": {
       "height": 144,
       "width": 232
      },
      "needs_background": "light"
     },
     "output_type": "display_data"
    }
   ],
   "source": [
    "plt.plot(newx, newy)"
   ]
  },
  {
   "cell_type": "code",
   "execution_count": 31,
   "metadata": {},
   "outputs": [],
   "source": [
    "\n",
    "# Create a function which returns a Gaussian (normal) distribution.\n",
    "def gauss(x, *p):\n",
    "    a, b, c, d = p\n",
    "    y = a*np.exp(-np.power((x - b), 2.)/(2. * c**2.)) + d\n",
    "    return y"
   ]
  },
  {
   "cell_type": "code",
   "execution_count": null,
   "metadata": {},
   "outputs": [],
   "source": []
  }
 ],
 "metadata": {
  "kernelspec": {
   "display_name": "Python 3 (ipykernel)",
   "language": "python",
   "name": "python3"
  },
  "language_info": {
   "codemirror_mode": {
    "name": "ipython",
    "version": 3
   },
   "file_extension": ".py",
   "mimetype": "text/x-python",
   "name": "python",
   "nbconvert_exporter": "python",
   "pygments_lexer": "ipython3",
   "version": "3.8.8"
  }
 },
 "nbformat": 4,
 "nbformat_minor": 2
}
