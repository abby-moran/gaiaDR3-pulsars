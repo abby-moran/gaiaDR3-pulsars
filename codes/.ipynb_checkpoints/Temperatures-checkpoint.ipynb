{
 "cells": [
  {
   "cell_type": "code",
   "execution_count": 49,
   "id": "691f1f1d",
   "metadata": {},
   "outputs": [],
   "source": [
    "from __future__ import division\n",
    "from IPython.display import display, Math, Latex\n",
    "from math import sin, cos\n",
    "import numpy as np\n",
    "import matplotlib.pyplot as plt\n",
    "from matplotlib.ticker import FormatStrFormatter, LinearLocator, NullFormatter, NullLocator, MultipleLocator\n",
    "import matplotlib.ticker\n",
    "import matplotlib.colors\n",
    "from matplotlib.font_manager import FontProperties\n",
    "from matplotlib import rc, text\n",
    "from scipy.stats import norm\n",
    "import scipy as sp\n",
    "from scipy.integrate import simps\n",
    "from numpy import trapz\n",
    "from scipy.optimize import curve_fit\n",
    "from scipy.special import gamma, factorial\n",
    "from scipy.integrate import quad\n",
    "from scipy import integrate\n",
    "import math\n",
    "\n",
    "%matplotlib inline\n",
    "%config InlineBackend.figure_format = \"retina\""
   ]
  },
  {
   "cell_type": "code",
   "execution_count": 25,
   "id": "948606c8",
   "metadata": {},
   "outputs": [],
   "source": [
    "def topintegrand(flux, transmiss, QE):\n",
    "    return flux*transmiss*QE"
   ]
  },
  {
   "cell_type": "code",
   "execution_count": 26,
   "id": "5fd179a7",
   "metadata": {},
   "outputs": [],
   "source": [
    "def botintegrand(Vflux, transmiss, QE):\n",
    "    return Vflux*transmiss*QE"
   ]
  },
  {
   "cell_type": "code",
   "execution_count": 42,
   "id": "bbad9aac",
   "metadata": {},
   "outputs": [],
   "source": [
    "def integrals(top, bottom, a, b):\n",
    "    topp= lambda x: x*top\n",
    "    bott= lambda x: x*bottom\n",
    "    topint, err=integrate.quad(topp, a, b)\n",
    "    botint, err=integrate.quad(bott, a, b)\n",
    "    ans=topint/botint\n",
    "    return ans"
   ]
  },
  {
   "cell_type": "markdown",
   "id": "03f8c3bd",
   "metadata": {},
   "source": [
    "# G_BP Magnitudes"
   ]
  },
  {
   "cell_type": "code",
   "execution_count": 112,
   "id": "07869c03",
   "metadata": {},
   "outputs": [],
   "source": [
    "V_flux_bp=3.009167E-21 #W*nm^-1*m^-2, mean energy\n",
    "bp_trans=(6.672e-01)\n",
    "QE_bp=.87\n",
    "l_min_bp=405.5\n",
    "l_max_bp=658.5\n",
    "G_Vbp=25.96551"
   ]
  },
  {
   "cell_type": "code",
   "execution_count": 113,
   "id": "503e9e95",
   "metadata": {},
   "outputs": [],
   "source": [
    "#J0437\n",
    "flux = 69.58137783\n",
    "J0437_top=(topintegrand(69.58137783, bp_trans, QE_bp))\n",
    "J0437_bot=botintegrand(V_flux_bp, bp_trans, QE_bp)\n",
    "J0437_ints=integrals(J0437_top, J0437_bot, l_min_bp, l_max_bp)"
   ]
  },
  {
   "cell_type": "code",
   "execution_count": 114,
   "id": "a29559c1",
   "metadata": {},
   "outputs": [
    {
     "data": {
      "text/plain": [
       "3.2414260553886223"
      ]
     },
     "execution_count": 114,
     "metadata": {},
     "output_type": "execute_result"
    }
   ],
   "source": [
    "J0437_bp=-2.5*(math.log(J0437_ints))+G_Vbp\n",
    "J0437_bp"
   ]
  },
  {
   "cell_type": "code",
   "execution_count": 115,
   "id": "58dba01d",
   "metadata": {
    "scrolled": true
   },
   "outputs": [
    {
     "data": {
      "text/plain": [
       "0.8943122127899734"
      ]
     },
     "execution_count": 115,
     "metadata": {},
     "output_type": "execute_result"
    }
   ],
   "source": [
    "#J1012\n",
    "flux = 177.9215119\n",
    "J1012_top=(topintegrand(flux, bp_trans, QE_bp))\n",
    "J1012_bot=botintegrand(V_flux_bp, bp_trans, QE_bp)\n",
    "J1012_ints=integrals(J1012_top, J1012_bot, l_min_bp, l_max_bp)\n",
    "J1012_bp=-2.5*(math.log(J1012_ints))+G_Vbp\n",
    "J1012_bp"
   ]
  },
  {
   "cell_type": "markdown",
   "id": "cd067b10",
   "metadata": {},
   "source": [
    "# G_rp Magnitudes"
   ]
  },
  {
   "cell_type": "code",
   "execution_count": 116,
   "id": "f1c5eba9",
   "metadata": {},
   "outputs": [],
   "source": [
    "V_flux_rp=1.638483E-21\n",
    "rp_trans=(5.485e-01)\n",
    "QE_rp=.61\n",
    "l_min_rp=649\n",
    "l_max_rp=945\n",
    "G_Vrp=27.21639"
   ]
  },
  {
   "cell_type": "code",
   "execution_count": 117,
   "id": "c904f822",
   "metadata": {},
   "outputs": [],
   "source": [
    "#J0437\n",
    "#flux in bp = 117.6922439\n",
    "J0437_top=(topintegrand(117.6922439, rp_trans, QE_rp))\n",
    "J0437_bot=botintegrand(V_flux_rp, rp_trans, QE_rp)\n",
    "J0437_ints=integrals(J0437_top, J0437_bot, l_min_rp, l_max_rp)"
   ]
  },
  {
   "cell_type": "code",
   "execution_count": 118,
   "id": "6fc004f1",
   "metadata": {},
   "outputs": [
    {
     "data": {
      "text/plain": [
       "2.688726317571202"
      ]
     },
     "execution_count": 118,
     "metadata": {},
     "output_type": "execute_result"
    }
   ],
   "source": [
    "J0437_rp=-2.5*(math.log(J0437_ints))+G_Vrp\n",
    "J0437_rp"
   ]
  },
  {
   "cell_type": "code",
   "execution_count": 119,
   "id": "62fd6f5f",
   "metadata": {},
   "outputs": [
    {
     "data": {
      "text/plain": [
       "2.405924686520887"
      ]
     },
     "execution_count": 119,
     "metadata": {},
     "output_type": "execute_result"
    }
   ],
   "source": [
    "#J1012\n",
    "flux = 131.7878941\n",
    "J1012_top=(topintegrand(flux, rp_trans, QE_rp))\n",
    "J1012_bot=botintegrand(V_flux_rp, rp_trans, QE_rp)\n",
    "J1012_ints=integrals(J1012_top, J1012_bot, l_min_rp, l_max_rp)\n",
    "J1012_rp=-2.5*(math.log(J1012_ints))+G_Vrp\n",
    "J1012_rp"
   ]
  },
  {
   "cell_type": "code",
   "execution_count": null,
   "id": "5757c8d7",
   "metadata": {},
   "outputs": [],
   "source": []
  }
 ],
 "metadata": {
  "kernelspec": {
   "display_name": "Python 3",
   "language": "python",
   "name": "python3"
  },
  "language_info": {
   "codemirror_mode": {
    "name": "ipython",
    "version": 3
   },
   "file_extension": ".py",
   "mimetype": "text/x-python",
   "name": "python",
   "nbconvert_exporter": "python",
   "pygments_lexer": "ipython3",
   "version": "3.8.8"
  }
 },
 "nbformat": 4,
 "nbformat_minor": 5
}
