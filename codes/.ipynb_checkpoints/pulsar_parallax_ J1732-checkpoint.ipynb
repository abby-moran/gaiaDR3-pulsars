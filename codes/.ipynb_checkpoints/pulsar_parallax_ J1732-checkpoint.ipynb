{
 "cells": [
  {
   "cell_type": "code",
   "execution_count": 1,
   "metadata": {},
   "outputs": [],
   "source": [
    "from __future__ import division\n",
    "from IPython.display import display, Math, Latex\n",
    "from math import sin, cos\n",
    "import numpy as np\n",
    "import matplotlib.pyplot as plt\n",
    "from matplotlib.ticker import FormatStrFormatter, LinearLocator, NullFormatter, NullLocator, MultipleLocator\n",
    "import matplotlib.ticker\n",
    "import matplotlib.colors\n",
    "from matplotlib.font_manager import FontProperties\n",
    "from matplotlib import rc, text\n",
    "from scipy.stats import norm\n",
    "import scipy as sp\n",
    "from scipy.integrate import simps\n",
    "from numpy import trapz\n",
    "from scipy.optimize import curve_fit\n",
    "from scipy.special import gamma, factorial\n",
    "\n",
    "%matplotlib inline\n",
    "%config InlineBackend.figure_format = \"retina\""
   ]
  },
  {
   "cell_type": "code",
   "execution_count": 2,
   "metadata": {},
   "outputs": [],
   "source": [
    "c=2.99792458*(10**8)\n",
    "G=6.67428*(10**(-11))\n",
    "s_mass=G*(1.98892*10**(30))/(c**3)\n",
    "\n",
    "# common function shortcuts\n",
    "log10 = np.log10\n",
    "pi = np.pi\n",
    "sqrt = np.sqrt"
   ]
  },
  {
   "cell_type": "code",
   "execution_count": 3,
   "metadata": {},
   "outputs": [],
   "source": [
    "wzp = -0.029 # Quasar Correction; defined in Bailor-Jones but computed in Lindegren et al. 2018"
   ]
  },
  {
   "cell_type": "code",
   "execution_count": 4,
   "metadata": {},
   "outputs": [],
   "source": [
    "# Posterior PDF from Bailor-Jones et al. (for DR2)\n",
    "\n",
    "def pOfR(r, px, dpx, Lsph):\n",
    "    \"\"\"\n",
    "    This is Equation 2 in Bailer-Jones et al. 2018.\n",
    "    Here, input r in pc's.\n",
    "    \"\"\"\n",
    "    r = r/1000. #convert pc to kpc\n",
    "   # px = px + 0.029 #Quasar correction\n",
    "    exponent = -r/Lsph - (px-wzp-1/r)**2/(2*dpx**2)\n",
    "    ans = r**2*np.exp(exponent)\n",
    "    return ans"
   ]
  },
  {
   "cell_type": "code",
   "execution_count": 19,
   "metadata": {},
   "outputs": [],
   "source": [
    "# geometric posterior from Bailor-Jones et al. 2021 (for EDR3)\n",
    "def pOfR3(r, px, dpx, alpha, beta, L):\n",
    "    \"\"\"\n",
    "    Bailer-Jones et al. 2020 geometric prior\n",
    "    \"\"\"\n",
    "    #r=r/1000\n",
    "    #distance prior\n",
    "    exponent2= -(r/L)**alpha\n",
    "    prior= (1/(gamma((beta+1)/alpha)))*(alpha/(L**(beta+1)))*((r/1000)**beta)*np.exp(exponent2)\n",
    "    #likelihood (equation 2) \n",
    "    exponent3 = (-1/(2*(dpx**2)))*(px--.017-(1/(r/1000)))**2\n",
    "    P = (1/(dpx*sqrt(2*pi)))*np.exp(exponent3)\n",
    "    ans=P*prior\n",
    "    return ans"
   ]
  },
  {
   "cell_type": "code",
   "execution_count": 21,
   "metadata": {},
   "outputs": [],
   "source": [
    "# plotting preamble\n",
    "\n",
    "fig_width_pt = 245.27 #513.17           # Get this from LaTeX using \\showthe\\columnwidth\n",
    "inches_per_pt = 1.0/72.27               # Convert pt to inches\n",
    "golden_mean = (np.sqrt(5)-1.0)/2.0      # Aesthetic ratio\n",
    "fig_width = fig_width_pt*inches_per_pt  # width in inches\n",
    "fig_height =fig_width*golden_mean       # height in inches\n",
    "fig_size = [fig_width,fig_height]\n",
    "\n",
    "params = {'backend': 'pdf',\n",
    "        'axes.labelsize': 7,\n",
    "        'lines.markersize': 2,\n",
    "        'font.size': 7,\n",
    "        'xtick.major.size':6,\n",
    "        'xtick.minor.size':3,  \n",
    "        'ytick.major.size':6,\n",
    "        'ytick.minor.size':3, \n",
    "        'xtick.major.width':0.5,\n",
    "        'ytick.major.width':0.5,\n",
    "        'xtick.minor.width':0.5,\n",
    "        'ytick.minor.width':0.5,\n",
    "        'lines.markeredgewidth':1,\n",
    "        'axes.linewidth':1.0,\n",
    "        'legend.fontsize': 7,\n",
    "        'xtick.labelsize': 7,\n",
    "        'ytick.labelsize': 7,\n",
    "        'savefig.dpi':200,\n",
    "        'path.simplify':True,\n",
    "        #'font.family': 'serif',\n",
    "        'font.serif':'Times',\n",
    "        'text.latex.preamble': [r'\\usepackage{amsmath}'],\n",
    "        'text.usetex':True,\n",
    "        #'axes.color_cycle': ['b', 'lime', 'r', 'purple', 'g', 'c', 'm', 'orange', 'darkblue', \\\n",
    "        #                        'darkcyan', 'y','orangered','chartreuse','brown','deeppink','lightgreen', 'k'],\n",
    "        #'font.serif':cm,\n",
    "        'figure.figsize': fig_size}\n",
    "plt.rcParams.update(params)"
   ]
  },
  {
   "cell_type": "markdown",
   "metadata": {},
   "source": [
    "# J1732 parallax measurements"
   ]
  },
  {
   "cell_type": "code",
   "execution_count": 22,
   "metadata": {},
   "outputs": [
    {
     "data": {
      "text/plain": [
       "-0.24148055049317171"
      ]
     },
     "execution_count": 22,
     "metadata": {},
     "output_type": "execute_result"
    }
   ],
   "source": [
    "#SNR\n",
    "-0.5351216726306300/2.2160032"
   ]
  },
  {
   "cell_type": "code",
   "execution_count": 23,
   "metadata": {},
   "outputs": [],
   "source": [
    "# D_DM calculated with pygedm\n",
    "# dispersion measure distance from NE 2001\n",
    "d_DM_NE_1732 = 1411.1648\n",
    "\n",
    "# YMW 16 DM model\n",
    "d_DM_YMW_1732 = 1874.6329"
   ]
  },
  {
   "cell_type": "code",
   "execution_count": 47,
   "metadata": {},
   "outputs": [],
   "source": [
    "pxmax = 500\n",
    "pxmin = 2000\n",
    "gx = np.linspace(2, 12000, 100001)# 100000, 100000)"
   ]
  },
  {
   "cell_type": "code",
   "execution_count": 48,
   "metadata": {},
   "outputs": [],
   "source": [
    "#dx=np.linspace(1, 1000, 1001)"
   ]
  },
  {
   "cell_type": "code",
   "execution_count": 49,
   "metadata": {},
   "outputs": [],
   "source": [
    "pxGEDR3 = -.53512\n",
    "pxGEDR3err = 2.216"
   ]
  },
  {
   "cell_type": "code",
   "execution_count": 50,
   "metadata": {},
   "outputs": [],
   "source": [
    "pxGDR2=-1.1837\n",
    "pxGDR2err=2.8444"
   ]
  },
  {
   "cell_type": "code",
   "execution_count": 51,
   "metadata": {},
   "outputs": [],
   "source": [
    "# Corrected Bailer-Jones distance estimate\n",
    "bj_1732 = []\n",
    "for r in gx:\n",
    "    bj_1732.append(pOfR(r,pxGDR2, pxGDR2err,1.94743888544794))\n",
    "#Lsph=1.94743888544794"
   ]
  },
  {
   "cell_type": "code",
   "execution_count": 52,
   "metadata": {},
   "outputs": [],
   "source": [
    "#geometric distance in EDR3\n",
    "alpha =1.64336451693322\n",
    "beta = 0.955454966826623\n",
    "L = 5252.8949228854\n",
    "prior=5813.855"
   ]
  },
  {
   "cell_type": "code",
   "execution_count": 53,
   "metadata": {},
   "outputs": [],
   "source": [
    "# Gaia EDR3 estimate\n",
    "EDR3 = []\n",
    "for xx in gx:\n",
    "    #EDR3.append(prior3(xx, pxGEDR3, pxGEDR3, prior))\n",
    "    EDR3.append(pOfR3(xx, pxGEDR3, pxGEDR3err, alpha, beta, L))"
   ]
  },
  {
   "cell_type": "code",
   "execution_count": 54,
   "metadata": {},
   "outputs": [],
   "source": [
    "areaDR3 = trapz(EDR3, gx)\n",
    "areabj = simps(bj_1732, gx)\n",
    "truecombo= EDR3/areaDR3"
   ]
  },
  {
   "cell_type": "code",
   "execution_count": 55,
   "metadata": {},
   "outputs": [
    {
     "data": {
      "text/plain": [
       "[<matplotlib.lines.Line2D at 0x7f893296e580>]"
      ]
     },
     "execution_count": 55,
     "metadata": {},
     "output_type": "execute_result"
    },
    {
     "data": {
      "image/png": "[encoded data removed]",
      "text/plain": [
       "<Figure size 244.354x151.019 with 1 Axes>"
      ]
     },
     "metadata": {
      "image/png": {
       "height": 144,
       "width": 236
      },
      "needs_background": "light"
     },
     "output_type": "display_data"
    }
   ],
   "source": [
    "plt.plot(gx, truecombo)"
   ]
  },
  {
   "cell_type": "code",
   "execution_count": 61,
   "metadata": {},
   "outputs": [
    {
     "name": "stdout",
     "output_type": "stream",
     "text": [
      "16/84:2433.9946 and 8013.54452\n"
     ]
    },
    {
     "data": {
      "text/plain": [
       "4856.87072"
      ]
     },
     "execution_count": 61,
     "metadata": {},
     "output_type": "execute_result"
    }
   ],
   "source": [
    "#calculating percentiles\n",
    "for k in range(0, 200001):\n",
    "    if k == 0:\n",
    "        xx95 = gx\n",
    "        yy95 = truecombo\n",
    "    else:\n",
    "        xx95 = gx[0:-k]\n",
    "        yy95 = truecombo[0:-k]\n",
    "    v = np.trapz(yy95, xx95)\n",
    "    if v <= 0.95:\n",
    "        break\n",
    "per_95 = xx95[-1]\n",
    "int_95= yy95[-1]\n",
    "\n",
    "for k in range(0, 200001):\n",
    "    if k == 0:\n",
    "        xx5 = gx\n",
    "        yy5 = truecombo\n",
    "    else:\n",
    "        xx5 = gx[0:-k]\n",
    "        yy5 = truecombo[0:-k]\n",
    "    v = np.trapz(yy5, xx5)\n",
    "    if v <= 0.05:\n",
    "        break\n",
    "per_5 = xx5[-1]\n",
    "int_5= yy5[-1]\n",
    "\n",
    "for k in range(0, 200001):\n",
    "    if k == 0:\n",
    "        xx16 = gx\n",
    "        yy16 = truecombo\n",
    "    else:\n",
    "        xx16 = gx[0:-k]\n",
    "        yy16 = truecombo[0:-k]\n",
    "    v = np.trapz(yy16, xx16)\n",
    "    if v <= 0.16:\n",
    "        break\n",
    "per_16 = xx16[-1]\n",
    "int_16= yy16[-1]\n",
    "\n",
    "for k in range(0, 200001):\n",
    "    if k == 0:\n",
    "        xx84 = gx\n",
    "        yy84 = truecombo\n",
    "    else:\n",
    "        xx84 = gx[0:-k]\n",
    "        yy84 = truecombo[0:-k]\n",
    "    v = np.trapz(yy84, xx84)\n",
    "    if v <= 0.84:\n",
    "        break\n",
    "per_84 = xx84[-1]\n",
    "int_84= yy84[-1]\n",
    "\n",
    "for k in range(0, 200001):\n",
    "    if k == 0:\n",
    "        xx50 = gx\n",
    "        yy50 = truecombo\n",
    "    else:\n",
    "        xx50 = gx[0:-k]\n",
    "        yy50 = truecombo[0:-k]\n",
    "    v = np.trapz(yy50, xx50)\n",
    "    if v <= 0.50:\n",
    "        break\n",
    "per_50 = xx50[-1]\n",
    "\n",
    "print (\"16/84:\" + str(per_16) + \" and \"+ str(per_84))\n",
    "per_50\n",
    "    "
   ]
  },
  {
   "cell_type": "code",
   "execution_count": 62,
   "metadata": {},
   "outputs": [
    {
     "data": {
      "text/plain": [
       "array([3873.7546])"
      ]
     },
     "execution_count": 62,
     "metadata": {},
     "output_type": "execute_result"
    }
   ],
   "source": [
    "#finding peak value\n",
    "truecombo.max()\n",
    "peak=np.where(truecombo==truecombo.max())\n",
    "gx[peak]"
   ]
  },
  {
   "cell_type": "code",
   "execution_count": 65,
   "metadata": {},
   "outputs": [
    {
     "data": {
      "text/plain": [
       "1392.32824"
      ]
     },
     "execution_count": 65,
     "metadata": {},
     "output_type": "execute_result"
    }
   ],
   "source": [
    "per_5"
   ]
  },
  {
   "cell_type": "code",
   "execution_count": 73,
   "metadata": {},
   "outputs": [
    {
     "data": {
      "image/png": "[encoded data removed]",
      "text/plain": [
       "<Figure size 244.354x151.019 with 1 Axes>"
      ]
     },
     "metadata": {
      "image/png": {
       "height": 150,
       "width": 243
      },
      "needs_background": "light"
     },
     "output_type": "display_data"
    }
   ],
   "source": [
    "fig, ax1 = plt.subplots()\n",
    "\n",
    "# DM NE 2001 model\n",
    "ax1.axvspan(d_DM_NE_1732*.8, d_DM_NE_1732*1.2, alpha=0.3, color = \"C0\")#, label = \"NE 2001\")\n",
    "plt.axvline(d_DM_NE_1732, ymin=0, ymax=1, color = \"C0\")\n",
    "\n",
    "# DM YMW16 model\n",
    "ax1.axvspan(d_DM_YMW_1732*.8, d_DM_YMW_1732*1.2, alpha=0.35, color = \"C1\")#, label = \"YMW 16\")\n",
    "plt.axvline(d_DM_YMW_1732, ymin=0, ymax=1, color = \"C1\")\n",
    "\n",
    "# GAIA DR2 distance, \n",
    "plt.plot(gx, np.array(bj_1732)/areabj, label = \"Gaia DR2\", color = \"C2\", linestyle='dashed')\n",
    "\n",
    "# Gaia EDR3 distances\n",
    "plt.plot(gx, truecombo, label = \"Gaia EDR3\", color = \"C6\", linestyle='solid')\n",
    "\n",
    "#percentiles\n",
    "plt.axvline(gx[peak], ymin=0, ymax=.94, color = \"k\", label = \"Peak\", linestyle=\"-\", alpha =.7)\n",
    "plt.axvline(per_5, ymin=0, ymax=.53, color = \"b\", label = \"5, 95 \\%\", linestyle=\":\")\n",
    "plt.axvline(per_84, ymin=0, ymax=.51, color = \"k\", label= \"84, 16 \\%\", linestyle=\":\")\n",
    "plt.axvline(per_16, ymin=0, ymax=.83, color = \"k\", linestyle=\":\")\n",
    "plt.axvline(per_95, ymin=0, ymax=.29, color = \"b\", linestyle=\":\")\n",
    "\n",
    "\n",
    "ax1.set_yticklabels([])\n",
    "plt.yticks([])\n",
    "plt.xlabel(\"Distance (pc)\")\n",
    "plt.legend()\n",
    "plt.tight_layout()\n",
    "#plt.xlim(-10,12000)\n",
    "plt.savefig(\"J1732_distances_wbj.pdf\")"
   ]
  },
  {
   "cell_type": "code",
   "execution_count": 25,
   "metadata": {},
   "outputs": [],
   "source": [
    "# log transform\n",
    "new1732 = []\n",
    "for ii in EDR3:\n",
    "    new1732.append(10**(ii))"
   ]
  },
  {
   "cell_type": "code",
   "execution_count": null,
   "metadata": {
    "collapsed": true
   },
   "outputs": [],
   "source": []
  }
 ],
 "metadata": {
  "kernelspec": {
   "display_name": "Python 3 (ipykernel)",
   "language": "python",
   "name": "python3"
  },
  "language_info": {
   "codemirror_mode": {
    "name": "ipython",
    "version": 3
   },
   "file_extension": ".py",
   "mimetype": "text/x-python",
   "name": "python",
   "nbconvert_exporter": "python",
   "pygments_lexer": "ipython3",
   "version": "3.8.8"
  }
 },
 "nbformat": 4,
 "nbformat_minor": 2
}
