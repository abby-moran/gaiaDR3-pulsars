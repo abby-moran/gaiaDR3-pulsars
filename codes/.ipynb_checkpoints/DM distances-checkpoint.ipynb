{
 "cells": [
  {
   "cell_type": "code",
   "execution_count": 1,
   "metadata": {},
   "outputs": [],
   "source": [
    "import pygedm # from https://pygedm.readthedocs.io/en/latest/\n",
    "import astropy.units as u\n",
    "import astropy.coordinates as c"
   ]
  },
  {
   "cell_type": "markdown",
   "metadata": {},
   "source": [
    "# J0437-4715"
   ]
  },
  {
   "cell_type": "code",
   "execution_count": 61,
   "metadata": {},
   "outputs": [],
   "source": [
    "#pulsar statistics from IPTA DR2\n",
    "# DM= 2.6449150712476574778\n",
    "# ra=69.31662758499190\n",
    "# dec=-47.25268764316090"
   ]
  },
  {
   "cell_type": "code",
   "execution_count": 62,
   "metadata": {},
   "outputs": [],
   "source": [
    "DM=u.Quantity(2.6449150712476574778, unit='pc cm^-3')"
   ]
  },
  {
   "cell_type": "code",
   "execution_count": 63,
   "metadata": {},
   "outputs": [],
   "source": [
    "ra, dec = c.Angle(69.31630222, unit='degree'), c.Angle(-47.25255794, unit='degree')\n",
    "sky_coords = c.SkyCoord(ra, dec, frame='icrs')"
   ]
  },
  {
   "cell_type": "code",
   "execution_count": 64,
   "metadata": {},
   "outputs": [
    {
     "data": {
      "text/latex": [
       "$138.89317 \\; \\mathrm{pc}$"
      ],
      "text/plain": [
       "<Quantity 138.89317214 pc>"
      ]
     },
     "execution_count": 64,
     "metadata": {},
     "output_type": "execute_result"
    }
   ],
   "source": [
    "#DM dist using ne2001 model\n",
    "dist_ne, tau_sc = pygedm.dm_to_dist(sky_coords.galactic.l, sky_coords.galactic.b, DM, method='ne2001')\n",
    "dist_ne"
   ]
  },
  {
   "cell_type": "code",
   "execution_count": 65,
   "metadata": {},
   "outputs": [
    {
     "data": {
      "text/latex": [
       "$156.10378 \\; \\mathrm{pc}$"
      ],
      "text/plain": [
       "<Quantity 156.10377502 pc>"
      ]
     },
     "execution_count": 65,
     "metadata": {},
     "output_type": "execute_result"
    }
   ],
   "source": [
    "#DM dist using ymw16 model\n",
    "dist_ymw, tau_sc = pygedm.dm_to_dist(sky_coords.galactic.l, sky_coords.galactic.b, DM, method='ymw16')\n",
    "dist_ymw"
   ]
  },
  {
   "cell_type": "markdown",
   "metadata": {},
   "source": [
    "# J1012+5703"
   ]
  },
  {
   "cell_type": "code",
   "execution_count": 18,
   "metadata": {},
   "outputs": [],
   "source": [
    "# DM= 9.021748236828957615\n",
    "# ra= 153.13932305\n",
    "# dec= 53.11730562"
   ]
  },
  {
   "cell_type": "code",
   "execution_count": 66,
   "metadata": {},
   "outputs": [],
   "source": [
    "DM=u.Quantity(9.021748236828957615, unit='pc cm^-3')\n",
    "ra, dec = c.Angle(153.13932305, unit='degree'), c.Angle(53.11730562, unit='degree')"
   ]
  },
  {
   "cell_type": "code",
   "execution_count": 67,
   "metadata": {},
   "outputs": [
    {
     "data": {
      "text/latex": [
       "$411.38864 \\; \\mathrm{pc}$"
      ],
      "text/plain": [
       "<Quantity 411.38863564 pc>"
      ]
     },
     "execution_count": 67,
     "metadata": {},
     "output_type": "execute_result"
    }
   ],
   "source": [
    "sky_coords = c.SkyCoord(ra, dec, frame='icrs')\n",
    "#DM dist using ne2001 model\n",
    "dist_ne, tau_sc = pygedm.dm_to_dist(sky_coords.galactic.l, sky_coords.galactic.b, DM, method='ne2001')\n",
    "dist_ne"
   ]
  },
  {
   "cell_type": "code",
   "execution_count": 68,
   "metadata": {},
   "outputs": [
    {
     "data": {
      "text/latex": [
       "$804.69373 \\; \\mathrm{pc}$"
      ],
      "text/plain": [
       "<Quantity 804.69372559 pc>"
      ]
     },
     "execution_count": 68,
     "metadata": {},
     "output_type": "execute_result"
    }
   ],
   "source": [
    "#DM dist using ymw16 model\n",
    "dist_ymw, tau_sc = pygedm.dm_to_dist(sky_coords.galactic.l, sky_coords.galactic.b, DM, method='ymw16')\n",
    "dist_ymw"
   ]
  },
  {
   "cell_type": "markdown",
   "metadata": {},
   "source": [
    "# J1024-0719"
   ]
  },
  {
   "cell_type": "code",
   "execution_count": 69,
   "metadata": {},
   "outputs": [],
   "source": [
    "# DM= 6.3912841565626996865\n",
    "# ra= 156.16114748\n",
    "# dec= -7.32206499"
   ]
  },
  {
   "cell_type": "code",
   "execution_count": 70,
   "metadata": {},
   "outputs": [],
   "source": [
    "DM=u.Quantity(6.3912841565626996865, unit='pc cm^-3')\n",
    "ra, dec = c.Angle(156.16114748, unit='degree'), c.Angle(-7.32206499, unit='degree')"
   ]
  },
  {
   "cell_type": "code",
   "execution_count": 71,
   "metadata": {},
   "outputs": [
    {
     "data": {
      "text/latex": [
       "$382.85869 \\; \\mathrm{pc}$"
      ],
      "text/plain": [
       "<Quantity 382.8586936 pc>"
      ]
     },
     "execution_count": 71,
     "metadata": {},
     "output_type": "execute_result"
    }
   ],
   "source": [
    "sky_coords = c.SkyCoord(ra, dec, frame='icrs')\n",
    "#DM dist using ne2001 model\n",
    "dist_ne, tau_sc = pygedm.dm_to_dist(sky_coords.galactic.l, sky_coords.galactic.b, DM, method='ne2001')\n",
    "dist_ne"
   ]
  },
  {
   "cell_type": "code",
   "execution_count": 72,
   "metadata": {},
   "outputs": [
    {
     "data": {
      "text/latex": [
       "$376.15793 \\; \\mathrm{pc}$"
      ],
      "text/plain": [
       "<Quantity 376.15792847 pc>"
      ]
     },
     "execution_count": 72,
     "metadata": {},
     "output_type": "execute_result"
    }
   ],
   "source": [
    "#DM dist using ymw16 model\n",
    "dist_ymw, tau_sc = pygedm.dm_to_dist(sky_coords.galactic.l, sky_coords.galactic.b, DM, method='ymw16')\n",
    "dist_ymw"
   ]
  },
  {
   "cell_type": "markdown",
   "metadata": {},
   "source": [
    "# J1732-5049"
   ]
  },
  {
   "cell_type": "code",
   "execution_count": 91,
   "metadata": {},
   "outputs": [],
   "source": [
    "##NOT IN IPTA DR2, DATA IS FROM DR1\n",
    "\n",
    "#DM= 56.836159510131981511\n",
    "#dec= -50.81672366\n",
    "#ra = 263.19902784"
   ]
  },
  {
   "cell_type": "code",
   "execution_count": 92,
   "metadata": {},
   "outputs": [],
   "source": [
    "DM=u.Quantity(56.836159510131981511, unit='pc cm^-3')\n",
    "ra, dec = c.Angle(263.19902784, unit='degree'), c.Angle(-50.81672366, unit='degree')"
   ]
  },
  {
   "cell_type": "code",
   "execution_count": 93,
   "metadata": {},
   "outputs": [
    {
     "data": {
      "text/latex": [
       "$1411.1648 \\; \\mathrm{pc}$"
      ],
      "text/plain": [
       "<Quantity 1411.16476059 pc>"
      ]
     },
     "execution_count": 93,
     "metadata": {},
     "output_type": "execute_result"
    }
   ],
   "source": [
    "sky_coords = c.SkyCoord(ra, dec, frame='icrs')\n",
    "#DM dist using ne2001 model\n",
    "dist_ne, tau_sc = pygedm.dm_to_dist(sky_coords.galactic.l, sky_coords.galactic.b, DM, method='ne2001')\n",
    "dist_ne"
   ]
  },
  {
   "cell_type": "code",
   "execution_count": 94,
   "metadata": {},
   "outputs": [
    {
     "data": {
      "text/latex": [
       "$1874.6329 \\; \\mathrm{pc}$"
      ],
      "text/plain": [
       "<Quantity 1874.63293457 pc>"
      ]
     },
     "execution_count": 94,
     "metadata": {},
     "output_type": "execute_result"
    }
   ],
   "source": [
    "#DM dist using ymw16\n",
    "dist_ymw, tau_sc = pygedm.dm_to_dist(sky_coords.galactic.l, sky_coords.galactic.b, DM, method='ymw16')\n",
    "dist_ymw"
   ]
  },
  {
   "cell_type": "markdown",
   "metadata": {},
   "source": [
    "# J1843-1113"
   ]
  },
  {
   "cell_type": "code",
   "execution_count": 37,
   "metadata": {},
   "outputs": [],
   "source": [
    "# DM= 59.94348153613666217\n",
    "# ra= 280.92192472\n",
    "# dec= -11.22529688"
   ]
  },
  {
   "cell_type": "code",
   "execution_count": 73,
   "metadata": {},
   "outputs": [],
   "source": [
    "DM=u.Quantity(59.94348153613666217, unit='pc cm^-3')\n",
    "ra, dec = c.Angle(280.92192472, unit='degree'), c.Angle(-11.22529688, unit='degree')"
   ]
  },
  {
   "cell_type": "code",
   "execution_count": 74,
   "metadata": {},
   "outputs": [
    {
     "data": {
      "text/latex": [
       "$1696.9392 \\; \\mathrm{pc}$"
      ],
      "text/plain": [
       "<Quantity 1696.93922997 pc>"
      ]
     },
     "execution_count": 74,
     "metadata": {},
     "output_type": "execute_result"
    }
   ],
   "source": [
    "sky_coords = c.SkyCoord(ra, dec, frame='icrs')\n",
    "#DM dist using ne2001 model\n",
    "dist_ne, tau_sc = pygedm.dm_to_dist(sky_coords.galactic.l, sky_coords.galactic.b, DM, method='ne2001')\n",
    "dist_ne"
   ]
  },
  {
   "cell_type": "code",
   "execution_count": 75,
   "metadata": {},
   "outputs": [
    {
     "data": {
      "text/latex": [
       "$1704.9498 \\; \\mathrm{pc}$"
      ],
      "text/plain": [
       "<Quantity 1704.9498291 pc>"
      ]
     },
     "execution_count": 75,
     "metadata": {},
     "output_type": "execute_result"
    }
   ],
   "source": [
    "#DM dist using ymw16 model\n",
    "dist_ymw, tau_sc = pygedm.dm_to_dist(sky_coords.galactic.l, sky_coords.galactic.b, DM, method='ymw16')\n",
    "dist_ymw"
   ]
  },
  {
   "cell_type": "markdown",
   "metadata": {},
   "source": [
    "# J1910+1256"
   ]
  },
  {
   "cell_type": "code",
   "execution_count": 84,
   "metadata": {},
   "outputs": [],
   "source": [
    "# DM= 38.066814950951686547\n",
    "# ra= 287.54042278\n",
    "# dec= 12.94041299"
   ]
  },
  {
   "cell_type": "code",
   "execution_count": 85,
   "metadata": {},
   "outputs": [],
   "source": [
    "DM=u.Quantity(38.066814950951686547, unit='pc cm^-3')\n",
    "ra, dec = c.Angle(287.54042278, unit='degree'), c.Angle(12.94041299, unit='degree')"
   ]
  },
  {
   "cell_type": "code",
   "execution_count": 86,
   "metadata": {},
   "outputs": [
    {
     "data": {
      "text/latex": [
       "$2327.0068 \\; \\mathrm{pc}$"
      ],
      "text/plain": [
       "<Quantity 2327.00681686 pc>"
      ]
     },
     "execution_count": 86,
     "metadata": {},
     "output_type": "execute_result"
    }
   ],
   "source": [
    "#DM dist using ne2001 model\n",
    "sky_coords = c.SkyCoord(ra, dec, frame='icrs')\n",
    "dist_ne, tau_sc = pygedm.dm_to_dist(sky_coords.galactic.l, sky_coords.galactic.b, DM, method='ne2001')\n",
    "dist_ne"
   ]
  },
  {
   "cell_type": "code",
   "execution_count": 79,
   "metadata": {},
   "outputs": [
    {
     "data": {
      "text/latex": [
       "$1496.0922 \\; \\mathrm{pc}$"
      ],
      "text/plain": [
       "<Quantity 1496.09216309 pc>"
      ]
     },
     "execution_count": 79,
     "metadata": {},
     "output_type": "execute_result"
    }
   ],
   "source": [
    "#DM dist using ymw16 model\n",
    "dist_ymw, tau_sc = pygedm.dm_to_dist(sky_coords.galactic.l, sky_coords.galactic.b, DM, method='ymw16')\n",
    "dist_ymw"
   ]
  },
  {
   "cell_type": "markdown",
   "metadata": {},
   "source": [
    "# J1744-1134"
   ]
  },
  {
   "cell_type": "code",
   "execution_count": 80,
   "metadata": {},
   "outputs": [],
   "source": [
    "# DM= 3.139368678259027728\n",
    "# ra= 266.12253148\n",
    "# dec= -11.581358835789400"
   ]
  },
  {
   "cell_type": "code",
   "execution_count": 81,
   "metadata": {},
   "outputs": [],
   "source": [
    "DM=u.Quantity(3.139368678259027728, unit='pc cm^-3')\n",
    "ra, dec = c.Angle(266.12253148, unit='degree'), c.Angle(-11.58185944, unit='degree')"
   ]
  },
  {
   "cell_type": "code",
   "execution_count": 82,
   "metadata": {},
   "outputs": [
    {
     "data": {
      "text/latex": [
       "$414.61518 \\; \\mathrm{pc}$"
      ],
      "text/plain": [
       "<Quantity 414.61518407 pc>"
      ]
     },
     "execution_count": 82,
     "metadata": {},
     "output_type": "execute_result"
    }
   ],
   "source": [
    "sky_coords = c.SkyCoord(ra, dec, frame='icrs')\n",
    "#DM dist using ne2001 model\n",
    "dist_ne, tau_sc = pygedm.dm_to_dist(sky_coords.galactic.l, sky_coords.galactic.b, DM, method='ne2001')\n",
    "dist_ne"
   ]
  },
  {
   "cell_type": "code",
   "execution_count": 83,
   "metadata": {},
   "outputs": [
    {
     "data": {
      "text/latex": [
       "$148.09633 \\; \\mathrm{pc}$"
      ],
      "text/plain": [
       "<Quantity 148.09632874 pc>"
      ]
     },
     "execution_count": 83,
     "metadata": {},
     "output_type": "execute_result"
    }
   ],
   "source": [
    "#DM dist using ymw16 model\n",
    "dist_ymw, tau_sc = pygedm.dm_to_dist(sky_coords.galactic.l, sky_coords.galactic.b, DM, method='ymw16')\n",
    "dist_ymw"
   ]
  },
  {
   "cell_type": "markdown",
   "metadata": {},
   "source": [
    "# J1747-4036"
   ]
  },
  {
   "cell_type": "code",
   "execution_count": 87,
   "metadata": {},
   "outputs": [],
   "source": [
    "# DM= 152.96549466849218583\n",
    "# ra= 266.95292327\n",
    "# dec= -40.61505598"
   ]
  },
  {
   "cell_type": "code",
   "execution_count": 88,
   "metadata": {},
   "outputs": [],
   "source": [
    "DM=u.Quantity(152.96549466849218583, unit='pc cm^-3')\n",
    "ra, dec = c.Angle(266.95292327, unit='degree'), c.Angle(-40.61505598, unit='degree')"
   ]
  },
  {
   "cell_type": "code",
   "execution_count": 89,
   "metadata": {},
   "outputs": [
    {
     "data": {
      "text/latex": [
       "$3391.485 \\; \\mathrm{pc}$"
      ],
      "text/plain": [
       "<Quantity 3391.48497581 pc>"
      ]
     },
     "execution_count": 89,
     "metadata": {},
     "output_type": "execute_result"
    }
   ],
   "source": [
    "sky_coords = c.SkyCoord(ra, dec, frame='icrs')\n",
    "#DM dist using ne2001 model\n",
    "dist_ne, tau_sc = pygedm.dm_to_dist(sky_coords.galactic.l, sky_coords.galactic.b, DM, method='ne2001')\n",
    "dist_ne"
   ]
  },
  {
   "cell_type": "code",
   "execution_count": 90,
   "metadata": {},
   "outputs": [
    {
     "data": {
      "text/latex": [
       "$7151.7505 \\; \\mathrm{pc}$"
      ],
      "text/plain": [
       "<Quantity 7151.75048828 pc>"
      ]
     },
     "execution_count": 90,
     "metadata": {},
     "output_type": "execute_result"
    }
   ],
   "source": [
    "#DM dist using ymw16 model\n",
    "dist_ymw, tau_sc = pygedm.dm_to_dist(sky_coords.galactic.l, sky_coords.galactic.b, DM, method='ymw16')\n",
    "dist_ymw"
   ]
  },
  {
   "cell_type": "code",
   "execution_count": null,
   "metadata": {},
   "outputs": [],
   "source": []
  },
  {
   "cell_type": "code",
   "execution_count": null,
   "metadata": {},
   "outputs": [],
   "source": []
  }
 ],
 "metadata": {
  "kernelspec": {
   "display_name": "Python 3",
   "language": "python",
   "name": "python3"
  },
  "language_info": {
   "codemirror_mode": {
    "name": "ipython",
    "version": 3
   },
   "file_extension": ".py",
   "mimetype": "text/x-python",
   "name": "python",
   "nbconvert_exporter": "python",
   "pygments_lexer": "ipython3",
   "version": "3.8.8"
  }
 },
 "nbformat": 4,
 "nbformat_minor": 4
}
