{
 "cells": [
  {
   "cell_type": "code",
   "execution_count": 1,
   "id": "805b1a7c",
   "metadata": {},
   "outputs": [],
   "source": [
    "import numpy as np\n",
    "import matplotlib.pyplot as plt\n",
    "from matplotlib.ticker import FormatStrFormatter, LinearLocator, NullFormatter, NullLocator, MultipleLocator\n",
    "import matplotlib.ticker\n",
    "import matplotlib.colors\n",
    "from matplotlib.font_manager import FontProperties\n",
    "from matplotlib import rc, text\n",
    "import astropy.coordinates as coord\n",
    "import astropy.units as u\n",
    "import scipy.stats\n",
    "from astroquery.gaia import Gaia\n",
    "from astropy.table import Table, unique, Column, hstack, vstack\n",
    "import io\n",
    "import pandas\n",
    "\n",
    "%matplotlib inline\n",
    "%config InlineBackend.figure_format = \"retina\""
   ]
  },
  {
   "cell_type": "code",
   "execution_count": 2,
   "id": "2bba38fc",
   "metadata": {},
   "outputs": [],
   "source": [
    "#use synthetic catalouge from https://ui.adsabs.harvard.edu/abs/2010A%26A...523A..48J/abstract (Jordi et al 2010)\n",
    "temps = np.genfromtxt('Temps table.csv', delimiter=',', names=True, dtype=None, encoding=None)"
   ]
  },
  {
   "cell_type": "code",
   "execution_count": 3,
   "id": "1467f0ef",
   "metadata": {},
   "outputs": [],
   "source": [
    "temps = Table(temps)\n",
    "temps.sort(['Full'])"
   ]
  },
  {
   "cell_type": "code",
   "execution_count": 124,
   "id": "ba45cd8b",
   "metadata": {},
   "outputs": [
    {
     "data": {
      "text/html": [
       "<i>Table length=353</i>\n",
       "<table id=\"table140231957949072\" class=\"table-striped table-bordered table-condensed\">\n",
       "<thead><tr><th>Full</th><th>set</th><th>Teff</th><th>logg</th><th>MH</th><th>A550</th><th>GGbp</th><th>GGrp</th><th>GbpGrp</th><th>GV</th><th>VIc</th><th>VRc</th><th>BV</th><th>GbpV</th><th>GbpIc</th><th>GrpV</th><th>GrpIc</th><th>GHp</th><th>GBT</th><th>GVT</th><th>BTVT</th><th>gr</th><th>ri</th><th>Gg</th><th>Gr</th><th>Gi</th><th>Gz</th></tr></thead>\n",
       "<thead><tr><th>int64</th><th>str3</th><th>str5</th><th>str7</th><th>str5</th><th>str3</th><th>str6</th><th>str6</th><th>str6</th><th>str6</th><th>str6</th><th>str6</th><th>str6</th><th>str6</th><th>str6</th><th>str6</th><th>str6</th><th>str6</th><th>str6</th><th>str6</th><th>str6</th><th>str6</th><th>str6</th><th>str6</th><th>str6</th><th>str6</th><th>str6</th></tr></thead>\n",
       "<tr><td>-1</td><td></td><td>K</td><td>[cm/s2]</td><td>[Sun]</td><td>mag</td><td>mag</td><td>mag</td><td>mag</td><td>mag</td><td>mag</td><td>mag</td><td>mag</td><td>mag</td><td>mag</td><td>mag</td><td>mag</td><td>mag</td><td>mag</td><td>mag</td><td>mag</td><td>mag</td><td>mag</td><td>mag</td><td>mag</td><td>mag</td><td>mag</td></tr>\n",
       "<tr><td>1</td><td>set</td><td>2000</td><td>3.5</td><td>-2</td><td>0</td><td>-4.611</td><td>1.542</td><td>6.153</td><td>-4.702</td><td>6.517</td><td>3.867</td><td>3.332</td><td>-0.091</td><td>6.426</td><td>-6.244</td><td>0.273</td><td>-3.06</td><td>-9.125</td><td>-5.112</td><td>4.013</td><td>3.288</td><td>4.352</td><td>-6.804</td><td>-3.516</td><td>0.836</td><td>1.917</td></tr>\n",
       "<tr><td>2</td><td>set</td><td>2000</td><td>4</td><td>-2</td><td>0</td><td>-4.051</td><td>1.509</td><td>5.56</td><td>-4.131</td><td>5.996</td><td>3.416</td><td>3.531</td><td>-0.08</td><td>5.916</td><td>-5.64</td><td>0.356</td><td>-2.912</td><td>-8.838</td><td>-4.558</td><td>4.28</td><td>3.434</td><td>3.819</td><td>-6.36</td><td>-2.926</td><td>0.893</td><td>1.81</td></tr>\n",
       "<tr><td>3</td><td>set</td><td>2000</td><td>4.5</td><td>-2</td><td>0</td><td>-3.499</td><td>1.476</td><td>4.975</td><td>-3.572</td><td>5.467</td><td>2.974</td><td>3.703</td><td>-0.073</td><td>5.394</td><td>-5.048</td><td>0.419</td><td>-2.754</td><td>-8.508</td><td>-4.013</td><td>4.495</td><td>3.565</td><td>3.269</td><td>-5.913</td><td>-2.348</td><td>0.921</td><td>1.712</td></tr>\n",
       "<tr><td>4</td><td>set</td><td>2000</td><td>5</td><td>-2</td><td>0</td><td>-3.029</td><td>1.442</td><td>4.471</td><td>-3.094</td><td>4.999</td><td>2.615</td><td>3.834</td><td>-0.065</td><td>4.934</td><td>-4.536</td><td>0.463</td><td>-2.591</td><td>-8.182</td><td>-3.544</td><td>4.638</td><td>3.667</td><td>2.793</td><td>-5.526</td><td>-1.859</td><td>0.934</td><td>1.614</td></tr>\n",
       "<tr><td>5</td><td>set</td><td>2000</td><td>5.5</td><td>-2</td><td>0</td><td>-2.658</td><td>1.402</td><td>4.06</td><td>-2.71</td><td>4.618</td><td>2.359</td><td>3.951</td><td>-0.052</td><td>4.566</td><td>-4.112</td><td>0.506</td><td>-2.425</td><td>-7.901</td><td>-3.169</td><td>4.732</td><td>3.761</td><td>2.432</td><td>-5.232</td><td>-1.471</td><td>0.961</td><td>1.484</td></tr>\n",
       "<tr><td>6</td><td>set</td><td>2200</td><td>3.5</td><td>-2</td><td>0</td><td>-3.47</td><td>1.496</td><td>4.966</td><td>-3.435</td><td>5.26</td><td>2.792</td><td>3.278</td><td>0.035</td><td>5.295</td><td>-4.931</td><td>0.329</td><td>-2.771</td><td>-7.777</td><td>-3.845</td><td>3.932</td><td>3.096</td><td>3.241</td><td>-5.477</td><td>-2.381</td><td>0.86</td><td>1.821</td></tr>\n",
       "<tr><td>7</td><td>set</td><td>2200</td><td>4</td><td>-2</td><td>0</td><td>-3.135</td><td>1.466</td><td>4.601</td><td>-3.09</td><td>4.939</td><td>2.548</td><td>3.407</td><td>0.045</td><td>4.984</td><td>-4.556</td><td>0.383</td><td>-2.638</td><td>-7.607</td><td>-3.513</td><td>4.094</td><td>3.191</td><td>2.929</td><td>-5.221</td><td>-2.03</td><td>0.899</td><td>1.724</td></tr>\n",
       "<tr><td>8</td><td>set</td><td>2200</td><td>4.5</td><td>-2</td><td>0</td><td>-2.751</td><td>1.43</td><td>4.181</td><td>-2.696</td><td>4.554</td><td>2.268</td><td>3.539</td><td>0.055</td><td>4.609</td><td>-4.126</td><td>0.428</td><td>-2.476</td><td>-7.393</td><td>-3.13</td><td>4.263</td><td>3.286</td><td>2.546</td><td>-4.916</td><td>-1.63</td><td>0.916</td><td>1.621</td></tr>\n",
       "<tr><td>9</td><td>set</td><td>2200</td><td>5</td><td>-2</td><td>0</td><td>-2.409</td><td>1.391</td><td>3.8</td><td>-2.339</td><td>4.189</td><td>2.028</td><td>3.644</td><td>0.07</td><td>4.259</td><td>-3.73</td><td>0.459</td><td>-2.312</td><td>-7.164</td><td>-2.783</td><td>4.381</td><td>3.366</td><td>2.19</td><td>-4.639</td><td>-1.273</td><td>0.917</td><td>1.517</td></tr>\n",
       "<tr><td>...</td><td>...</td><td>...</td><td>...</td><td>...</td><td>...</td><td>...</td><td>...</td><td>...</td><td>...</td><td>...</td><td>...</td><td>...</td><td>...</td><td>...</td><td>...</td><td>...</td><td>...</td><td>...</td><td>...</td><td>...</td><td>...</td><td>...</td><td>...</td><td>...</td><td>...</td><td>...</td></tr>\n",
       "<tr><td>343</td><td>set</td><td>16000</td><td>4.5</td><td>-2</td><td>0</td><td>0.121</td><td>-0.171</td><td>-0.292</td><td>-0.055</td><td>-0.125</td><td>-0.062</td><td>-0.306</td><td>-0.176</td><td>-0.301</td><td>0.116</td><td>-0.009</td><td>0.143</td><td>0.347</td><td>-0.028</td><td>-0.375</td><td>-0.458</td><td>-0.281</td><td>0.244</td><td>-0.214</td><td>-0.495</td><td>-0.752</td></tr>\n",
       "<tr><td>344</td><td>set</td><td>16000</td><td>5</td><td>-2</td><td>0</td><td>0.119</td><td>-0.17</td><td>-0.289</td><td>-0.05</td><td>-0.128</td><td>-0.063</td><td>-0.29</td><td>-0.169</td><td>-0.297</td><td>0.12</td><td>-0.008</td><td>0.137</td><td>0.33</td><td>-0.026</td><td>-0.356</td><td>-0.453</td><td>-0.281</td><td>0.242</td><td>-0.211</td><td>-0.492</td><td>-0.756</td></tr>\n",
       "<tr><td>345</td><td>set</td><td>17000</td><td>2.5</td><td>-2</td><td>0</td><td>0.135</td><td>-0.172</td><td>-0.307</td><td>-0.069</td><td>-0.112</td><td>-0.053</td><td>-0.332</td><td>-0.204</td><td>-0.316</td><td>0.103</td><td>-0.009</td><td>0.156</td><td>0.387</td><td>-0.038</td><td>-0.425</td><td>-0.456</td><td>-0.281</td><td>0.237</td><td>-0.219</td><td>-0.5</td><td>-0.749</td></tr>\n",
       "<tr><td>346</td><td>set</td><td>17000</td><td>3</td><td>-2</td><td>0</td><td>0.135</td><td>-0.181</td><td>-0.316</td><td>-0.067</td><td>-0.125</td><td>-0.06</td><td>-0.34</td><td>-0.202</td><td>-0.327</td><td>0.114</td><td>-0.011</td><td>0.159</td><td>0.391</td><td>-0.034</td><td>-0.425</td><td>-0.47</td><td>-0.286</td><td>0.247</td><td>-0.223</td><td>-0.509</td><td>-0.759</td></tr>\n",
       "<tr><td>347</td><td>set</td><td>17000</td><td>3.5</td><td>-2</td><td>0</td><td>0.134</td><td>-0.185</td><td>-0.319</td><td>-0.064</td><td>-0.132</td><td>-0.064</td><td>-0.338</td><td>-0.198</td><td>-0.33</td><td>0.121</td><td>-0.011</td><td>0.158</td><td>0.387</td><td>-0.032</td><td>-0.419</td><td>-0.475</td><td>-0.288</td><td>0.251</td><td>-0.224</td><td>-0.512</td><td>-0.766</td></tr>\n",
       "<tr><td>348</td><td>set</td><td>17000</td><td>4</td><td>-2</td><td>0</td><td>0.132</td><td>-0.186</td><td>-0.318</td><td>-0.061</td><td>-0.136</td><td>-0.066</td><td>-0.331</td><td>-0.193</td><td>-0.329</td><td>0.125</td><td>-0.011</td><td>0.155</td><td>0.377</td><td>-0.03</td><td>-0.407</td><td>-0.473</td><td>-0.289</td><td>0.251</td><td>-0.222</td><td>-0.511</td><td>-0.771</td></tr>\n",
       "<tr><td>349</td><td>set</td><td>17000</td><td>4.5</td><td>-2</td><td>0</td><td>0.13</td><td>-0.186</td><td>-0.316</td><td>-0.057</td><td>-0.139</td><td>-0.068</td><td>-0.319</td><td>-0.187</td><td>-0.326</td><td>0.129</td><td>-0.01</td><td>0.151</td><td>0.364</td><td>-0.028</td><td>-0.392</td><td>-0.471</td><td>-0.289</td><td>0.251</td><td>-0.22</td><td>-0.509</td><td>-0.775</td></tr>\n",
       "<tr><td>350</td><td>set</td><td>17000</td><td>5</td><td>-2</td><td>0</td><td>0.128</td><td>-0.185</td><td>-0.313</td><td>-0.052</td><td>-0.142</td><td>-0.069</td><td>-0.304</td><td>-0.18</td><td>-0.322</td><td>0.133</td><td>-0.009</td><td>0.146</td><td>0.348</td><td>-0.025</td><td>-0.373</td><td>-0.466</td><td>-0.288</td><td>0.249</td><td>-0.217</td><td>-0.505</td><td>-0.779</td></tr>\n",
       "<tr><td>351</td><td>set</td><td>18000</td><td>2.5</td><td>-2</td><td>0</td><td>0.143</td><td>-0.184</td><td>-0.327</td><td>-0.07</td><td>-0.124</td><td>-0.058</td><td>-0.339</td><td>-0.213</td><td>-0.337</td><td>0.114</td><td>-0.01</td><td>0.162</td><td>0.397</td><td>-0.037</td><td>-0.434</td><td>-0.464</td><td>-0.288</td><td>0.241</td><td>-0.223</td><td>-0.511</td><td>-0.768</td></tr>\n",
       "<tr><td>352</td><td>set</td><td>18000</td><td>3</td><td>-2</td><td>0</td><td>0.143</td><td>-0.194</td><td>-0.337</td><td>-0.068</td><td>-0.138</td><td>-0.066</td><td>-0.349</td><td>-0.211</td><td>-0.349</td><td>0.126</td><td>-0.012</td><td>0.166</td><td>0.403</td><td>-0.034</td><td>-0.437</td><td>-0.48</td><td>-0.293</td><td>0.252</td><td>-0.228</td><td>-0.521</td><td>-0.779</td></tr>\n",
       "</table>"
      ],
      "text/plain": [
       "<Table length=353>\n",
       " Full set   Teff   logg    MH  A550 ...   ri     Gg     Gr     Gi     Gz  \n",
       "int64 str3  str5   str7   str5 str3 ...  str6   str6   str6   str6   str6 \n",
       "----- ---- ----- ------- ----- ---- ... ------ ------ ------ ------ ------\n",
       "   -1          K [cm/s2] [Sun]  mag ...    mag    mag    mag    mag    mag\n",
       "    1  set  2000     3.5    -2    0 ...  4.352 -6.804 -3.516  0.836  1.917\n",
       "    2  set  2000       4    -2    0 ...  3.819  -6.36 -2.926  0.893   1.81\n",
       "    3  set  2000     4.5    -2    0 ...  3.269 -5.913 -2.348  0.921  1.712\n",
       "    4  set  2000       5    -2    0 ...  2.793 -5.526 -1.859  0.934  1.614\n",
       "    5  set  2000     5.5    -2    0 ...  2.432 -5.232 -1.471  0.961  1.484\n",
       "    6  set  2200     3.5    -2    0 ...  3.241 -5.477 -2.381   0.86  1.821\n",
       "    7  set  2200       4    -2    0 ...  2.929 -5.221  -2.03  0.899  1.724\n",
       "    8  set  2200     4.5    -2    0 ...  2.546 -4.916  -1.63  0.916  1.621\n",
       "    9  set  2200       5    -2    0 ...   2.19 -4.639 -1.273  0.917  1.517\n",
       "  ...  ...   ...     ...   ...  ... ...    ...    ...    ...    ...    ...\n",
       "  343  set 16000     4.5    -2    0 ... -0.281  0.244 -0.214 -0.495 -0.752\n",
       "  344  set 16000       5    -2    0 ... -0.281  0.242 -0.211 -0.492 -0.756\n",
       "  345  set 17000     2.5    -2    0 ... -0.281  0.237 -0.219   -0.5 -0.749\n",
       "  346  set 17000       3    -2    0 ... -0.286  0.247 -0.223 -0.509 -0.759\n",
       "  347  set 17000     3.5    -2    0 ... -0.288  0.251 -0.224 -0.512 -0.766\n",
       "  348  set 17000       4    -2    0 ... -0.289  0.251 -0.222 -0.511 -0.771\n",
       "  349  set 17000     4.5    -2    0 ... -0.289  0.251  -0.22 -0.509 -0.775\n",
       "  350  set 17000       5    -2    0 ... -0.288  0.249 -0.217 -0.505 -0.779\n",
       "  351  set 18000     2.5    -2    0 ... -0.288  0.241 -0.223 -0.511 -0.768\n",
       "  352  set 18000       3    -2    0 ... -0.293  0.252 -0.228 -0.521 -0.779"
      ]
     },
     "execution_count": 124,
     "metadata": {},
     "output_type": "execute_result"
    }
   ],
   "source": [
    "temps"
   ]
  },
  {
   "cell_type": "markdown",
   "id": "e1017a30",
   "metadata": {},
   "source": [
    "# J0437"
   ]
  },
  {
   "cell_type": "code",
   "execution_count": 125,
   "id": "88749918",
   "metadata": {},
   "outputs": [],
   "source": [
    "bp_rp_0437=1.1612835\n",
    "bp_g_0437=-0.38355827\n",
    "g_rp_0437=0.7777252"
   ]
  },
  {
   "cell_type": "code",
   "execution_count": 126,
   "id": "3f9e25cb",
   "metadata": {},
   "outputs": [],
   "source": [
    "#find star most similar to J0437 and report temperture (secondary method when first fails)\n",
    "diff_0437=[]\n",
    "for xx in temps['Full']:\n",
    "    if temps['GbpGrp'][xx] == 'mag':\n",
    "        print('')\n",
    "    else:\n",
    "        diff_c=np.abs(bp_rp_0437-(float(temps['GbpGrp'][xx])))\n",
    "        diff_b=np.abs(bp_g_0437-(float(temps['GGbp'][xx])))\n",
    "        diff_r=np.abs(g_rp_0437-(float(temps['GGrp'][xx])))\n",
    "        tot=diff_c+diff_b+diff_r\n",
    "        diff_0437.append(tot)"
   ]
  },
  {
   "cell_type": "code",
   "execution_count": 130,
   "id": "9557521a",
   "metadata": {},
   "outputs": [
    {
     "data": {
      "text/html": [
       "&lt;Column name=&apos;Teff&apos; dtype=&apos;str5&apos; length=1&gt;\n",
       "<table>\n",
       "<tr><td>4750</td></tr>\n",
       "</table>"
      ],
      "text/plain": [
       "<Column name='Teff' dtype='str5' length=1>\n",
       "4750"
      ]
     },
     "execution_count": 130,
     "metadata": {},
     "output_type": "execute_result"
    }
   ],
   "source": [
    "np.min(diff_0437)\n",
    "val=np.where(diff_0437==(np.min(diff_0437)))\n",
    "temps['Teff'][val[0]]"
   ]
  },
  {
   "cell_type": "markdown",
   "id": "9b0b833b",
   "metadata": {},
   "source": [
    "# J1012"
   ]
  },
  {
   "cell_type": "code",
   "execution_count": 131,
   "id": "5595ec5a",
   "metadata": {},
   "outputs": [],
   "source": [
    "bp_rp_1012=0.2647648\n",
    "bp_g_1012=-0.12636375\n",
    "g_rp_1012=0.13840103"
   ]
  },
  {
   "cell_type": "code",
   "execution_count": 132,
   "id": "1bffceb7",
   "metadata": {},
   "outputs": [],
   "source": [
    "diff_1012=[]\n",
    "for xx in temps['Full']:\n",
    "    if temps['GbpGrp'][xx] == 'mag':\n",
    "        print()\n",
    "    else:\n",
    "        diff_c=np.abs(bp_rp_1012-(float(temps['GbpGrp'][xx])))\n",
    "        diff_b=np.abs(bp_g_1012-(float(temps['GGbp'][xx])))\n",
    "        diff_r=np.abs(g_rp_1012-(float(temps['GGrp'][xx])))\n",
    "        tot=diff_c+diff_b+diff_r\n",
    "        diff_1012.append(tot)"
   ]
  },
  {
   "cell_type": "code",
   "execution_count": 133,
   "id": "e22e1b9d",
   "metadata": {},
   "outputs": [
    {
     "data": {
      "text/html": [
       "&lt;Column name=&apos;Teff&apos; dtype=&apos;str5&apos; length=2&gt;\n",
       "<table>\n",
       "<tr><td>6750</td></tr>\n",
       "<tr><td>7750</td></tr>\n",
       "</table>"
      ],
      "text/plain": [
       "<Column name='Teff' dtype='str5' length=2>\n",
       "6750\n",
       "7750"
      ]
     },
     "execution_count": 133,
     "metadata": {},
     "output_type": "execute_result"
    }
   ],
   "source": [
    "np.min(diff_1012)\n",
    "val=np.where(diff_1012==(np.min(diff_1012)))\n",
    "temps['Teff'][val[0]-2]"
   ]
  },
  {
   "cell_type": "markdown",
   "id": "24b368f2",
   "metadata": {},
   "source": [
    "# J1024"
   ]
  },
  {
   "cell_type": "code",
   "execution_count": 4,
   "id": "80b19db5",
   "metadata": {},
   "outputs": [],
   "source": [
    "bp_rp_1024=1.8158054\n",
    "bp_g_1024=-0.9217968\n",
    "g_rp_1024=0.89400864"
   ]
  },
  {
   "cell_type": "code",
   "execution_count": 5,
   "id": "09a53cfa",
   "metadata": {},
   "outputs": [],
   "source": [
    "diff_1024=[]\n",
    "for xx in temps['Full']:\n",
    "    if temps['GbpGrp'][xx] == 'mag':\n",
    "        print()\n",
    "    else:\n",
    "        diff_c=np.abs(bp_rp_1024-(float(temps['GbpGrp'][xx])))\n",
    "        diff_b=np.abs(bp_g_1024-(float(temps['GGbp'][xx])))\n",
    "        diff_r=np.abs(g_rp_1024-(float(temps['GGrp'][xx])))\n",
    "        tot=diff_c+diff_b+diff_r\n",
    "        diff_1024.append(tot)"
   ]
  },
  {
   "cell_type": "code",
   "execution_count": 6,
   "id": "8a04daf7",
   "metadata": {},
   "outputs": [
    {
     "data": {
      "text/html": [
       "&lt;Column name=&apos;Teff&apos; dtype=&apos;str5&apos; length=1&gt;\n",
       "<table>\n",
       "<tr><td>3500</td></tr>\n",
       "</table>"
      ],
      "text/plain": [
       "<Column name='Teff' dtype='str5' length=1>\n",
       "3500"
      ]
     },
     "execution_count": 6,
     "metadata": {},
     "output_type": "execute_result"
    }
   ],
   "source": [
    "np.min(diff_1024)\n",
    "val=np.where(diff_1024==(np.min(diff_1024)))\n",
    "temps['Teff'][val[0]-3]"
   ]
  },
  {
   "cell_type": "code",
   "execution_count": 7,
   "id": "1c24a7ae",
   "metadata": {},
   "outputs": [
    {
     "data": {
      "text/plain": [
       "0.1375935599999999"
      ]
     },
     "execution_count": 7,
     "metadata": {},
     "output_type": "execute_result"
    }
   ],
   "source": [
    "np.min(diff_1024)"
   ]
  },
  {
   "cell_type": "markdown",
   "id": "d69078ac",
   "metadata": {},
   "source": [
    "# J1732"
   ]
  },
  {
   "cell_type": "code",
   "execution_count": 137,
   "id": "a37e0f10",
   "metadata": {},
   "outputs": [],
   "source": [
    "bp_rp_1732=1.5765476\n",
    "bp_g_1732=-0.5899906\n",
    "g_rp_1732=0.986557"
   ]
  },
  {
   "cell_type": "code",
   "execution_count": 138,
   "id": "02dbc6bc",
   "metadata": {},
   "outputs": [],
   "source": [
    "diff_1732=[]\n",
    "for xx in temps['Full']:\n",
    "    if temps['GbpGrp'][xx] == 'mag':\n",
    "        print()\n",
    "    else:\n",
    "        diff_c=np.abs(bp_rp_1732-(float(temps['GbpGrp'][xx])))\n",
    "        diff_b=np.abs(bp_g_1732-(float(temps['GGbp'][xx])))\n",
    "        diff_r=np.abs(g_rp_1732-(float(temps['GGrp'][xx])))\n",
    "        tot=diff_c+diff_b+diff_r\n",
    "        diff_1732.append(tot)"
   ]
  },
  {
   "cell_type": "code",
   "execution_count": 139,
   "id": "a0dc1ff0",
   "metadata": {},
   "outputs": [
    {
     "data": {
      "text/html": [
       "&lt;Column name=&apos;Teff&apos; dtype=&apos;str5&apos; length=1&gt;\n",
       "<table>\n",
       "<tr><td>4000</td></tr>\n",
       "</table>"
      ],
      "text/plain": [
       "<Column name='Teff' dtype='str5' length=1>\n",
       "4000"
      ]
     },
     "execution_count": 139,
     "metadata": {},
     "output_type": "execute_result"
    }
   ],
   "source": [
    "np.min(diff_1732)\n",
    "val=np.where(diff_1732==(np.min(diff_1732)))\n",
    "temps['Teff'][val[0]-3]"
   ]
  },
  {
   "cell_type": "markdown",
   "id": "10464b73",
   "metadata": {},
   "source": [
    "# J1747"
   ]
  },
  {
   "cell_type": "code",
   "execution_count": 140,
   "id": "8f424d7e",
   "metadata": {},
   "outputs": [],
   "source": [
    "bp_rp_1747=1.1890011\n",
    "bp_g_1747=-0.5493088\n",
    "g_rp_1747=0.6396923"
   ]
  },
  {
   "cell_type": "code",
   "execution_count": 141,
   "id": "902437e2",
   "metadata": {},
   "outputs": [],
   "source": [
    "diff_1747=[]\n",
    "for xx in temps['Full']:\n",
    "    if temps['GbpGrp'][xx] == 'mag':\n",
    "        print()\n",
    "    else:\n",
    "        diff_c=np.abs(bp_rp_1747-(float(temps['GbpGrp'][xx])))\n",
    "        diff_b=np.abs(bp_g_1747-(float(temps['GGbp'][xx])))\n",
    "        diff_r=np.abs(g_rp_1747-(float(temps['GGrp'][xx])))\n",
    "        tot=diff_c+diff_b+diff_r\n",
    "        diff_1747.append(tot)"
   ]
  },
  {
   "cell_type": "code",
   "execution_count": 142,
   "id": "104c314f",
   "metadata": {},
   "outputs": [
    {
     "data": {
      "text/html": [
       "&lt;Column name=&apos;Teff&apos; dtype=&apos;str5&apos; length=1&gt;\n",
       "<table>\n",
       "<tr><td>4750</td></tr>\n",
       "</table>"
      ],
      "text/plain": [
       "<Column name='Teff' dtype='str5' length=1>\n",
       "4750"
      ]
     },
     "execution_count": 142,
     "metadata": {},
     "output_type": "execute_result"
    }
   ],
   "source": [
    "np.min(diff_1747)\n",
    "val=np.where(diff_1747==(np.min(diff_1747)))\n",
    "temps['Teff'][val[0]-3]"
   ]
  },
  {
   "cell_type": "markdown",
   "id": "4a4eba56",
   "metadata": {},
   "source": [
    "# J1843"
   ]
  },
  {
   "cell_type": "code",
   "execution_count": 143,
   "id": "5f41276d",
   "metadata": {},
   "outputs": [],
   "source": [
    "bp_rp_1843=1.9608784\n",
    "bp_g_1843=-1.0885315\n",
    "g_rp_1843=0.8723469"
   ]
  },
  {
   "cell_type": "code",
   "execution_count": 144,
   "id": "a9d08c44",
   "metadata": {},
   "outputs": [],
   "source": [
    "diff_1843=[]\n",
    "for xx in temps['Full']:\n",
    "    if temps['GbpGrp'][xx] == 'mag':\n",
    "        print()\n",
    "    else:\n",
    "        diff_c=np.abs(bp_rp_1843-(float(temps['GbpGrp'][xx])))\n",
    "        diff_b=np.abs(bp_g_1843-(float(temps['GGbp'][xx])))\n",
    "        diff_r=np.abs(g_rp_1843-(float(temps['GGrp'][xx])))\n",
    "        tot=diff_c+diff_b+diff_r\n",
    "        diff_1843.append(tot)"
   ]
  },
  {
   "cell_type": "code",
   "execution_count": 145,
   "id": "fc16b6a2",
   "metadata": {},
   "outputs": [
    {
     "data": {
      "text/html": [
       "&lt;Column name=&apos;Teff&apos; dtype=&apos;str5&apos; length=2&gt;\n",
       "<table>\n",
       "<tr><td>3350</td></tr>\n",
       "<tr><td>3350</td></tr>\n",
       "</table>"
      ],
      "text/plain": [
       "<Column name='Teff' dtype='str5' length=2>\n",
       "3350\n",
       "3350"
      ]
     },
     "execution_count": 145,
     "metadata": {},
     "output_type": "execute_result"
    }
   ],
   "source": [
    "np.min(diff_1843)\n",
    "val=np.where(diff_1843==(np.min(diff_1843)))\n",
    "temps['Teff'][val[0]-3]"
   ]
  },
  {
   "cell_type": "code",
   "execution_count": null,
   "id": "ad540d28",
   "metadata": {},
   "outputs": [],
   "source": []
  }
 ],
 "metadata": {
  "kernelspec": {
   "display_name": "Python 3",
   "language": "python",
   "name": "python3"
  },
  "language_info": {
   "codemirror_mode": {
    "name": "ipython",
    "version": 3
   },
   "file_extension": ".py",
   "mimetype": "text/x-python",
   "name": "python",
   "nbconvert_exporter": "python",
   "pygments_lexer": "ipython3",
   "version": "3.8.8"
  }
 },
 "nbformat": 4,
 "nbformat_minor": 5
}
